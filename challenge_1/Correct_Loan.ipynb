{
 "cells": [
  {
   "cell_type": "code",
   "execution_count": 2,
   "id": "f5ee29b3-55a3-4d72-8536-4dbe456e00b1",
   "metadata": {},
   "outputs": [],
   "source": [
    "import csv\n",
    "from pathlib import Path\n",
    "# \"Part 1: Automate the Calculations.\n",
    "\n",
    "#Automate the calculations for the loan portfolio summaries.\n",
    "\n",
    "#First, let's start with some calculations on a list of prices for 5 loans.\n",
    "#    1. Use the `len` function to calculate the total number of loans in the list.\n",
    "#    2. Use the `sum` function to calculate the total of all loans in the list.\n",
    "#    3. Using the sum of all loans and the total number of loans, calculate the average loan price.\n",
    "#    4. Print all calculations with descriptive messages.\n"
   ]
  },
  {
   "cell_type": "code",
   "execution_count": null,
   "id": "d2ae3a4d-3bed-4550-aef4-7be5c760f0b1",
   "metadata": {},
   "outputs": [],
   "source": [
    "loan_costs = [500, 600, 200, 1000, 450]"
   ]
  },
  {
   "cell_type": "code",
   "execution_count": 6,
   "id": "3201b0e3-14df-4f2b-9f07-b2c280d333d3",
   "metadata": {},
   "outputs": [
    {
     "name": "stdout",
     "output_type": "stream",
     "text": [
      "The number of loans in the list is: 5\n",
      "The total amount of all the loans is: $ 2750\n",
      "The average loan amount is:$  550.0\n"
     ]
    }
   ],
   "source": [
    "loan_costs = [500, 600, 200, 1000, 450]\n",
    "# How many loans are in the list?\n",
    "# @TODO: Use the `len` function to calculate the total number of loans in the list.\n",
    "# Print the number of loans from the list\n",
    "\n",
    "print(\"The number of loans in the list is:\",len(loan_costs))\n",
    "\n",
    "# What is the total of all loans?\n",
    "# @TODO: Use the `sum` function to calculate the total of all loans in the list.\n",
    "# Print the total value of the loans\n",
    "print(\"The total amount of all the loans is: $\", sum(loan_costs))\n",
    "\n",
    "# What is the average loan amount from the list?\n",
    "# @TODO: Using the sum of all loans and the total number of loans, calculate the average loan price.\n",
    "# Print the average loan amount\n",
    "average_loan_amount = sum(loan_costs) / len(loan_costs)\n",
    "\n",
    "print(\"The average loan amount is:$ \", average_loan_amount)\n"
   ]
  },
  {
   "cell_type": "code",
   "execution_count": 4,
   "id": "b2c281ba-4f17-4080-8ce9-6c990def646a",
   "metadata": {},
   "outputs": [],
   "source": [
    "#\"Part 2: Analyze Loan Data.\n",
    "\n",
    "#Analyze the loan to determine the investment evaluation.\n",
    "\n",
    "#Using more detailed data on one of these loans, follow these steps to calculate a Present Value, or a \"fair price\" for what this loan would be worth.\n",
    "\n",
    "#1. Use get() on the dictionary of additional information to extract the **Future Value** and **Remaining Months** on the loan.\n",
    "#    a. Save these values as variables called `future_value` and `remaining_months`.\n",
    "#    b. Print each variable.\n",
    "#\n",
    "#    @NOTE:\n",
    "#    **Future Value**: The amount of money the borrower has to pay back upon maturity of the loan (a.k.a. \"Face Value\")\n",
    "#    **Remaining Months**: The remaining maturity (in months) before the loan needs to be fully repaid.\n",
    "#\n",
    "#2. Use the formula for Present Value to calculate a \"fair value\" of the loan. Use a minimum required return of 20% as the discount rate.\n",
    "#3. Write a conditional statement (an if-else statement) to decide if the present value represents the loan's fair value.\n",
    "#    a. If the present value of the loan is greater than or equal to the cost, then print a message that says the loan is worth at least the cost to buy it.\n",
    "#    b. Else, the present value of the loan is less than the loan cost, then print a message that says that the loan is too expensive and not worth the price.\n",
    "\n",
    "#    @NOTE:\n",
    "#    If Present Value represents the loan's fair value (given the required minimum return of 20%), does it make sense to buy the loan at its current cost?"
   ]
  },
  {
   "cell_type": "code",
   "execution_count": 7,
   "id": "278d853b-2d9a-4868-8e7f-6f5830c994c6",
   "metadata": {},
   "outputs": [
    {
     "name": "stdout",
     "output_type": "stream",
     "text": [
      "The future value of the loan is: $ 1000\n",
      "The number of month remaining is:  9\n",
      "The loan is too expensive and not worth the price\n"
     ]
    }
   ],
   "source": [
    "# Given the following loan data, you will need to calculate the present value for the loan\n",
    "loan = {\n",
    "    \"loan_price\": 500,\n",
    "    \"remaining_months\": 9,\n",
    "    \"repayment_interval\": \"bullet\",\n",
    "    \"future_value\": 1000,\n",
    "}\n",
    "\n",
    "# @TODO: Use get() on the dictionary of additional information to extract the Future Value and Remaining Months on the loan.\n",
    "# Print each variable.\n",
    "future_value = loan.get(\"future_value\") \n",
    "remaining_months = loan.get(\"remaining_months\")\n",
    "\n",
    "print(f\"The future value of the loan is: $\", future_value)\n",
    "print(f\"The number of month remaining is: \", remaining_months)\n",
    "\n",
    "\n",
    "# @TODO: Use the formula for Present Value to calculate a \"fair value\" of the loan.\n",
    "# Use a minimum required return of 20% as the discount rate.\n",
    "#   You'll want to use the **monthly** version of the present value formula.\n",
    "#   HINT: Present Value = Future Value / (1 + Discount_Rate/12) ** remaining_months\n",
    "\n",
    "discount_rate = 0.20\n",
    "present_value = future_value / (1 + discount_rate/12) ** remaining_months\n",
    "\n",
    "\n",
    "# If Present Value represents what the loan is really worth, does it make sense to buy the loan at its cost?\n",
    "# @TODO: Write a conditional statement (an if-else statement) to decide if the present value represents the loan's fair value.\n",
    "#    If the present value of the loan is greater than or equal to the cost, then print a message that says the loan is worth at least the cost to buy it.\n",
    "#    Else, the present value of the loan is less than the loan cost, then print a message that says that the loan is too expensive and not worth the price.\n",
    "if present_value >= future_value:\n",
    "    print(\"The is worth at least the cost to buy it\")\n",
    "elif present_value < future_value:\n",
    "    print(\"The loan is too expensive and not worth the price\")"
   ]
  },
  {
   "cell_type": "code",
   "execution_count": 8,
   "id": "7b3fcae0-bb81-41d3-a5fc-f8d21fc8de29",
   "metadata": {},
   "outputs": [],
   "source": [
    "#Part 3: Perform Financial Calculations.\n",
    "\n",
    "#Perform financial calculations using functions.\n",
    "\n",
    "#1. Define a new function that will be used to calculate present value.\n",
    "#    a. This function should include parameters for `future_value`, `remaining_months`, and the `annual_discount_rate`\n",
    "#    b. The function should return the `present_value` for the loan.\n",
    "#2. Use the function to calculate the present value of the new loan given below.\n",
    "#    a. Use an `annual_discount_rate` of 0.2 for this new loan calculation."
   ]
  },
  {
   "cell_type": "code",
   "execution_count": 9,
   "id": "bf705489-9d42-4d3c-b29c-b79038157fc8",
   "metadata": {},
   "outputs": [
    {
     "name": "stdout",
     "output_type": "stream",
     "text": [
      "The present value of the loan is:  820.08\n"
     ]
    }
   ],
   "source": [
    "# Given the following loan data, you will need to calculate the present value for the loan\n",
    "new_loan = {\n",
    "    \"loan_price\": 800,\n",
    "    \"remaining_months\": 12,\n",
    "    \"repayment_interval\": \"bullet\",\n",
    "    \"future_value\": 1000,\n",
    "}\n",
    "\n",
    "# @TODO: Define a new function that will be used to calculate present value.\n",
    "#    This function should include parameters for `future_value`, `remaining_months`, and the `annual_discount_rate`\n",
    "#    The function should return the `present_value` for the loan.\n",
    "\n",
    "def calculate_present_value(future_value, remaining_months, annual_discount_rate):\n",
    "     present_value = future_value / (1 + annual_discount_rate/12) ** remaining_months\n",
    "     \n",
    "     return present_value \n",
    "\n",
    "\n",
    "# @TODO: Use the function to calculate the present value of the new loan given below.\n",
    "#    Use an `annual_discount_rate` of 0.2 for this new loan calculation.\n",
    "\n",
    "annual_discount_rate = 0.2\n",
    "\n",
    "present_value = calculate_present_value(new_loan[\"future_value\"], new_loan[\"remaining_months\"], annual_discount_rate)\n",
    "\n",
    "print(f\"The present value of the loan is: {present_value: .2f}\")\n"
   ]
  },
  {
   "cell_type": "code",
   "execution_count": 10,
   "id": "a3f7378b-19b3-406a-8e7a-b504748a2d10",
   "metadata": {},
   "outputs": [],
   "source": [
    "#Part 4: Conditionally filter lists of loans.\n",
    "\n",
    "#In this section, you will use a loop to iterate through a series of loans and select only the inexpensive loans.\n",
    "\n",
    "#1. Create a new, empty list called `inexpensive_loans`.\n",
    "#2. Use a for loop to select each loan from a list of loans.\n",
    "#    a. Inside the for loop, write an if-statement to determine if the loan_price is less than 500\n",
    "#    b. If the loan_price is less than 500 then append that loan to the `inexpensive_loans` list.\n",
    "#3. Print the list of inexpensive_loans.\n"
   ]
  },
  {
   "cell_type": "code",
   "execution_count": 3,
   "id": "99a3b9a2-d711-4d53-ac53-46a6b3c1d147",
   "metadata": {
    "tags": []
   },
   "outputs": [
    {
     "name": "stdout",
     "output_type": "stream",
     "text": [
      "[{'loan_price': 500, 'remaining_months': 13, 'repayment_interval': 'bullet', 'future_value': 1000}, {'loan_price': 200, 'remaining_months': 16, 'repayment_interval': 'bullet', 'future_value': 1000}]\n"
     ]
    }
   ],
   "source": [
    "loans = [\n",
    "    {\n",
    "        \"loan_price\": 700,\n",
    "        \"remaining_months\": 9,\n",
    "        \"repayment_interval\": \"monthly\",\n",
    "        \"future_value\": 1000,\n",
    "    },\n",
    "    {\n",
    "        \"loan_price\": 500,\n",
    "        \"remaining_months\": 13,\n",
    "        \"repayment_interval\": \"bullet\",\n",
    "        \"future_value\": 1000,\n",
    "    },\n",
    "    {\n",
    "        \"loan_price\": 200,\n",
    "        \"remaining_months\": 16,\n",
    "        \"repayment_interval\": \"bullet\",\n",
    "        \"future_value\": 1000,\n",
    "    },\n",
    "    {\n",
    "        \"loan_price\": 900,\n",
    "        \"remaining_months\": 16,\n",
    "        \"repayment_interval\": \"bullet\",\n",
    "        \"future_value\": 1000,\n",
    "    },\n",
    "]\n",
    "\n",
    "# @TODO: Create an empty list called `inexpensive_loans`\n",
    "inexpensive_loans = []\n",
    "\n",
    "# @TODO: Loop through all the loans and append any that cost $500 or less to the `inexpensive_loans` list\n",
    "\n",
    "for key in loans:\n",
    "    \n",
    "     if key[\"loan_price\"] <= 500:\n",
    "        inexpensive_loans.append(key)\n",
    "       \n",
    " # @TODO: Print the `inexpensive_loans` list\n",
    "print(inexpensive_loans)\n",
    "\n",
    "# Part 5\n",
    "import csv\n",
    "from pathlib import Path\n",
    "\n",
    "# Set the output header\n",
    "header = [\"loan_price\", \"remaining_months\", \"repayment_interval\", \"future_value\"]\n",
    "\n",
    "# Set the output file path\n",
    "output_path = Path(\"inexpensive_loans.csv\")\n",
    "\n",
    "# @TODO: Use the csv library and `csv.writer` to write the header row\n",
    "# and each row of `loan.values()` from the `inexpensive_loans` list.\n",
    "with open(output_path, 'w', newline='') as csvfile:\n",
    "    csvwriter = csv.writer(csvfile) \n",
    "\n",
    "    csvwriter.writerow(header)\n",
    "\n",
    "    for loan in inexpensive_loans:\n",
    "        csvwriter.writerow(loan.values())"
   ]
  },
  {
   "cell_type": "code",
   "execution_count": 2,
   "id": "c429086c-290d-4ddf-a116-ac46bdf74850",
   "metadata": {},
   "outputs": [],
   "source": [
    "#Part 5: Save the results.\n",
    "\n",
    "#Output this list of inexpensive loans to a csv file\n",
    "#    1. Use `with open` to open a new CSV file.\n",
    "#        a. Create a `csvwriter` using the `csv` library.\n",
    "#        b. Use the new csvwriter to write the header variable as the first row.\n",
    "#        c. Use a for loop to iterate through each loan in `inexpensive_loans`.\n",
    "#            i. Use the csvwriter to write the `loan.values()` to a row in the CSV file.\n",
    "\n",
    "#    Hint: Refer to the official documentation for the csv library.\n",
    "#    https://docs.python.org/3/library/csv.html#writer-objects\n"
   ]
  },
  {
   "cell_type": "code",
   "execution_count": null,
   "id": "adb71cd7-c7fe-4de4-862f-d27d4085ed55",
   "metadata": {},
   "outputs": [],
   "source": []
  }
 ],
 "metadata": {
  "kernelspec": {
   "display_name": "Python 3 (ipykernel)",
   "language": "python",
   "name": "python3"
  },
  "language_info": {
   "codemirror_mode": {
    "name": "ipython",
    "version": 3
   },
   "file_extension": ".py",
   "mimetype": "text/x-python",
   "name": "python",
   "nbconvert_exporter": "python",
   "pygments_lexer": "ipython3",
   "version": "3.8.8"
  }
 },
 "nbformat": 4,
 "nbformat_minor": 5
}
