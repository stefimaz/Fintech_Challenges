{
 "cells": [
  {
   "cell_type": "markdown",
   "metadata": {},
   "source": [
    "# Financial Planning with APIs and Simulations\n",
    "\n",
    "In this Challenge, you’ll create two financial analysis tools by using a single Jupyter notebook:\n",
    "\n",
    "Part 1: A financial planner for emergencies. The members will be able to use this tool to visualize their current savings. The members can then determine if they have enough reserves for an emergency fund.\n",
    "\n",
    "Part 2: A financial planner for retirement. This tool will forecast the performance of their retirement portfolio in 30 years. To do this, the tool will make an Alpaca API call via the Alpaca SDK to get historical price data for use in Monte Carlo simulations.\n",
    "\n",
    "You’ll use the information from the Monte Carlo simulation to answer questions about the portfolio in your Jupyter notebook.\n",
    "\n"
   ]
  },
  {
   "cell_type": "code",
   "execution_count": 17,
   "metadata": {},
   "outputs": [],
   "source": [
    "# Import the required libraries and dependencies\n",
    "import os\n",
    "import requests\n",
    "import json\n",
    "import pandas as pd\n",
    "from dotenv import load_dotenv\n",
    "import alpaca_trade_api as tradeapi\n",
    "from MCForecastTools import MCSimulation\n",
    "\n",
    "%matplotlib inline"
   ]
  },
  {
   "cell_type": "code",
   "execution_count": 18,
   "metadata": {},
   "outputs": [
    {
     "data": {
      "text/plain": [
       "True"
      ]
     },
     "execution_count": 18,
     "metadata": {},
     "output_type": "execute_result"
    }
   ],
   "source": [
    "# Load the environment variables from the .env file\n",
    "#by calling the load_dotenv function\n",
    "load_dotenv()"
   ]
  },
  {
   "cell_type": "markdown",
   "metadata": {},
   "source": [
    "## Part 1: Create a Financial Planner for Emergencies"
   ]
  },
  {
   "cell_type": "markdown",
   "metadata": {},
   "source": [
    "### Evaluate the Cryptocurrency Wallet by Using the Requests Library\n",
    "\n",
    "In this section, you’ll determine the current value of a member’s cryptocurrency wallet. You’ll collect the current prices for the Bitcoin and Ethereum cryptocurrencies by using the Python Requests library. For the prototype, you’ll assume that the member holds the 1.2 Bitcoins (BTC) and 5.3 Ethereum coins (ETH). To do all this, complete the following steps:\n",
    "\n",
    "1. Create a variable named `monthly_income`, and set its value to `12000`.\n",
    "\n",
    "2. Use the Requests library to get the current price (in US dollars) of Bitcoin (BTC) and Ethereum (ETH) by using the API endpoints that the starter code supplies.\n",
    "\n",
    "3. Navigate the JSON response object to access the current price of each coin, and store each in a variable.\n",
    "\n",
    "    > **Hint** Note the specific identifier for each cryptocurrency in the API JSON response. The Bitcoin identifier is `1`, and the Ethereum identifier is `1027`.\n",
    "\n",
    "4. Calculate the value, in US dollars, of the current amount of each cryptocurrency and of the entire cryptocurrency wallet.\n",
    "\n"
   ]
  },
  {
   "cell_type": "code",
   "execution_count": 19,
   "metadata": {},
   "outputs": [],
   "source": [
    "# The current number of coins for each cryptocurrency asset held in the portfolio.\n",
    "btc_coins = 1.2\n",
    "eth_coins = 5.3"
   ]
  },
  {
   "cell_type": "markdown",
   "metadata": {},
   "source": [
    "#### Step 1: Create a variable named `monthly_income`, and set its value to `12000`."
   ]
  },
  {
   "cell_type": "code",
   "execution_count": 20,
   "metadata": {},
   "outputs": [],
   "source": [
    "# The monthly amount for the member's household income\n",
    "monthly_income = 12000\n"
   ]
  },
  {
   "cell_type": "markdown",
   "metadata": {},
   "source": [
    "#### Review the endpoint URLs for the API calls to Free Crypto API in order to get the current pricing information for both BTC and ETH."
   ]
  },
  {
   "cell_type": "code",
   "execution_count": 21,
   "metadata": {},
   "outputs": [],
   "source": [
    "# The Free Crypto API Call endpoint URLs for the held cryptocurrency assets\n",
    "btc_url = \"https://api.alternative.me/v2/ticker/Bitcoin/?convert=USD\"\n",
    "eth_url = \"https://api.alternative.me/v2/ticker/Ethereum/?convert=USD\""
   ]
  },
  {
   "cell_type": "markdown",
   "metadata": {},
   "source": [
    "#### Step 2. Use the Requests library to get the current price (in US dollars) of Bitcoin (BTC) and Ethereum (ETH) by using the API endpoints that the starter code supplied."
   ]
  },
  {
   "cell_type": "code",
   "execution_count": 22,
   "metadata": {},
   "outputs": [
    {
     "name": "stdout",
     "output_type": "stream",
     "text": [
      "{\n",
      "    \"data\": {\n",
      "        \"1\": {\n",
      "            \"circulating_supply\": 18842900,\n",
      "            \"id\": 1,\n",
      "            \"last_updated\": 1634155979,\n",
      "            \"max_supply\": 21000000,\n",
      "            \"name\": \"Bitcoin\",\n",
      "            \"quotes\": {\n",
      "                \"USD\": {\n",
      "                    \"market_cap\": 1079272873786,\n",
      "                    \"percent_change_1h\": 0.514208350251544,\n",
      "                    \"percent_change_24h\": 4.7110542227841,\n",
      "                    \"percent_change_7d\": 11.349957150791,\n",
      "                    \"percentage_change_1h\": 0.514208350251544,\n",
      "                    \"percentage_change_24h\": 4.7110542227841,\n",
      "                    \"percentage_change_7d\": 11.349957150791,\n",
      "                    \"price\": 57533.0,\n",
      "                    \"volume_24h\": 41312272831\n",
      "                }\n",
      "            },\n",
      "            \"rank\": 1,\n",
      "            \"symbol\": \"BTC\",\n",
      "            \"total_supply\": 18842900,\n",
      "            \"website_slug\": \"bitcoin\"\n",
      "        }\n",
      "    },\n",
      "    \"metadata\": {\n",
      "        \"error\": null,\n",
      "        \"num_cryptocurrencies\": 3105,\n",
      "        \"timestamp\": 1634155979\n",
      "    }\n",
      "}\n"
     ]
    }
   ],
   "source": [
    "# Using the Python requests library, make an API call to access the current price of BTC\n",
    "btc_response = requests.get(btc_url).json()\n",
    "\n",
    "# Use the json.dumps function to review the response data from the API call\n",
    "# Use the indent and sort_keys parameters to make the response object readable\n",
    "print(json.dumps(btc_response, indent= 4, sort_keys= True))\n"
   ]
  },
  {
   "cell_type": "code",
   "execution_count": 23,
   "metadata": {},
   "outputs": [
    {
     "name": "stdout",
     "output_type": "stream",
     "text": [
      "{\n",
      "    \"data\": {\n",
      "        \"1027\": {\n",
      "            \"circulating_supply\": 117913911,\n",
      "            \"id\": 1027,\n",
      "            \"last_updated\": 1634156003,\n",
      "            \"max_supply\": 0,\n",
      "            \"name\": \"Ethereum\",\n",
      "            \"quotes\": {\n",
      "                \"USD\": {\n",
      "                    \"market_cap\": 416760615957,\n",
      "                    \"percent_change_1h\": 0.282817907513806,\n",
      "                    \"percent_change_24h\": 2.14396747567196,\n",
      "                    \"percent_change_7d\": 0.654882466613152,\n",
      "                    \"percentage_change_1h\": 0.282817907513806,\n",
      "                    \"percentage_change_24h\": 2.14396747567196,\n",
      "                    \"percentage_change_7d\": 0.654882466613152,\n",
      "                    \"price\": 3543.4,\n",
      "                    \"volume_24h\": 17248927276\n",
      "                }\n",
      "            },\n",
      "            \"rank\": 2,\n",
      "            \"symbol\": \"ETH\",\n",
      "            \"total_supply\": 117913911,\n",
      "            \"website_slug\": \"ethereum\"\n",
      "        }\n",
      "    },\n",
      "    \"metadata\": {\n",
      "        \"error\": null,\n",
      "        \"num_cryptocurrencies\": 3105,\n",
      "        \"timestamp\": 1634156003\n",
      "    }\n",
      "}\n"
     ]
    }
   ],
   "source": [
    "# Using the Python requests library, make an API call to access the current price ETH\n",
    "eth_response = requests.get(eth_url).json()\n",
    "\n",
    "# Use the json.dumps function to review the response data from the API call\n",
    "# Use the indent and sort_keys parameters to make the response object readable\n",
    "print(json.dumps(eth_response, indent= 4, sort_keys= True))\n"
   ]
  },
  {
   "cell_type": "markdown",
   "metadata": {},
   "source": [
    "#### Step 3: Navigate the JSON response object to access the current price of each coin, and store each in a variable."
   ]
  },
  {
   "cell_type": "code",
   "execution_count": 24,
   "metadata": {},
   "outputs": [
    {
     "name": "stdout",
     "output_type": "stream",
     "text": [
      "The current USD price for BTC is: $57533.0\n"
     ]
    }
   ],
   "source": [
    "# Navigate the BTC response object to access the current price of BTC\n",
    "btc_price = btc_response[\"data\"][\"1\"][\"quotes\"][\"USD\"][\"price\"]\n",
    "\n",
    "# Print the current price of BTC\n",
    "print(f\"The current USD price for BTC is: ${btc_price}\")\n"
   ]
  },
  {
   "cell_type": "code",
   "execution_count": 25,
   "metadata": {},
   "outputs": [
    {
     "name": "stdout",
     "output_type": "stream",
     "text": [
      "The current USD price for ETH is: $3543.4\n"
     ]
    }
   ],
   "source": [
    "# Navigate the BTC response object to access the current price of ETH\n",
    "eth_price = eth_response[\"data\"][\"1027\"][\"quotes\"][\"USD\"][\"price\"]\n",
    "\n",
    "# Print the current price of ETH\n",
    "print(f\"The current USD price for ETH is: ${eth_price}\")\n"
   ]
  },
  {
   "cell_type": "markdown",
   "metadata": {},
   "source": [
    "### Step 4: Calculate the value, in US dollars, of the current amount of each cryptocurrency and of the entire cryptocurrency wallet."
   ]
  },
  {
   "cell_type": "code",
   "execution_count": 26,
   "metadata": {},
   "outputs": [
    {
     "name": "stdout",
     "output_type": "stream",
     "text": [
      "The current value of your holding in BTC is: $69039.59999999999\n"
     ]
    }
   ],
   "source": [
    "# Compute the current value of the BTC holding \n",
    "btc_value = btc_price * btc_coins\n",
    "\n",
    "# Print current value of your holding in BTC\n",
    "print(f\"The current value of your holding in BTC is: ${btc_value}\")\n"
   ]
  },
  {
   "cell_type": "code",
   "execution_count": 27,
   "metadata": {},
   "outputs": [
    {
     "name": "stdout",
     "output_type": "stream",
     "text": [
      "The current value of your holding in ETH is: $18780.02\n"
     ]
    }
   ],
   "source": [
    "# Compute the current value of the ETH holding \n",
    "eth_value = eth_price * eth_coins\n",
    "\n",
    "# Print current value of your holding in ETH\n",
    "print(f\"The current value of your holding in ETH is: ${eth_value}\")\n"
   ]
  },
  {
   "cell_type": "code",
   "execution_count": 28,
   "metadata": {},
   "outputs": [
    {
     "name": "stdout",
     "output_type": "stream",
     "text": [
      "Your total cryptocurrency wallet balance is: $87819.62\n"
     ]
    }
   ],
   "source": [
    "# Compute the total value of the cryptocurrency wallet\n",
    "# Add the value of the BTC holding to the value of the ETH holding\n",
    "total_crypto_wallet = btc_value + eth_value\n",
    "\n",
    "# Print current cryptocurrency wallet balance\n",
    "print(f\"Your total cryptocurrency wallet balance is: ${total_crypto_wallet}\")\n"
   ]
  },
  {
   "cell_type": "markdown",
   "metadata": {},
   "source": [
    "### Evaluate the Stock and Bond Holdings by Using the Alpaca SDK\n",
    "\n",
    "In this section, you’ll determine the current value of a member’s stock and bond holdings. You’ll make an API call to Alpaca via the Alpaca SDK to get the current closing prices of the SPDR S&P 500 ETF Trust (ticker: SPY) and of the iShares Core US Aggregate Bond ETF (ticker: AGG). For the prototype, assume that the member holds 110 shares of SPY, which represents the stock portion of their portfolio, and 200 shares of AGG, which represents the bond portion. To do all this, complete the following steps:\n",
    "\n",
    "1. In the `Starter_Code` folder, create an environment file (`.env`) to store the values of your Alpaca API key and Alpaca secret key.\n",
    "\n",
    "2. Set the variables for the Alpaca API and secret keys. Using the Alpaca SDK, create the Alpaca `tradeapi.REST` object. In this object, include the parameters for the Alpaca API key, the secret key, and the version number.\n",
    "\n",
    "3. Set the following parameters for the Alpaca API call:\n",
    "\n",
    "    - `tickers`: Use the tickers for the member’s stock and bond holdings.\n",
    "\n",
    "    - `timeframe`: Use a time frame of one day.\n",
    "\n",
    "    - `start_date` and `end_date`: Use the same date for these parameters, and format them with the date of the previous weekday (or `2020-08-07`). This is because you want the one closing price for the most-recent trading day.\n",
    "\n",
    "4. Get the current closing prices for `SPY` and `AGG` by using the Alpaca `get_barset` function. Format the response as a Pandas DataFrame by including the `df` property at the end of the `get_barset` function.\n",
    "\n",
    "5. Navigating the Alpaca response DataFrame, select the `SPY` and `AGG` closing prices, and store them as variables.\n",
    "\n",
    "6. Calculate the value, in US dollars, of the current amount of shares in each of the stock and bond portions of the portfolio, and print the results.\n"
   ]
  },
  {
   "cell_type": "markdown",
   "metadata": {},
   "source": [
    "#### Review the total number of shares held in both (SPY) and (AGG)."
   ]
  },
  {
   "cell_type": "code",
   "execution_count": 29,
   "metadata": {},
   "outputs": [],
   "source": [
    "# Current amount of shares held in both the stock (SPY) and bond (AGG) portion of the portfolio.\n",
    "spy_shares = 110\n",
    "agg_shares = 200\n"
   ]
  },
  {
   "cell_type": "markdown",
   "metadata": {},
   "source": [
    "#### Step 1: In the `Starter_Code` folder, create an environment file (`.env`) to store the values of your Alpaca API key and Alpaca secret key."
   ]
  },
  {
   "cell_type": "markdown",
   "metadata": {},
   "source": [
    "#### Step 2: Set the variables for the Alpaca API and secret keys. Using the Alpaca SDK, create the Alpaca `tradeapi.REST` object. In this object, include the parameters for the Alpaca API key, the secret key, and the version number."
   ]
  },
  {
   "cell_type": "code",
   "execution_count": 30,
   "metadata": {},
   "outputs": [],
   "source": [
    "# Set the variables for the Alpaca API and secret keys\n",
    "alpaca_api_key = os.getenv(\"ALPACA_API_KEY\")\n",
    "alpaca_secret_key = os.getenv(\"ALPACA_SECRET_KEY\")\n",
    "\n",
    "# Create the Alpaca tradeapi.REST object\n",
    "alpaca = tradeapi.REST(alpaca_api_key, alpaca_secret_key, api_version= \"v2\")\n"
   ]
  },
  {
   "cell_type": "markdown",
   "metadata": {},
   "source": [
    "#### Step 3: Set the following parameters for the Alpaca API call:\n",
    "\n",
    "- `tickers`: Use the tickers for the member’s stock and bond holdings.\n",
    "\n",
    "- `timeframe`: Use a time frame of one day.\n",
    "\n",
    "- `start_date` and `end_date`: Use the same date for these parameters, and format them with the date of the previous weekday (or `2020-08-07`). This is because you want the one closing price for the most-recent trading day.\n"
   ]
  },
  {
   "cell_type": "code",
   "execution_count": 31,
   "metadata": {},
   "outputs": [],
   "source": [
    "# Set the tickers for both the bond and stock portion of the portfolio\n",
    "tickers = [\"SPY\", \"AGG\"]\n",
    "\n",
    "# Set timeframe to 1D \n",
    "timeframe = \"1D\"\n",
    "\n",
    "# Format current date as ISO format\n",
    "# Set both the start and end date at the date of your prior weekday \n",
    "# This will give you the closing price of the previous trading day\n",
    "# Alternatively you can use a start and end date of 2020-08-07\n",
    "start_date = pd.Timestamp(\"2021-10-12\", tz=\"America/New_York\").isoformat() \n",
    "end_date = pd.Timestamp(\"2021-10-12\", tz=\"America/New_York\").isoformat()\n"
   ]
  },
  {
   "cell_type": "markdown",
   "metadata": {},
   "source": [
    "#### Step 4: Get the current closing prices for `SPY` and `AGG` by using the Alpaca `get_barset` function. Format the response as a Pandas DataFrame by including the `df` property at the end of the `get_barset` function."
   ]
  },
  {
   "cell_type": "code",
   "execution_count": 140,
   "metadata": {},
   "outputs": [
    {
     "data": {
      "text/html": [
       "<div>\n",
       "<style scoped>\n",
       "    .dataframe tbody tr th:only-of-type {\n",
       "        vertical-align: middle;\n",
       "    }\n",
       "\n",
       "    .dataframe tbody tr th {\n",
       "        vertical-align: top;\n",
       "    }\n",
       "\n",
       "    .dataframe thead tr th {\n",
       "        text-align: left;\n",
       "    }\n",
       "\n",
       "    .dataframe thead tr:last-of-type th {\n",
       "        text-align: right;\n",
       "    }\n",
       "</style>\n",
       "<table border=\"1\" class=\"dataframe\">\n",
       "  <thead>\n",
       "    <tr>\n",
       "      <th></th>\n",
       "      <th colspan=\"5\" halign=\"left\">AGG</th>\n",
       "      <th colspan=\"5\" halign=\"left\">SPY</th>\n",
       "    </tr>\n",
       "    <tr>\n",
       "      <th></th>\n",
       "      <th>open</th>\n",
       "      <th>high</th>\n",
       "      <th>low</th>\n",
       "      <th>close</th>\n",
       "      <th>volume</th>\n",
       "      <th>open</th>\n",
       "      <th>high</th>\n",
       "      <th>low</th>\n",
       "      <th>close</th>\n",
       "      <th>volume</th>\n",
       "    </tr>\n",
       "    <tr>\n",
       "      <th>time</th>\n",
       "      <th></th>\n",
       "      <th></th>\n",
       "      <th></th>\n",
       "      <th></th>\n",
       "      <th></th>\n",
       "      <th></th>\n",
       "      <th></th>\n",
       "      <th></th>\n",
       "      <th></th>\n",
       "      <th></th>\n",
       "    </tr>\n",
       "  </thead>\n",
       "  <tbody>\n",
       "    <tr>\n",
       "      <th>2021-10-12 00:00:00-04:00</th>\n",
       "      <td>114.17</td>\n",
       "      <td>114.38</td>\n",
       "      <td>114.11</td>\n",
       "      <td>114.355</td>\n",
       "      <td>3521504</td>\n",
       "      <td>435.67</td>\n",
       "      <td>436.1</td>\n",
       "      <td>432.78</td>\n",
       "      <td>433.63</td>\n",
       "      <td>61078594</td>\n",
       "    </tr>\n",
       "  </tbody>\n",
       "</table>\n",
       "</div>"
      ],
      "text/plain": [
       "                              AGG                                       SPY  \\\n",
       "                             open    high     low    close   volume    open   \n",
       "time                                                                          \n",
       "2021-10-12 00:00:00-04:00  114.17  114.38  114.11  114.355  3521504  435.67   \n",
       "\n",
       "                                                            \n",
       "                            high     low   close    volume  \n",
       "time                                                        \n",
       "2021-10-12 00:00:00-04:00  436.1  432.78  433.63  61078594  "
      ]
     },
     "execution_count": 140,
     "metadata": {},
     "output_type": "execute_result"
    }
   ],
   "source": [
    "# Use the Alpaca get_barset function to get current closing prices the portfolio\n",
    "# Be sure to set the `df` property after the function to format the response object as a DataFrame\n",
    "current_prices_df = alpaca.get_barset(tickers, timeframe, start= start_date, end= end_date).df\n",
    "\n",
    "# Review the first 5 rows of the Alpaca DataFrame\n",
    "current_prices_df.head()\n"
   ]
  },
  {
   "cell_type": "markdown",
   "metadata": {},
   "source": [
    "#### Step 5: Navigating the Alpaca response DataFrame, select the `SPY` and `AGG` closing prices, and store them as variables."
   ]
  },
  {
   "cell_type": "code",
   "execution_count": 188,
   "metadata": {},
   "outputs": [
    {
     "name": "stdout",
     "output_type": "stream",
     "text": [
      "114.355\n"
     ]
    }
   ],
   "source": [
    "# Access the closing price for AGG from the Alpaca DataFrame\n",
    "# Converting the value to a floating point number\n",
    "agg_close_price = float(current_prices_df[\"AGG\"][\"close\"])\n",
    "\n",
    "# Print the AGG closing price\n",
    "print(agg_close_price)\n"
   ]
  },
  {
   "cell_type": "code",
   "execution_count": 189,
   "metadata": {},
   "outputs": [
    {
     "name": "stdout",
     "output_type": "stream",
     "text": [
      "433.63\n"
     ]
    }
   ],
   "source": [
    "# Access the closing price for SPY from the Alpaca DataFrame\n",
    "# Converting the value to a floating point number\n",
    "spy_close_price = float(current_prices_df[\"SPY\"][\"close\"])\n",
    "\n",
    "# Print the SPY closing price\n",
    "print(spy_close_price)\n"
   ]
  },
  {
   "cell_type": "markdown",
   "metadata": {},
   "source": [
    "#### Step 6: Calculate the value, in US dollars, of the current amount of shares in each of the stock and bond portions of the portfolio, and print the results."
   ]
  },
  {
   "cell_type": "code",
   "execution_count": 190,
   "metadata": {},
   "outputs": [
    {
     "name": "stdout",
     "output_type": "stream",
     "text": [
      "Your bond portofolio has a value of: 22871.0\n"
     ]
    }
   ],
   "source": [
    "# Calculate the current value of the bond portion of the portfolio\n",
    "agg_value = agg_shares * agg_close_price\n",
    "\n",
    "# Print the current value of the bond portfolio\n",
    "print(f\"Your bond portofolio has a value of: {agg_value}\")\n"
   ]
  },
  {
   "cell_type": "code",
   "execution_count": 191,
   "metadata": {},
   "outputs": [
    {
     "name": "stdout",
     "output_type": "stream",
     "text": [
      "Your stock portfolio has a vlaue of:47699.3\n"
     ]
    }
   ],
   "source": [
    "# Calculate the current value of the stock portion of the portfolio\n",
    "spy_value = spy_shares * spy_close_price\n",
    "\n",
    "# Print the current value of the stock portfolio\n",
    "print(f\"Your stock portfolio has a vlaue of:{spy_value}\")\n"
   ]
  },
  {
   "cell_type": "code",
   "execution_count": 192,
   "metadata": {},
   "outputs": [
    {
     "name": "stdout",
     "output_type": "stream",
     "text": [
      "Your total stock and bond portfolio value is:70570.3\n"
     ]
    }
   ],
   "source": [
    "# Calculate the total value of the stock and bond portion of the portfolio\n",
    "total_stocks_bonds = agg_value + spy_value\n",
    "\n",
    "# Print the current balance of the stock and bond portion of the portfolio\n",
    "print(f\"Your total stock and bond portfolio value is:{total_stocks_bonds}\")\n"
   ]
  },
  {
   "cell_type": "code",
   "execution_count": 194,
   "metadata": {},
   "outputs": [
    {
     "name": "stdout",
     "output_type": "stream",
     "text": [
      "The total porfolio balance is: 158389.92\n"
     ]
    }
   ],
   "source": [
    "# Calculate the total value of the member's entire savings portfolio\n",
    "# Add the value of the cryptocurrency walled to the value of the total stocks and bonds\n",
    "total_portfolio = total_crypto_wallet + total_stocks_bonds\n",
    "\n",
    "# Print current total portfolio balance\n",
    "print(f\"The total porfolio balance is:{total_portfolio: .2f}\")\n"
   ]
  },
  {
   "cell_type": "markdown",
   "metadata": {},
   "source": [
    "### Evaluate the Emergency Fund\n",
    "\n",
    "In this section, you’ll use the valuations for the cryptocurrency wallet and for the stock and bond portions of the portfolio to determine if the credit union member has enough savings to build an emergency fund into their financial plan. To do this, complete the following steps:\n",
    "\n",
    "1. Create a Python list named `savings_data` that has two elements. The first element contains the total value of the cryptocurrency wallet. The second element contains the total value of the stock and bond portions of the portfolio.\n",
    "\n",
    "2. Use the `savings_data` list to create a Pandas DataFrame named `savings_df`, and then display this DataFrame. The function to create the DataFrame should take the following three parameters:\n",
    "\n",
    "    - `savings_data`: Use the list that you just created.\n",
    "\n",
    "    - `columns`: Set this parameter equal to a Python list with a single value called `amount`.\n",
    "\n",
    "    - `index`: Set this parameter equal to a Python list with the values of `crypto` and `stock/bond`.\n",
    "\n",
    "3. Use the `savings_df` DataFrame to plot a pie chart that visualizes the composition of the member’s portfolio. The y-axis of the pie chart uses `amount`. Be sure to add a title.\n",
    "\n",
    "4. Using Python, determine if the current portfolio has enough to create an emergency fund as part of the member’s financial plan. Ideally, an emergency fund should equal to three times the member’s monthly income. To do this, implement the following steps:\n",
    "\n",
    "    1. Create a variable named `emergency_fund_value`, and set it equal to three times the value of the member’s `monthly_income` of $12000. (You set this earlier in Part 1).\n",
    "\n",
    "    2. Create a series of three if statements to determine if the member’s total portfolio is large enough to fund the emergency portfolio:\n",
    "\n",
    "        1. If the total portfolio value is greater than the emergency fund value, display a message congratulating the member for having enough money in this fund.\n",
    "\n",
    "        2. Else if the total portfolio value is equal to the emergency fund value, display a message congratulating the member on reaching this important financial goal.\n",
    "\n",
    "        3. Else the total portfolio is less than the emergency fund value, so display a message showing how many dollars away the member is from reaching the goal. (Subtract the total portfolio value from the emergency fund value.)\n"
   ]
  },
  {
   "cell_type": "markdown",
   "metadata": {},
   "source": [
    "#### Step 1: Create a Python list named `savings_data` that has two elements. The first element contains the total value of the cryptocurrency wallet. The second element contains the total value of the stock and bond portions of the portfolio."
   ]
  },
  {
   "cell_type": "code",
   "execution_count": 195,
   "metadata": {},
   "outputs": [
    {
     "data": {
      "text/plain": [
       "[87819.62, 70570.3]"
      ]
     },
     "execution_count": 195,
     "metadata": {},
     "output_type": "execute_result"
    }
   ],
   "source": [
    "# Consolidate financial assets data into a Python list\n",
    "saving_data = [total_crypto_wallet, total_stocks_bonds]\n",
    "\n",
    "# Review the Python list savings_data\n",
    "saving_data\n",
    "    "
   ]
  },
  {
   "cell_type": "markdown",
   "metadata": {},
   "source": [
    "#### Step 2: Use the `savings_data` list to create a Pandas DataFrame named `savings_df`, and then display this DataFrame. The function to create the DataFrame should take the following three parameters:\n",
    "\n",
    "- `savings_data`: Use the list that you just created.\n",
    "\n",
    "- `columns`: Set this parameter equal to a Python list with a single value called `amount`.\n",
    "\n",
    "- `index`: Set this parameter equal to a Python list with the values of `crypto` and `stock/bond`.\n"
   ]
  },
  {
   "cell_type": "code",
   "execution_count": 196,
   "metadata": {},
   "outputs": [
    {
     "data": {
      "text/html": [
       "<div>\n",
       "<style scoped>\n",
       "    .dataframe tbody tr th:only-of-type {\n",
       "        vertical-align: middle;\n",
       "    }\n",
       "\n",
       "    .dataframe tbody tr th {\n",
       "        vertical-align: top;\n",
       "    }\n",
       "\n",
       "    .dataframe thead th {\n",
       "        text-align: right;\n",
       "    }\n",
       "</style>\n",
       "<table border=\"1\" class=\"dataframe\">\n",
       "  <thead>\n",
       "    <tr style=\"text-align: right;\">\n",
       "      <th></th>\n",
       "      <th>amount</th>\n",
       "    </tr>\n",
       "  </thead>\n",
       "  <tbody>\n",
       "    <tr>\n",
       "      <th>crypto</th>\n",
       "      <td>87819.62</td>\n",
       "    </tr>\n",
       "    <tr>\n",
       "      <th>stock/bond</th>\n",
       "      <td>70570.30</td>\n",
       "    </tr>\n",
       "  </tbody>\n",
       "</table>\n",
       "</div>"
      ],
      "text/plain": [
       "              amount\n",
       "crypto      87819.62\n",
       "stock/bond  70570.30"
      ]
     },
     "metadata": {},
     "output_type": "display_data"
    }
   ],
   "source": [
    "# Create a Pandas DataFrame called savings_df \n",
    "saving_df = pd.DataFrame(saving_data, columns=['amount'], index=['crypto','stock/bond'])\n",
    "\n",
    "\n",
    "# Display the savings_df DataFrame\n",
    "display(saving_df)\n"
   ]
  },
  {
   "cell_type": "markdown",
   "metadata": {},
   "source": [
    "#### Step 3: Use the `savings_df` DataFrame to plot a pie chart that visualizes the composition of the member’s portfolio. The y-axis of the pie chart uses `amount`. Be sure to add a title."
   ]
  },
  {
   "cell_type": "code",
   "execution_count": 205,
   "metadata": {},
   "outputs": [
    {
     "data": {
      "text/plain": [
       "<AxesSubplot:title={'center':'Portfolio Composition'}, ylabel='amount'>"
      ]
     },
     "execution_count": 205,
     "metadata": {},
     "output_type": "execute_result"
    },
    {
     "data": {
      "image/png": "[encoded data removed]",
      "text/plain": [
       "<Figure size 504x504 with 1 Axes>"
      ]
     },
     "metadata": {},
     "output_type": "display_data"
    }
   ],
   "source": [
    "# Plot the total value of the member's portfolio (crypto and stock/bond) in a pie chart\n",
    "saving_df.plot.pie(y= \"amount\", figsize= (7,7), title= \"Portfolio Composition\")\n"
   ]
  },
  {
   "cell_type": "markdown",
   "metadata": {},
   "source": [
    "#### Step 4: Using Python, determine if the current portfolio has enough to create an emergency fund as part of the member’s financial plan. Ideally, an emergency fund should equal to three times the member’s monthly income. To do this, implement the following steps:\n",
    "\n",
    "Step 1. Create a variable named `emergency_fund_value`, and set it equal to three times the value of the member’s `monthly_income` of 12000. (You set this earlier in Part 1).\n",
    "\n",
    "Step 2. Create a series of three if statements to determine if the member’s total portfolio is large enough to fund the emergency portfolio:\n",
    "\n",
    "* If the total portfolio value is greater than the emergency fund value, display a message congratulating the member for having enough money in this fund.\n",
    "\n",
    "* Else if the total portfolio value is equal to the emergency fund value, display a message congratulating the member on reaching this important financial goal.\n",
    "\n",
    "* Else the total portfolio is less than the emergency fund value, so display a message showing how many dollars away the member is from reaching the goal. (Subtract the total portfolio value from the emergency fund value.)\n"
   ]
  },
  {
   "cell_type": "markdown",
   "metadata": {},
   "source": [
    "##### Step 4-1: Create a variable named `emergency_fund_value`, and set it equal to three times the value of the member’s `monthly_income` of 12000. (You set this earlier in Part 1)."
   ]
  },
  {
   "cell_type": "code",
   "execution_count": 206,
   "metadata": {},
   "outputs": [],
   "source": [
    "# Create a variable named emergency_fund_value\n",
    "emergency_fund_value = 3 * monthly_income\n"
   ]
  },
  {
   "cell_type": "markdown",
   "metadata": {},
   "source": [
    "##### Step 4-2: Create a series of three if statements to determine if the member’s total portfolio is large enough to fund the emergency portfolio:\n",
    "\n",
    "* If the total portfolio value is greater than the emergency fund value, display a message congratulating the member for having enough money in this fund.\n",
    "\n",
    "* Else if the total portfolio value is equal to the emergency fund value, display a message congratulating the member on reaching this important financial goal.\n",
    "\n",
    "* Else the total portfolio is less than the emergency fund value, so display a message showing how many dollars away the member is from reaching the goal. (Subtract the total portfolio value from the emergency fund value.)"
   ]
  },
  {
   "cell_type": "code",
   "execution_count": 210,
   "metadata": {},
   "outputs": [
    {
     "ename": "SyntaxError",
     "evalue": "invalid syntax (<ipython-input-210-6473f02db8c4>, line 4)",
     "output_type": "error",
     "traceback": [
      "\u001b[0;36m  File \u001b[0;32m\"<ipython-input-210-6473f02db8c4>\"\u001b[0;36m, line \u001b[0;32m4\u001b[0m\n\u001b[0;31m    else total_portfolio == emergency_fund_value:\u001b[0m\n\u001b[0m                       ^\u001b[0m\n\u001b[0;31mSyntaxError\u001b[0m\u001b[0;31m:\u001b[0m invalid syntax\n"
     ]
    }
   ],
   "source": [
    "# Evaluate the possibility of creating an emergency fund with 3 conditions:\n",
    "if total_portfolio > emergency_fund_value:\n",
    "    print(\"Congratulation! You have enough for money in your fund.\")\n",
    "else total_portfolio == emergency_fund_value:\n",
    "    print(\"Congratulation! You have reach an important financial goal.\")\n",
    "else total_portfolio < emergency_fund_value:\n",
    "    print(f\"You are ({emergency_fund_value - total_portfolio}) away from reching your goal.\")\n"
   ]
  },
  {
   "cell_type": "markdown",
   "metadata": {},
   "source": [
    "## Part 2: Create a Financial Planner for Retirement"
   ]
  },
  {
   "cell_type": "markdown",
   "metadata": {},
   "source": [
    "### Create the Monte Carlo Simulation\n",
    "\n",
    "In this section, you’ll use the MCForecastTools library to create a Monte Carlo simulation for the member’s savings portfolio. To do this, complete the following steps:\n",
    "\n",
    "1. Make an API call via the Alpaca SDK to get 3 years of historical closing prices for a traditional 60/40 portfolio split: 60% stocks (SPY) and 40% bonds (AGG).\n",
    "\n",
    "2. Run a Monte Carlo simulation of 500 samples and 30 years for the 60/40 portfolio, and then plot the results.The following image shows the overlay line plot resulting from a simulation with these characteristics. However, because a random number generator is used to run each live Monte Carlo simulation, your image will differ slightly from this exact image:\n",
    "\n",
    "![A screenshot depicts the resulting plot.](Images/5-4-monte-carlo-line-plot.png)\n",
    "\n",
    "3. Plot the probability distribution of the Monte Carlo simulation. Plot the probability distribution of the Monte Carlo simulation. The following image shows the histogram plot resulting from a simulation with these characteristics. However, because a random number generator is used to run each live Monte Carlo simulation, your image will differ slightly from this exact image:\n",
    "\n",
    "![A screenshot depicts the histogram plot.](Images/5-4-monte-carlo-histogram.png)\n",
    "\n",
    "4. Generate the summary statistics for the Monte Carlo simulation.\n",
    "\n"
   ]
  },
  {
   "cell_type": "markdown",
   "metadata": {},
   "source": [
    "#### Step 1: Make an API call via the Alpaca SDK to get 3 years of historical closing prices for a traditional 60/40 portfolio split: 60% stocks (SPY) and 40% bonds (AGG)."
   ]
  },
  {
   "cell_type": "code",
   "execution_count": 212,
   "metadata": {},
   "outputs": [],
   "source": [
    "# Set start and end dates of 3 years back from your current date\n",
    "# Alternatively, you can use an end date of 2020-08-07 and work 3 years back from that date \n",
    "start_date = pd.Timestamp(\"2018-10-13\", tz=\"America/New_York\").isoformat() \n",
    "end_date = pd.Timestamp(\"2021-10-13\", tz=\"America/New_York\").isoformat()\n",
    "\n",
    "# Set number of rows to 1000 to retrieve the maximum amount of rows\n",
    "limit_rows = 1000"
   ]
  },
  {
   "cell_type": "code",
   "execution_count": 214,
   "metadata": {},
   "outputs": [
    {
     "data": {
      "text/html": [
       "<div>\n",
       "<style scoped>\n",
       "    .dataframe tbody tr th:only-of-type {\n",
       "        vertical-align: middle;\n",
       "    }\n",
       "\n",
       "    .dataframe tbody tr th {\n",
       "        vertical-align: top;\n",
       "    }\n",
       "\n",
       "    .dataframe thead tr th {\n",
       "        text-align: left;\n",
       "    }\n",
       "\n",
       "    .dataframe thead tr:last-of-type th {\n",
       "        text-align: right;\n",
       "    }\n",
       "</style>\n",
       "<table border=\"1\" class=\"dataframe\">\n",
       "  <thead>\n",
       "    <tr>\n",
       "      <th></th>\n",
       "      <th colspan=\"5\" halign=\"left\">AGG</th>\n",
       "      <th colspan=\"5\" halign=\"left\">SPY</th>\n",
       "    </tr>\n",
       "    <tr>\n",
       "      <th></th>\n",
       "      <th>open</th>\n",
       "      <th>high</th>\n",
       "      <th>low</th>\n",
       "      <th>close</th>\n",
       "      <th>volume</th>\n",
       "      <th>open</th>\n",
       "      <th>high</th>\n",
       "      <th>low</th>\n",
       "      <th>close</th>\n",
       "      <th>volume</th>\n",
       "    </tr>\n",
       "    <tr>\n",
       "      <th>time</th>\n",
       "      <th></th>\n",
       "      <th></th>\n",
       "      <th></th>\n",
       "      <th></th>\n",
       "      <th></th>\n",
       "      <th></th>\n",
       "      <th></th>\n",
       "      <th></th>\n",
       "      <th></th>\n",
       "      <th></th>\n",
       "    </tr>\n",
       "  </thead>\n",
       "  <tbody>\n",
       "    <tr>\n",
       "      <th>2018-10-15 00:00:00-04:00</th>\n",
       "      <td>104.73</td>\n",
       "      <td>104.7835</td>\n",
       "      <td>104.6233</td>\n",
       "      <td>104.670</td>\n",
       "      <td>2502508</td>\n",
       "      <td>275.55</td>\n",
       "      <td>277.04</td>\n",
       "      <td>274.30</td>\n",
       "      <td>274.48</td>\n",
       "      <td>75385132</td>\n",
       "    </tr>\n",
       "    <tr>\n",
       "      <th>2018-10-16 00:00:00-04:00</th>\n",
       "      <td>104.69</td>\n",
       "      <td>104.7400</td>\n",
       "      <td>104.5800</td>\n",
       "      <td>104.740</td>\n",
       "      <td>5520646</td>\n",
       "      <td>276.57</td>\n",
       "      <td>280.82</td>\n",
       "      <td>276.07</td>\n",
       "      <td>280.30</td>\n",
       "      <td>75057478</td>\n",
       "    </tr>\n",
       "    <tr>\n",
       "      <th>2018-10-17 00:00:00-04:00</th>\n",
       "      <td>104.71</td>\n",
       "      <td>104.7700</td>\n",
       "      <td>104.5200</td>\n",
       "      <td>104.535</td>\n",
       "      <td>2608875</td>\n",
       "      <td>280.44</td>\n",
       "      <td>281.15</td>\n",
       "      <td>277.56</td>\n",
       "      <td>280.40</td>\n",
       "      <td>81740972</td>\n",
       "    </tr>\n",
       "    <tr>\n",
       "      <th>2018-10-18 00:00:00-04:00</th>\n",
       "      <td>104.39</td>\n",
       "      <td>104.6195</td>\n",
       "      <td>104.3750</td>\n",
       "      <td>104.460</td>\n",
       "      <td>2687836</td>\n",
       "      <td>279.40</td>\n",
       "      <td>280.07</td>\n",
       "      <td>274.97</td>\n",
       "      <td>276.47</td>\n",
       "      <td>106592503</td>\n",
       "    </tr>\n",
       "    <tr>\n",
       "      <th>2018-10-19 00:00:00-04:00</th>\n",
       "      <td>104.47</td>\n",
       "      <td>104.5500</td>\n",
       "      <td>104.3400</td>\n",
       "      <td>104.370</td>\n",
       "      <td>2912850</td>\n",
       "      <td>277.12</td>\n",
       "      <td>279.30</td>\n",
       "      <td>275.47</td>\n",
       "      <td>276.19</td>\n",
       "      <td>86816021</td>\n",
       "    </tr>\n",
       "  </tbody>\n",
       "</table>\n",
       "</div>"
      ],
      "text/plain": [
       "                              AGG                                        \\\n",
       "                             open      high       low    close   volume   \n",
       "time                                                                      \n",
       "2018-10-15 00:00:00-04:00  104.73  104.7835  104.6233  104.670  2502508   \n",
       "2018-10-16 00:00:00-04:00  104.69  104.7400  104.5800  104.740  5520646   \n",
       "2018-10-17 00:00:00-04:00  104.71  104.7700  104.5200  104.535  2608875   \n",
       "2018-10-18 00:00:00-04:00  104.39  104.6195  104.3750  104.460  2687836   \n",
       "2018-10-19 00:00:00-04:00  104.47  104.5500  104.3400  104.370  2912850   \n",
       "\n",
       "                              SPY                                     \n",
       "                             open    high     low   close     volume  \n",
       "time                                                                  \n",
       "2018-10-15 00:00:00-04:00  275.55  277.04  274.30  274.48   75385132  \n",
       "2018-10-16 00:00:00-04:00  276.57  280.82  276.07  280.30   75057478  \n",
       "2018-10-17 00:00:00-04:00  280.44  281.15  277.56  280.40   81740972  \n",
       "2018-10-18 00:00:00-04:00  279.40  280.07  274.97  276.47  106592503  \n",
       "2018-10-19 00:00:00-04:00  277.12  279.30  275.47  276.19   86816021  "
      ]
     },
     "metadata": {},
     "output_type": "display_data"
    },
    {
     "data": {
      "text/html": [
       "<div>\n",
       "<style scoped>\n",
       "    .dataframe tbody tr th:only-of-type {\n",
       "        vertical-align: middle;\n",
       "    }\n",
       "\n",
       "    .dataframe tbody tr th {\n",
       "        vertical-align: top;\n",
       "    }\n",
       "\n",
       "    .dataframe thead tr th {\n",
       "        text-align: left;\n",
       "    }\n",
       "\n",
       "    .dataframe thead tr:last-of-type th {\n",
       "        text-align: right;\n",
       "    }\n",
       "</style>\n",
       "<table border=\"1\" class=\"dataframe\">\n",
       "  <thead>\n",
       "    <tr>\n",
       "      <th></th>\n",
       "      <th colspan=\"5\" halign=\"left\">AGG</th>\n",
       "      <th colspan=\"5\" halign=\"left\">SPY</th>\n",
       "    </tr>\n",
       "    <tr>\n",
       "      <th></th>\n",
       "      <th>open</th>\n",
       "      <th>high</th>\n",
       "      <th>low</th>\n",
       "      <th>close</th>\n",
       "      <th>volume</th>\n",
       "      <th>open</th>\n",
       "      <th>high</th>\n",
       "      <th>low</th>\n",
       "      <th>close</th>\n",
       "      <th>volume</th>\n",
       "    </tr>\n",
       "    <tr>\n",
       "      <th>time</th>\n",
       "      <th></th>\n",
       "      <th></th>\n",
       "      <th></th>\n",
       "      <th></th>\n",
       "      <th></th>\n",
       "      <th></th>\n",
       "      <th></th>\n",
       "      <th></th>\n",
       "      <th></th>\n",
       "      <th></th>\n",
       "    </tr>\n",
       "  </thead>\n",
       "  <tbody>\n",
       "    <tr>\n",
       "      <th>2021-10-07 00:00:00-04:00</th>\n",
       "      <td>114.46</td>\n",
       "      <td>114.500</td>\n",
       "      <td>114.340</td>\n",
       "      <td>114.360</td>\n",
       "      <td>3586652</td>\n",
       "      <td>438.39</td>\n",
       "      <td>441.68</td>\n",
       "      <td>438.20</td>\n",
       "      <td>438.64</td>\n",
       "      <td>64139858</td>\n",
       "    </tr>\n",
       "    <tr>\n",
       "      <th>2021-10-08 00:00:00-04:00</th>\n",
       "      <td>114.31</td>\n",
       "      <td>114.350</td>\n",
       "      <td>114.070</td>\n",
       "      <td>114.120</td>\n",
       "      <td>4207570</td>\n",
       "      <td>439.48</td>\n",
       "      <td>439.89</td>\n",
       "      <td>437.19</td>\n",
       "      <td>437.82</td>\n",
       "      <td>57510090</td>\n",
       "    </tr>\n",
       "    <tr>\n",
       "      <th>2021-10-11 00:00:00-04:00</th>\n",
       "      <td>114.01</td>\n",
       "      <td>114.065</td>\n",
       "      <td>113.940</td>\n",
       "      <td>113.940</td>\n",
       "      <td>1999518</td>\n",
       "      <td>437.16</td>\n",
       "      <td>440.26</td>\n",
       "      <td>434.62</td>\n",
       "      <td>434.67</td>\n",
       "      <td>54993389</td>\n",
       "    </tr>\n",
       "    <tr>\n",
       "      <th>2021-10-12 00:00:00-04:00</th>\n",
       "      <td>114.17</td>\n",
       "      <td>114.380</td>\n",
       "      <td>114.110</td>\n",
       "      <td>114.355</td>\n",
       "      <td>3521504</td>\n",
       "      <td>435.67</td>\n",
       "      <td>436.10</td>\n",
       "      <td>432.78</td>\n",
       "      <td>433.63</td>\n",
       "      <td>61078594</td>\n",
       "    </tr>\n",
       "    <tr>\n",
       "      <th>2021-10-13 00:00:00-04:00</th>\n",
       "      <td>114.43</td>\n",
       "      <td>114.640</td>\n",
       "      <td>114.415</td>\n",
       "      <td>114.610</td>\n",
       "      <td>5301180</td>\n",
       "      <td>434.71</td>\n",
       "      <td>436.05</td>\n",
       "      <td>431.54</td>\n",
       "      <td>435.13</td>\n",
       "      <td>63943229</td>\n",
       "    </tr>\n",
       "  </tbody>\n",
       "</table>\n",
       "</div>"
      ],
      "text/plain": [
       "                              AGG                                         SPY  \\\n",
       "                             open     high      low    close   volume    open   \n",
       "time                                                                            \n",
       "2021-10-07 00:00:00-04:00  114.46  114.500  114.340  114.360  3586652  438.39   \n",
       "2021-10-08 00:00:00-04:00  114.31  114.350  114.070  114.120  4207570  439.48   \n",
       "2021-10-11 00:00:00-04:00  114.01  114.065  113.940  113.940  1999518  437.16   \n",
       "2021-10-12 00:00:00-04:00  114.17  114.380  114.110  114.355  3521504  435.67   \n",
       "2021-10-13 00:00:00-04:00  114.43  114.640  114.415  114.610  5301180  434.71   \n",
       "\n",
       "                                                             \n",
       "                             high     low   close    volume  \n",
       "time                                                         \n",
       "2021-10-07 00:00:00-04:00  441.68  438.20  438.64  64139858  \n",
       "2021-10-08 00:00:00-04:00  439.89  437.19  437.82  57510090  \n",
       "2021-10-11 00:00:00-04:00  440.26  434.62  434.67  54993389  \n",
       "2021-10-12 00:00:00-04:00  436.10  432.78  433.63  61078594  \n",
       "2021-10-13 00:00:00-04:00  436.05  431.54  435.13  63943229  "
      ]
     },
     "metadata": {},
     "output_type": "display_data"
    }
   ],
   "source": [
    "# Use the Alpaca get_barset function to make the API call to get the 3 years worth of pricing data\n",
    "# The tickers and timeframe parameters should have been set in Part 1 of this activity \n",
    "# The start and end dates should be updated with the information set above\n",
    "# Remember to add the df property to the end of the call so the response is returned as a DataFrame\n",
    "prices_df = alpaca.get_barset(tickers, timeframe, start= start_date, end= end_date, limit= limit_rows).df\n",
    "\n",
    "\n",
    "# Display both the first and last five rows of the DataFrame\n",
    "display(prices_df.head())\n",
    "display(prices_df.tail())\n"
   ]
  },
  {
   "cell_type": "markdown",
   "metadata": {},
   "source": [
    "#### Step 2: Run a Monte Carlo simulation of 500 samples and 30 years for the 60/40 portfolio, and then plot the results."
   ]
  },
  {
   "cell_type": "code",
   "execution_count": 219,
   "metadata": {},
   "outputs": [
    {
     "data": {
      "text/html": [
       "<div>\n",
       "<style scoped>\n",
       "    .dataframe tbody tr th:only-of-type {\n",
       "        vertical-align: middle;\n",
       "    }\n",
       "\n",
       "    .dataframe tbody tr th {\n",
       "        vertical-align: top;\n",
       "    }\n",
       "\n",
       "    .dataframe thead tr th {\n",
       "        text-align: left;\n",
       "    }\n",
       "\n",
       "    .dataframe thead tr:last-of-type th {\n",
       "        text-align: right;\n",
       "    }\n",
       "</style>\n",
       "<table border=\"1\" class=\"dataframe\">\n",
       "  <thead>\n",
       "    <tr>\n",
       "      <th></th>\n",
       "      <th colspan=\"6\" halign=\"left\">AGG</th>\n",
       "      <th colspan=\"6\" halign=\"left\">SPY</th>\n",
       "    </tr>\n",
       "    <tr>\n",
       "      <th></th>\n",
       "      <th>open</th>\n",
       "      <th>high</th>\n",
       "      <th>low</th>\n",
       "      <th>close</th>\n",
       "      <th>volume</th>\n",
       "      <th>daily_return</th>\n",
       "      <th>open</th>\n",
       "      <th>high</th>\n",
       "      <th>low</th>\n",
       "      <th>close</th>\n",
       "      <th>volume</th>\n",
       "      <th>daily_return</th>\n",
       "    </tr>\n",
       "    <tr>\n",
       "      <th>time</th>\n",
       "      <th></th>\n",
       "      <th></th>\n",
       "      <th></th>\n",
       "      <th></th>\n",
       "      <th></th>\n",
       "      <th></th>\n",
       "      <th></th>\n",
       "      <th></th>\n",
       "      <th></th>\n",
       "      <th></th>\n",
       "      <th></th>\n",
       "      <th></th>\n",
       "    </tr>\n",
       "  </thead>\n",
       "  <tbody>\n",
       "    <tr>\n",
       "      <th>2018-10-15 00:00:00-04:00</th>\n",
       "      <td>104.73</td>\n",
       "      <td>104.7835</td>\n",
       "      <td>104.6233</td>\n",
       "      <td>104.670</td>\n",
       "      <td>2502508</td>\n",
       "      <td>NaN</td>\n",
       "      <td>275.55</td>\n",
       "      <td>277.04</td>\n",
       "      <td>274.30</td>\n",
       "      <td>274.48</td>\n",
       "      <td>75385132</td>\n",
       "      <td>NaN</td>\n",
       "    </tr>\n",
       "    <tr>\n",
       "      <th>2018-10-16 00:00:00-04:00</th>\n",
       "      <td>104.69</td>\n",
       "      <td>104.7400</td>\n",
       "      <td>104.5800</td>\n",
       "      <td>104.740</td>\n",
       "      <td>5520646</td>\n",
       "      <td>0.000669</td>\n",
       "      <td>276.57</td>\n",
       "      <td>280.82</td>\n",
       "      <td>276.07</td>\n",
       "      <td>280.30</td>\n",
       "      <td>75057478</td>\n",
       "      <td>0.021204</td>\n",
       "    </tr>\n",
       "    <tr>\n",
       "      <th>2018-10-17 00:00:00-04:00</th>\n",
       "      <td>104.71</td>\n",
       "      <td>104.7700</td>\n",
       "      <td>104.5200</td>\n",
       "      <td>104.535</td>\n",
       "      <td>2608875</td>\n",
       "      <td>-0.001957</td>\n",
       "      <td>280.44</td>\n",
       "      <td>281.15</td>\n",
       "      <td>277.56</td>\n",
       "      <td>280.40</td>\n",
       "      <td>81740972</td>\n",
       "      <td>0.000357</td>\n",
       "    </tr>\n",
       "    <tr>\n",
       "      <th>2018-10-18 00:00:00-04:00</th>\n",
       "      <td>104.39</td>\n",
       "      <td>104.6195</td>\n",
       "      <td>104.3750</td>\n",
       "      <td>104.460</td>\n",
       "      <td>2687836</td>\n",
       "      <td>-0.000717</td>\n",
       "      <td>279.40</td>\n",
       "      <td>280.07</td>\n",
       "      <td>274.97</td>\n",
       "      <td>276.47</td>\n",
       "      <td>106592503</td>\n",
       "      <td>-0.014016</td>\n",
       "    </tr>\n",
       "    <tr>\n",
       "      <th>2018-10-19 00:00:00-04:00</th>\n",
       "      <td>104.47</td>\n",
       "      <td>104.5500</td>\n",
       "      <td>104.3400</td>\n",
       "      <td>104.370</td>\n",
       "      <td>2912850</td>\n",
       "      <td>-0.000862</td>\n",
       "      <td>277.12</td>\n",
       "      <td>279.30</td>\n",
       "      <td>275.47</td>\n",
       "      <td>276.19</td>\n",
       "      <td>86816021</td>\n",
       "      <td>-0.001013</td>\n",
       "    </tr>\n",
       "  </tbody>\n",
       "</table>\n",
       "</div>"
      ],
      "text/plain": [
       "                              AGG                                        \\\n",
       "                             open      high       low    close   volume   \n",
       "time                                                                      \n",
       "2018-10-15 00:00:00-04:00  104.73  104.7835  104.6233  104.670  2502508   \n",
       "2018-10-16 00:00:00-04:00  104.69  104.7400  104.5800  104.740  5520646   \n",
       "2018-10-17 00:00:00-04:00  104.71  104.7700  104.5200  104.535  2608875   \n",
       "2018-10-18 00:00:00-04:00  104.39  104.6195  104.3750  104.460  2687836   \n",
       "2018-10-19 00:00:00-04:00  104.47  104.5500  104.3400  104.370  2912850   \n",
       "\n",
       "                                           SPY                          \\\n",
       "                          daily_return    open    high     low   close   \n",
       "time                                                                     \n",
       "2018-10-15 00:00:00-04:00          NaN  275.55  277.04  274.30  274.48   \n",
       "2018-10-16 00:00:00-04:00     0.000669  276.57  280.82  276.07  280.30   \n",
       "2018-10-17 00:00:00-04:00    -0.001957  280.44  281.15  277.56  280.40   \n",
       "2018-10-18 00:00:00-04:00    -0.000717  279.40  280.07  274.97  276.47   \n",
       "2018-10-19 00:00:00-04:00    -0.000862  277.12  279.30  275.47  276.19   \n",
       "\n",
       "                                                   \n",
       "                              volume daily_return  \n",
       "time                                               \n",
       "2018-10-15 00:00:00-04:00   75385132          NaN  \n",
       "2018-10-16 00:00:00-04:00   75057478     0.021204  \n",
       "2018-10-17 00:00:00-04:00   81740972     0.000357  \n",
       "2018-10-18 00:00:00-04:00  106592503    -0.014016  \n",
       "2018-10-19 00:00:00-04:00   86816021    -0.001013  "
      ]
     },
     "execution_count": 219,
     "metadata": {},
     "output_type": "execute_result"
    }
   ],
   "source": [
    "# Configure the Monte Carlo simulation to forecast 30 years cumulative returns\n",
    "# The weights should be split 40% to AGG and 60% to SPY.\n",
    "# Run 500 samples.\n",
    "MC_thirty_years = MCSimulation(portfolio_data = prices_df,\n",
    "                             weights= [.40, .60],\n",
    "                             num_simulation= 500,\n",
    "                             num_trading_days= 252*30)\n",
    "\n",
    "# Review the simulation input data\n",
    "MC_thirty_years.portfolio_data.head()\n"
   ]
  },
  {
   "cell_type": "code",
   "execution_count": 220,
   "metadata": {},
   "outputs": [
    {
     "name": "stdout",
     "output_type": "stream",
     "text": [
      "Running Monte Carlo simulation number 0.\n",
      "Running Monte Carlo simulation number 10.\n",
      "Running Monte Carlo simulation number 20.\n",
      "Running Monte Carlo simulation number 30.\n",
      "Running Monte Carlo simulation number 40.\n",
      "Running Monte Carlo simulation number 50.\n",
      "Running Monte Carlo simulation number 60.\n",
      "Running Monte Carlo simulation number 70.\n",
      "Running Monte Carlo simulation number 80.\n",
      "Running Monte Carlo simulation number 90.\n",
      "Running Monte Carlo simulation number 100.\n",
      "Running Monte Carlo simulation number 110.\n",
      "Running Monte Carlo simulation number 120.\n",
      "Running Monte Carlo simulation number 130.\n",
      "Running Monte Carlo simulation number 140.\n",
      "Running Monte Carlo simulation number 150.\n",
      "Running Monte Carlo simulation number 160.\n",
      "Running Monte Carlo simulation number 170.\n",
      "Running Monte Carlo simulation number 180.\n",
      "Running Monte Carlo simulation number 190.\n",
      "Running Monte Carlo simulation number 200.\n",
      "Running Monte Carlo simulation number 210.\n",
      "Running Monte Carlo simulation number 220.\n",
      "Running Monte Carlo simulation number 230.\n",
      "Running Monte Carlo simulation number 240.\n",
      "Running Monte Carlo simulation number 250.\n",
      "Running Monte Carlo simulation number 260.\n",
      "Running Monte Carlo simulation number 270.\n",
      "Running Monte Carlo simulation number 280.\n",
      "Running Monte Carlo simulation number 290.\n",
      "Running Monte Carlo simulation number 300.\n",
      "Running Monte Carlo simulation number 310.\n",
      "Running Monte Carlo simulation number 320.\n",
      "Running Monte Carlo simulation number 330.\n",
      "Running Monte Carlo simulation number 340.\n",
      "Running Monte Carlo simulation number 350.\n",
      "Running Monte Carlo simulation number 360.\n",
      "Running Monte Carlo simulation number 370.\n",
      "Running Monte Carlo simulation number 380.\n",
      "Running Monte Carlo simulation number 390.\n",
      "Running Monte Carlo simulation number 400.\n",
      "Running Monte Carlo simulation number 410.\n",
      "Running Monte Carlo simulation number 420.\n",
      "Running Monte Carlo simulation number 430.\n",
      "Running Monte Carlo simulation number 440.\n",
      "Running Monte Carlo simulation number 450.\n",
      "Running Monte Carlo simulation number 460.\n",
      "Running Monte Carlo simulation number 470.\n",
      "Running Monte Carlo simulation number 480.\n",
      "Running Monte Carlo simulation number 490.\n"
     ]
    },
    {
     "data": {
      "text/html": [
       "<div>\n",
       "<style scoped>\n",
       "    .dataframe tbody tr th:only-of-type {\n",
       "        vertical-align: middle;\n",
       "    }\n",
       "\n",
       "    .dataframe tbody tr th {\n",
       "        vertical-align: top;\n",
       "    }\n",
       "\n",
       "    .dataframe thead th {\n",
       "        text-align: right;\n",
       "    }\n",
       "</style>\n",
       "<table border=\"1\" class=\"dataframe\">\n",
       "  <thead>\n",
       "    <tr style=\"text-align: right;\">\n",
       "      <th></th>\n",
       "      <th>0</th>\n",
       "      <th>1</th>\n",
       "      <th>2</th>\n",
       "      <th>3</th>\n",
       "      <th>4</th>\n",
       "      <th>5</th>\n",
       "      <th>6</th>\n",
       "      <th>7</th>\n",
       "      <th>8</th>\n",
       "      <th>9</th>\n",
       "      <th>...</th>\n",
       "      <th>490</th>\n",
       "      <th>491</th>\n",
       "      <th>492</th>\n",
       "      <th>493</th>\n",
       "      <th>494</th>\n",
       "      <th>495</th>\n",
       "      <th>496</th>\n",
       "      <th>497</th>\n",
       "      <th>498</th>\n",
       "      <th>499</th>\n",
       "    </tr>\n",
       "  </thead>\n",
       "  <tbody>\n",
       "    <tr>\n",
       "      <th>0</th>\n",
       "      <td>1.000000</td>\n",
       "      <td>1.000000</td>\n",
       "      <td>1.000000</td>\n",
       "      <td>1.000000</td>\n",
       "      <td>1.000000</td>\n",
       "      <td>1.000000</td>\n",
       "      <td>1.000000</td>\n",
       "      <td>1.000000</td>\n",
       "      <td>1.000000</td>\n",
       "      <td>1.000000</td>\n",
       "      <td>...</td>\n",
       "      <td>1.000000</td>\n",
       "      <td>1.000000</td>\n",
       "      <td>1.000000</td>\n",
       "      <td>1.000000</td>\n",
       "      <td>1.000000</td>\n",
       "      <td>1.000000</td>\n",
       "      <td>1.000000</td>\n",
       "      <td>1.000000</td>\n",
       "      <td>1.000000</td>\n",
       "      <td>1.000000</td>\n",
       "    </tr>\n",
       "    <tr>\n",
       "      <th>1</th>\n",
       "      <td>1.015312</td>\n",
       "      <td>1.015165</td>\n",
       "      <td>1.012726</td>\n",
       "      <td>0.990165</td>\n",
       "      <td>0.995714</td>\n",
       "      <td>1.016015</td>\n",
       "      <td>0.999808</td>\n",
       "      <td>0.997540</td>\n",
       "      <td>1.000279</td>\n",
       "      <td>1.005923</td>\n",
       "      <td>...</td>\n",
       "      <td>1.012337</td>\n",
       "      <td>1.000005</td>\n",
       "      <td>1.002843</td>\n",
       "      <td>1.001412</td>\n",
       "      <td>1.009050</td>\n",
       "      <td>1.012247</td>\n",
       "      <td>1.002388</td>\n",
       "      <td>0.993998</td>\n",
       "      <td>1.002504</td>\n",
       "      <td>0.988215</td>\n",
       "    </tr>\n",
       "    <tr>\n",
       "      <th>2</th>\n",
       "      <td>1.029084</td>\n",
       "      <td>1.011987</td>\n",
       "      <td>1.005942</td>\n",
       "      <td>0.983592</td>\n",
       "      <td>1.022617</td>\n",
       "      <td>1.019069</td>\n",
       "      <td>1.012129</td>\n",
       "      <td>0.986119</td>\n",
       "      <td>0.987458</td>\n",
       "      <td>1.009613</td>\n",
       "      <td>...</td>\n",
       "      <td>1.019964</td>\n",
       "      <td>0.990694</td>\n",
       "      <td>1.003473</td>\n",
       "      <td>0.998631</td>\n",
       "      <td>1.012576</td>\n",
       "      <td>1.002641</td>\n",
       "      <td>0.993156</td>\n",
       "      <td>0.985687</td>\n",
       "      <td>1.013504</td>\n",
       "      <td>0.981747</td>\n",
       "    </tr>\n",
       "    <tr>\n",
       "      <th>3</th>\n",
       "      <td>1.026061</td>\n",
       "      <td>1.026509</td>\n",
       "      <td>1.033543</td>\n",
       "      <td>0.980927</td>\n",
       "      <td>1.022036</td>\n",
       "      <td>1.020055</td>\n",
       "      <td>1.010409</td>\n",
       "      <td>0.989741</td>\n",
       "      <td>0.988702</td>\n",
       "      <td>1.005347</td>\n",
       "      <td>...</td>\n",
       "      <td>1.025508</td>\n",
       "      <td>0.974356</td>\n",
       "      <td>1.010855</td>\n",
       "      <td>1.017953</td>\n",
       "      <td>0.991828</td>\n",
       "      <td>1.005550</td>\n",
       "      <td>0.989886</td>\n",
       "      <td>1.005687</td>\n",
       "      <td>1.016312</td>\n",
       "      <td>0.967849</td>\n",
       "    </tr>\n",
       "    <tr>\n",
       "      <th>4</th>\n",
       "      <td>1.028622</td>\n",
       "      <td>1.034437</td>\n",
       "      <td>1.036825</td>\n",
       "      <td>0.986687</td>\n",
       "      <td>1.022491</td>\n",
       "      <td>1.015816</td>\n",
       "      <td>1.029613</td>\n",
       "      <td>0.994660</td>\n",
       "      <td>0.985304</td>\n",
       "      <td>1.003918</td>\n",
       "      <td>...</td>\n",
       "      <td>1.023865</td>\n",
       "      <td>0.978282</td>\n",
       "      <td>1.020477</td>\n",
       "      <td>1.011895</td>\n",
       "      <td>0.997991</td>\n",
       "      <td>1.001608</td>\n",
       "      <td>0.978597</td>\n",
       "      <td>1.003967</td>\n",
       "      <td>1.025368</td>\n",
       "      <td>0.965367</td>\n",
       "    </tr>\n",
       "    <tr>\n",
       "      <th>...</th>\n",
       "      <td>...</td>\n",
       "      <td>...</td>\n",
       "      <td>...</td>\n",
       "      <td>...</td>\n",
       "      <td>...</td>\n",
       "      <td>...</td>\n",
       "      <td>...</td>\n",
       "      <td>...</td>\n",
       "      <td>...</td>\n",
       "      <td>...</td>\n",
       "      <td>...</td>\n",
       "      <td>...</td>\n",
       "      <td>...</td>\n",
       "      <td>...</td>\n",
       "      <td>...</td>\n",
       "      <td>...</td>\n",
       "      <td>...</td>\n",
       "      <td>...</td>\n",
       "      <td>...</td>\n",
       "      <td>...</td>\n",
       "      <td>...</td>\n",
       "    </tr>\n",
       "    <tr>\n",
       "      <th>7556</th>\n",
       "      <td>20.408021</td>\n",
       "      <td>23.353445</td>\n",
       "      <td>5.144392</td>\n",
       "      <td>27.596252</td>\n",
       "      <td>37.646191</td>\n",
       "      <td>28.422271</td>\n",
       "      <td>29.947021</td>\n",
       "      <td>34.811330</td>\n",
       "      <td>20.188907</td>\n",
       "      <td>7.682985</td>\n",
       "      <td>...</td>\n",
       "      <td>35.416363</td>\n",
       "      <td>15.022788</td>\n",
       "      <td>75.637313</td>\n",
       "      <td>13.223909</td>\n",
       "      <td>32.013586</td>\n",
       "      <td>9.984614</td>\n",
       "      <td>33.518602</td>\n",
       "      <td>29.299938</td>\n",
       "      <td>11.995998</td>\n",
       "      <td>52.845082</td>\n",
       "    </tr>\n",
       "    <tr>\n",
       "      <th>7557</th>\n",
       "      <td>20.556568</td>\n",
       "      <td>23.064898</td>\n",
       "      <td>5.190929</td>\n",
       "      <td>27.106601</td>\n",
       "      <td>37.855567</td>\n",
       "      <td>28.411564</td>\n",
       "      <td>30.072672</td>\n",
       "      <td>34.766365</td>\n",
       "      <td>20.102906</td>\n",
       "      <td>7.751255</td>\n",
       "      <td>...</td>\n",
       "      <td>35.523504</td>\n",
       "      <td>15.039288</td>\n",
       "      <td>75.392107</td>\n",
       "      <td>13.032243</td>\n",
       "      <td>31.388066</td>\n",
       "      <td>10.029185</td>\n",
       "      <td>33.562850</td>\n",
       "      <td>29.212920</td>\n",
       "      <td>12.091267</td>\n",
       "      <td>53.077012</td>\n",
       "    </tr>\n",
       "    <tr>\n",
       "      <th>7558</th>\n",
       "      <td>20.970088</td>\n",
       "      <td>23.205486</td>\n",
       "      <td>5.249860</td>\n",
       "      <td>26.907623</td>\n",
       "      <td>37.733248</td>\n",
       "      <td>28.230888</td>\n",
       "      <td>29.988737</td>\n",
       "      <td>35.344050</td>\n",
       "      <td>20.455639</td>\n",
       "      <td>7.734876</td>\n",
       "      <td>...</td>\n",
       "      <td>35.259342</td>\n",
       "      <td>14.850169</td>\n",
       "      <td>74.927448</td>\n",
       "      <td>13.065278</td>\n",
       "      <td>31.584974</td>\n",
       "      <td>10.066944</td>\n",
       "      <td>33.854484</td>\n",
       "      <td>29.068997</td>\n",
       "      <td>11.963468</td>\n",
       "      <td>53.045843</td>\n",
       "    </tr>\n",
       "    <tr>\n",
       "      <th>7559</th>\n",
       "      <td>20.701422</td>\n",
       "      <td>22.988212</td>\n",
       "      <td>5.202289</td>\n",
       "      <td>27.357637</td>\n",
       "      <td>38.058775</td>\n",
       "      <td>28.440462</td>\n",
       "      <td>30.241333</td>\n",
       "      <td>34.755331</td>\n",
       "      <td>20.875638</td>\n",
       "      <td>7.727625</td>\n",
       "      <td>...</td>\n",
       "      <td>34.845278</td>\n",
       "      <td>14.926747</td>\n",
       "      <td>73.988391</td>\n",
       "      <td>13.077699</td>\n",
       "      <td>31.677545</td>\n",
       "      <td>10.020268</td>\n",
       "      <td>33.753578</td>\n",
       "      <td>28.713824</td>\n",
       "      <td>11.874223</td>\n",
       "      <td>53.545339</td>\n",
       "    </tr>\n",
       "    <tr>\n",
       "      <th>7560</th>\n",
       "      <td>20.936647</td>\n",
       "      <td>23.056268</td>\n",
       "      <td>5.160896</td>\n",
       "      <td>27.249976</td>\n",
       "      <td>38.295663</td>\n",
       "      <td>28.783696</td>\n",
       "      <td>30.455158</td>\n",
       "      <td>34.703465</td>\n",
       "      <td>21.083891</td>\n",
       "      <td>7.793215</td>\n",
       "      <td>...</td>\n",
       "      <td>34.483395</td>\n",
       "      <td>14.865250</td>\n",
       "      <td>74.559181</td>\n",
       "      <td>13.007143</td>\n",
       "      <td>32.248065</td>\n",
       "      <td>9.981455</td>\n",
       "      <td>33.224164</td>\n",
       "      <td>29.056169</td>\n",
       "      <td>11.835687</td>\n",
       "      <td>54.073139</td>\n",
       "    </tr>\n",
       "  </tbody>\n",
       "</table>\n",
       "<p>7561 rows × 500 columns</p>\n",
       "</div>"
      ],
      "text/plain": [
       "            0          1         2          3          4          5    \\\n",
       "0      1.000000   1.000000  1.000000   1.000000   1.000000   1.000000   \n",
       "1      1.015312   1.015165  1.012726   0.990165   0.995714   1.016015   \n",
       "2      1.029084   1.011987  1.005942   0.983592   1.022617   1.019069   \n",
       "3      1.026061   1.026509  1.033543   0.980927   1.022036   1.020055   \n",
       "4      1.028622   1.034437  1.036825   0.986687   1.022491   1.015816   \n",
       "...         ...        ...       ...        ...        ...        ...   \n",
       "7556  20.408021  23.353445  5.144392  27.596252  37.646191  28.422271   \n",
       "7557  20.556568  23.064898  5.190929  27.106601  37.855567  28.411564   \n",
       "7558  20.970088  23.205486  5.249860  26.907623  37.733248  28.230888   \n",
       "7559  20.701422  22.988212  5.202289  27.357637  38.058775  28.440462   \n",
       "7560  20.936647  23.056268  5.160896  27.249976  38.295663  28.783696   \n",
       "\n",
       "            6          7          8         9    ...        490        491  \\\n",
       "0      1.000000   1.000000   1.000000  1.000000  ...   1.000000   1.000000   \n",
       "1      0.999808   0.997540   1.000279  1.005923  ...   1.012337   1.000005   \n",
       "2      1.012129   0.986119   0.987458  1.009613  ...   1.019964   0.990694   \n",
       "3      1.010409   0.989741   0.988702  1.005347  ...   1.025508   0.974356   \n",
       "4      1.029613   0.994660   0.985304  1.003918  ...   1.023865   0.978282   \n",
       "...         ...        ...        ...       ...  ...        ...        ...   \n",
       "7556  29.947021  34.811330  20.188907  7.682985  ...  35.416363  15.022788   \n",
       "7557  30.072672  34.766365  20.102906  7.751255  ...  35.523504  15.039288   \n",
       "7558  29.988737  35.344050  20.455639  7.734876  ...  35.259342  14.850169   \n",
       "7559  30.241333  34.755331  20.875638  7.727625  ...  34.845278  14.926747   \n",
       "7560  30.455158  34.703465  21.083891  7.793215  ...  34.483395  14.865250   \n",
       "\n",
       "            492        493        494        495        496        497  \\\n",
       "0      1.000000   1.000000   1.000000   1.000000   1.000000   1.000000   \n",
       "1      1.002843   1.001412   1.009050   1.012247   1.002388   0.993998   \n",
       "2      1.003473   0.998631   1.012576   1.002641   0.993156   0.985687   \n",
       "3      1.010855   1.017953   0.991828   1.005550   0.989886   1.005687   \n",
       "4      1.020477   1.011895   0.997991   1.001608   0.978597   1.003967   \n",
       "...         ...        ...        ...        ...        ...        ...   \n",
       "7556  75.637313  13.223909  32.013586   9.984614  33.518602  29.299938   \n",
       "7557  75.392107  13.032243  31.388066  10.029185  33.562850  29.212920   \n",
       "7558  74.927448  13.065278  31.584974  10.066944  33.854484  29.068997   \n",
       "7559  73.988391  13.077699  31.677545  10.020268  33.753578  28.713824   \n",
       "7560  74.559181  13.007143  32.248065   9.981455  33.224164  29.056169   \n",
       "\n",
       "            498        499  \n",
       "0      1.000000   1.000000  \n",
       "1      1.002504   0.988215  \n",
       "2      1.013504   0.981747  \n",
       "3      1.016312   0.967849  \n",
       "4      1.025368   0.965367  \n",
       "...         ...        ...  \n",
       "7556  11.995998  52.845082  \n",
       "7557  12.091267  53.077012  \n",
       "7558  11.963468  53.045843  \n",
       "7559  11.874223  53.545339  \n",
       "7560  11.835687  54.073139  \n",
       "\n",
       "[7561 rows x 500 columns]"
      ]
     },
     "execution_count": 220,
     "metadata": {},
     "output_type": "execute_result"
    }
   ],
   "source": [
    "# Run the Monte Carlo simulation to forecast 30 years cumulative returns\n",
    "MC_thirty_years.calc_cumulative_return()\n"
   ]
  },
  {
   "cell_type": "code",
   "execution_count": 223,
   "metadata": {},
   "outputs": [
    {
     "data": {
      "text/plain": [
       "<AxesSubplot:title={'center':'500 Simulations of Cumulative Portfolio Return Trajectories Over the Next 7560 Trading Days.'}>"
      ]
     },
     "execution_count": 223,
     "metadata": {},
     "output_type": "execute_result"
    },
    {
     "data": {
      "image/png": "[encoded data removed]",
      "text/plain": [
       "<Figure size 432x288 with 1 Axes>"
      ]
     },
     "metadata": {
      "needs_background": "light"
     },
     "output_type": "display_data"
    }
   ],
   "source": [
    "# Visualize the 30-year Monte Carlo simulation by creating an\n",
    "# overlay line plot\n",
    "MC_thirty_years.plot_simulation()\n"
   ]
  },
  {
   "cell_type": "markdown",
   "metadata": {},
   "source": [
    "#### Step 3: Plot the probability distribution of the Monte Carlo simulation."
   ]
  },
  {
   "cell_type": "code",
   "execution_count": 226,
   "metadata": {},
   "outputs": [
    {
     "data": {
      "text/plain": [
       "<AxesSubplot:title={'center':'Distribution of Final Cumuluative Returns Across All 500 Simulations'}, ylabel='Frequency'>"
      ]
     },
     "execution_count": 226,
     "metadata": {},
     "output_type": "execute_result"
    },
    {
     "data": {
      "image/png": "[encoded data removed]",
      "text/plain": [
       "<Figure size 432x288 with 1 Axes>"
      ]
     },
     "metadata": {
      "needs_background": "light"
     },
     "output_type": "display_data"
    }
   ],
   "source": [
    "# Visualize the probability distribution of the 30-year Monte Carlo simulation \n",
    "# by plotting a histogram\n",
    "MC_thirty_years.plot_distribution()\n"
   ]
  },
  {
   "cell_type": "markdown",
   "metadata": {},
   "source": [
    "#### Step 4: Generate the summary statistics for the Monte Carlo simulation."
   ]
  },
  {
   "cell_type": "code",
   "execution_count": 227,
   "metadata": {},
   "outputs": [
    {
     "name": "stdout",
     "output_type": "stream",
     "text": [
      "count           500.000000\n",
      "mean             37.289308\n",
      "std              29.771575\n",
      "min               4.176473\n",
      "25%              17.542121\n",
      "50%              28.421623\n",
      "75%              45.878831\n",
      "max             196.472158\n",
      "95% CI Lower      6.924835\n",
      "95% CI Upper    121.492510\n",
      "Name: 7560, dtype: float64\n"
     ]
    }
   ],
   "source": [
    "# Generate summary statistics from the 30-year Monte Carlo simulation results\n",
    "# Save the results as a variable\n",
    "MC_summary_statistics = MC_thirty_years.summarize_cumulative_return()\n",
    "\n",
    "\n",
    "# Review the 30-year Monte Carlo summary statistics\n",
    "print(MC_summary_statistics)"
   ]
  },
  {
   "cell_type": "markdown",
   "metadata": {},
   "source": [
    "### Analyze the Retirement Portfolio Forecasts\n",
    "\n",
    "Using the current value of only the stock and bond portion of the member's portfolio and the summary statistics that you generated from the Monte Carlo simulation, answer the following question in your Jupyter notebook:\n",
    "\n",
    "-  What are the lower and upper bounds for the expected value of the portfolio with a 95% confidence interval?\n"
   ]
  },
  {
   "cell_type": "code",
   "execution_count": 228,
   "metadata": {},
   "outputs": [
    {
     "name": "stdout",
     "output_type": "stream",
     "text": [
      "The current balance of the stock and bond portfolio is: $70570.3\n"
     ]
    }
   ],
   "source": [
    "# Print the current balance of the stock and bond portion of the members portfolio\n",
    "print(f\"The current balance of the stock and bond portfolio is: ${total_stocks_bonds}\")\n"
   ]
  },
  {
   "cell_type": "code",
   "execution_count": 230,
   "metadata": {},
   "outputs": [
    {
     "name": "stdout",
     "output_type": "stream",
     "text": [
      "There is a 95% chance that you current protfolio over the next 30 years will end within in range of \n",
      "$ 488687.72 and $ 8573762.90\n"
     ]
    }
   ],
   "source": [
    "# Use the lower and upper `95%` confidence intervals to calculate the range of the possible outcomes for the current stock/bond portfolio\n",
    "ci_lower_thirty_cumulative_return = MC_summary_statistics[8] * total_stocks_bonds\n",
    "ci_upper_thirty_cumulative_return = MC_summary_statistics[9] * total_stocks_bonds\n",
    "\n",
    "# Print the result of your calculations\n",
    "print(f\"There is a 95% chance that you current protfolio over the next 30 years will end within in range of \\n\"\n",
    "     f\"${ci_lower_thirty_cumulative_return: .2f} and ${ci_upper_thirty_cumulative_return: .2f}\")\n"
   ]
  },
  {
   "cell_type": "markdown",
   "metadata": {},
   "source": [
    "### Forecast Cumulative Returns in 10 Years\n",
    "\n",
    "The CTO of the credit union is impressed with your work on these planning tools but wonders if 30 years is a long time to wait until retirement. So, your next task is to adjust the retirement portfolio and run a new Monte Carlo simulation to find out if the changes will allow members to retire earlier.\n",
    "\n",
    "For this new Monte Carlo simulation, do the following: \n",
    "\n",
    "- Forecast the cumulative returns for 10 years from now. Because of the shortened investment horizon (30 years to 10 years), the portfolio needs to invest more heavily in the riskier asset&mdash;that is, stock&mdash;to help accumulate wealth for retirement. \n",
    "\n",
    "- Adjust the weights of the retirement portfolio so that the composition for the Monte Carlo simulation consists of 20% bonds and 80% stocks. \n",
    "\n",
    "- Run the simulation over 500 samples, and use the same data that the API call to Alpaca generated.\n",
    "\n",
    "- Based on the new Monte Carlo simulation, answer the following questions in your Jupyter notebook:\n",
    "\n",
    "    - Using the current value of only the stock and bond portion of the member's portfolio and the summary statistics that you generated from the new Monte Carlo simulation, what are the lower and upper bounds for the expected value of the portfolio (with the new weights) with a 95% confidence interval?\n",
    "\n",
    "    - Will weighting the portfolio more heavily toward stocks allow the credit union members to retire after only 10 years?\n"
   ]
  },
  {
   "cell_type": "code",
   "execution_count": 231,
   "metadata": {},
   "outputs": [
    {
     "data": {
      "text/html": [
       "<div>\n",
       "<style scoped>\n",
       "    .dataframe tbody tr th:only-of-type {\n",
       "        vertical-align: middle;\n",
       "    }\n",
       "\n",
       "    .dataframe tbody tr th {\n",
       "        vertical-align: top;\n",
       "    }\n",
       "\n",
       "    .dataframe thead tr th {\n",
       "        text-align: left;\n",
       "    }\n",
       "\n",
       "    .dataframe thead tr:last-of-type th {\n",
       "        text-align: right;\n",
       "    }\n",
       "</style>\n",
       "<table border=\"1\" class=\"dataframe\">\n",
       "  <thead>\n",
       "    <tr>\n",
       "      <th></th>\n",
       "      <th colspan=\"6\" halign=\"left\">AGG</th>\n",
       "      <th colspan=\"6\" halign=\"left\">SPY</th>\n",
       "    </tr>\n",
       "    <tr>\n",
       "      <th></th>\n",
       "      <th>open</th>\n",
       "      <th>high</th>\n",
       "      <th>low</th>\n",
       "      <th>close</th>\n",
       "      <th>volume</th>\n",
       "      <th>daily_return</th>\n",
       "      <th>open</th>\n",
       "      <th>high</th>\n",
       "      <th>low</th>\n",
       "      <th>close</th>\n",
       "      <th>volume</th>\n",
       "      <th>daily_return</th>\n",
       "    </tr>\n",
       "    <tr>\n",
       "      <th>time</th>\n",
       "      <th></th>\n",
       "      <th></th>\n",
       "      <th></th>\n",
       "      <th></th>\n",
       "      <th></th>\n",
       "      <th></th>\n",
       "      <th></th>\n",
       "      <th></th>\n",
       "      <th></th>\n",
       "      <th></th>\n",
       "      <th></th>\n",
       "      <th></th>\n",
       "    </tr>\n",
       "  </thead>\n",
       "  <tbody>\n",
       "    <tr>\n",
       "      <th>2018-10-15 00:00:00-04:00</th>\n",
       "      <td>104.73</td>\n",
       "      <td>104.7835</td>\n",
       "      <td>104.6233</td>\n",
       "      <td>104.670</td>\n",
       "      <td>2502508</td>\n",
       "      <td>NaN</td>\n",
       "      <td>275.55</td>\n",
       "      <td>277.04</td>\n",
       "      <td>274.30</td>\n",
       "      <td>274.48</td>\n",
       "      <td>75385132</td>\n",
       "      <td>NaN</td>\n",
       "    </tr>\n",
       "    <tr>\n",
       "      <th>2018-10-16 00:00:00-04:00</th>\n",
       "      <td>104.69</td>\n",
       "      <td>104.7400</td>\n",
       "      <td>104.5800</td>\n",
       "      <td>104.740</td>\n",
       "      <td>5520646</td>\n",
       "      <td>0.000669</td>\n",
       "      <td>276.57</td>\n",
       "      <td>280.82</td>\n",
       "      <td>276.07</td>\n",
       "      <td>280.30</td>\n",
       "      <td>75057478</td>\n",
       "      <td>0.021204</td>\n",
       "    </tr>\n",
       "    <tr>\n",
       "      <th>2018-10-17 00:00:00-04:00</th>\n",
       "      <td>104.71</td>\n",
       "      <td>104.7700</td>\n",
       "      <td>104.5200</td>\n",
       "      <td>104.535</td>\n",
       "      <td>2608875</td>\n",
       "      <td>-0.001957</td>\n",
       "      <td>280.44</td>\n",
       "      <td>281.15</td>\n",
       "      <td>277.56</td>\n",
       "      <td>280.40</td>\n",
       "      <td>81740972</td>\n",
       "      <td>0.000357</td>\n",
       "    </tr>\n",
       "    <tr>\n",
       "      <th>2018-10-18 00:00:00-04:00</th>\n",
       "      <td>104.39</td>\n",
       "      <td>104.6195</td>\n",
       "      <td>104.3750</td>\n",
       "      <td>104.460</td>\n",
       "      <td>2687836</td>\n",
       "      <td>-0.000717</td>\n",
       "      <td>279.40</td>\n",
       "      <td>280.07</td>\n",
       "      <td>274.97</td>\n",
       "      <td>276.47</td>\n",
       "      <td>106592503</td>\n",
       "      <td>-0.014016</td>\n",
       "    </tr>\n",
       "    <tr>\n",
       "      <th>2018-10-19 00:00:00-04:00</th>\n",
       "      <td>104.47</td>\n",
       "      <td>104.5500</td>\n",
       "      <td>104.3400</td>\n",
       "      <td>104.370</td>\n",
       "      <td>2912850</td>\n",
       "      <td>-0.000862</td>\n",
       "      <td>277.12</td>\n",
       "      <td>279.30</td>\n",
       "      <td>275.47</td>\n",
       "      <td>276.19</td>\n",
       "      <td>86816021</td>\n",
       "      <td>-0.001013</td>\n",
       "    </tr>\n",
       "  </tbody>\n",
       "</table>\n",
       "</div>"
      ],
      "text/plain": [
       "                              AGG                                        \\\n",
       "                             open      high       low    close   volume   \n",
       "time                                                                      \n",
       "2018-10-15 00:00:00-04:00  104.73  104.7835  104.6233  104.670  2502508   \n",
       "2018-10-16 00:00:00-04:00  104.69  104.7400  104.5800  104.740  5520646   \n",
       "2018-10-17 00:00:00-04:00  104.71  104.7700  104.5200  104.535  2608875   \n",
       "2018-10-18 00:00:00-04:00  104.39  104.6195  104.3750  104.460  2687836   \n",
       "2018-10-19 00:00:00-04:00  104.47  104.5500  104.3400  104.370  2912850   \n",
       "\n",
       "                                           SPY                          \\\n",
       "                          daily_return    open    high     low   close   \n",
       "time                                                                     \n",
       "2018-10-15 00:00:00-04:00          NaN  275.55  277.04  274.30  274.48   \n",
       "2018-10-16 00:00:00-04:00     0.000669  276.57  280.82  276.07  280.30   \n",
       "2018-10-17 00:00:00-04:00    -0.001957  280.44  281.15  277.56  280.40   \n",
       "2018-10-18 00:00:00-04:00    -0.000717  279.40  280.07  274.97  276.47   \n",
       "2018-10-19 00:00:00-04:00    -0.000862  277.12  279.30  275.47  276.19   \n",
       "\n",
       "                                                   \n",
       "                              volume daily_return  \n",
       "time                                               \n",
       "2018-10-15 00:00:00-04:00   75385132          NaN  \n",
       "2018-10-16 00:00:00-04:00   75057478     0.021204  \n",
       "2018-10-17 00:00:00-04:00   81740972     0.000357  \n",
       "2018-10-18 00:00:00-04:00  106592503    -0.014016  \n",
       "2018-10-19 00:00:00-04:00   86816021    -0.001013  "
      ]
     },
     "execution_count": 231,
     "metadata": {},
     "output_type": "execute_result"
    }
   ],
   "source": [
    "# Configure a Monte Carlo simulation to forecast 10 years cumulative returns\n",
    "# The weights should be split 20% to AGG and 80% to SPY.\n",
    "# Run 500 samples.\n",
    "MC_ten_years = MCSimulation(portfolio_data = prices_df,\n",
    "                             weights= [.20, .80],\n",
    "                             num_simulation= 500,\n",
    "                             num_trading_days= 252*10)\n",
    "\n",
    "# Review the simulation input data\n",
    "MC_ten_years.portfolio_data.head()\n"
   ]
  },
  {
   "cell_type": "code",
   "execution_count": 232,
   "metadata": {},
   "outputs": [
    {
     "name": "stdout",
     "output_type": "stream",
     "text": [
      "Running Monte Carlo simulation number 0.\n",
      "Running Monte Carlo simulation number 10.\n",
      "Running Monte Carlo simulation number 20.\n",
      "Running Monte Carlo simulation number 30.\n",
      "Running Monte Carlo simulation number 40.\n",
      "Running Monte Carlo simulation number 50.\n",
      "Running Monte Carlo simulation number 60.\n",
      "Running Monte Carlo simulation number 70.\n",
      "Running Monte Carlo simulation number 80.\n",
      "Running Monte Carlo simulation number 90.\n",
      "Running Monte Carlo simulation number 100.\n",
      "Running Monte Carlo simulation number 110.\n",
      "Running Monte Carlo simulation number 120.\n",
      "Running Monte Carlo simulation number 130.\n",
      "Running Monte Carlo simulation number 140.\n",
      "Running Monte Carlo simulation number 150.\n",
      "Running Monte Carlo simulation number 160.\n",
      "Running Monte Carlo simulation number 170.\n",
      "Running Monte Carlo simulation number 180.\n",
      "Running Monte Carlo simulation number 190.\n",
      "Running Monte Carlo simulation number 200.\n",
      "Running Monte Carlo simulation number 210.\n",
      "Running Monte Carlo simulation number 220.\n",
      "Running Monte Carlo simulation number 230.\n",
      "Running Monte Carlo simulation number 240.\n",
      "Running Monte Carlo simulation number 250.\n",
      "Running Monte Carlo simulation number 260.\n",
      "Running Monte Carlo simulation number 270.\n",
      "Running Monte Carlo simulation number 280.\n",
      "Running Monte Carlo simulation number 290.\n",
      "Running Monte Carlo simulation number 300.\n",
      "Running Monte Carlo simulation number 310.\n",
      "Running Monte Carlo simulation number 320.\n",
      "Running Monte Carlo simulation number 330.\n",
      "Running Monte Carlo simulation number 340.\n",
      "Running Monte Carlo simulation number 350.\n",
      "Running Monte Carlo simulation number 360.\n",
      "Running Monte Carlo simulation number 370.\n",
      "Running Monte Carlo simulation number 380.\n",
      "Running Monte Carlo simulation number 390.\n",
      "Running Monte Carlo simulation number 400.\n",
      "Running Monte Carlo simulation number 410.\n",
      "Running Monte Carlo simulation number 420.\n",
      "Running Monte Carlo simulation number 430.\n",
      "Running Monte Carlo simulation number 440.\n",
      "Running Monte Carlo simulation number 450.\n",
      "Running Monte Carlo simulation number 460.\n",
      "Running Monte Carlo simulation number 470.\n",
      "Running Monte Carlo simulation number 480.\n",
      "Running Monte Carlo simulation number 490.\n"
     ]
    },
    {
     "data": {
      "text/html": [
       "<div>\n",
       "<style scoped>\n",
       "    .dataframe tbody tr th:only-of-type {\n",
       "        vertical-align: middle;\n",
       "    }\n",
       "\n",
       "    .dataframe tbody tr th {\n",
       "        vertical-align: top;\n",
       "    }\n",
       "\n",
       "    .dataframe thead th {\n",
       "        text-align: right;\n",
       "    }\n",
       "</style>\n",
       "<table border=\"1\" class=\"dataframe\">\n",
       "  <thead>\n",
       "    <tr style=\"text-align: right;\">\n",
       "      <th></th>\n",
       "      <th>0</th>\n",
       "      <th>1</th>\n",
       "      <th>2</th>\n",
       "      <th>3</th>\n",
       "      <th>4</th>\n",
       "      <th>5</th>\n",
       "      <th>6</th>\n",
       "      <th>7</th>\n",
       "      <th>8</th>\n",
       "      <th>9</th>\n",
       "      <th>...</th>\n",
       "      <th>490</th>\n",
       "      <th>491</th>\n",
       "      <th>492</th>\n",
       "      <th>493</th>\n",
       "      <th>494</th>\n",
       "      <th>495</th>\n",
       "      <th>496</th>\n",
       "      <th>497</th>\n",
       "      <th>498</th>\n",
       "      <th>499</th>\n",
       "    </tr>\n",
       "  </thead>\n",
       "  <tbody>\n",
       "    <tr>\n",
       "      <th>0</th>\n",
       "      <td>1.000000</td>\n",
       "      <td>1.000000</td>\n",
       "      <td>1.000000</td>\n",
       "      <td>1.000000</td>\n",
       "      <td>1.000000</td>\n",
       "      <td>1.000000</td>\n",
       "      <td>1.000000</td>\n",
       "      <td>1.000000</td>\n",
       "      <td>1.000000</td>\n",
       "      <td>1.000000</td>\n",
       "      <td>...</td>\n",
       "      <td>1.000000</td>\n",
       "      <td>1.000000</td>\n",
       "      <td>1.000000</td>\n",
       "      <td>1.000000</td>\n",
       "      <td>1.000000</td>\n",
       "      <td>1.000000</td>\n",
       "      <td>1.000000</td>\n",
       "      <td>1.000000</td>\n",
       "      <td>1.000000</td>\n",
       "      <td>1.000000</td>\n",
       "    </tr>\n",
       "    <tr>\n",
       "      <th>1</th>\n",
       "      <td>0.996561</td>\n",
       "      <td>1.003261</td>\n",
       "      <td>1.007122</td>\n",
       "      <td>0.992853</td>\n",
       "      <td>1.000294</td>\n",
       "      <td>1.013247</td>\n",
       "      <td>0.993734</td>\n",
       "      <td>0.988488</td>\n",
       "      <td>0.981201</td>\n",
       "      <td>1.000004</td>\n",
       "      <td>...</td>\n",
       "      <td>1.001003</td>\n",
       "      <td>0.999014</td>\n",
       "      <td>1.004593</td>\n",
       "      <td>1.012196</td>\n",
       "      <td>0.990199</td>\n",
       "      <td>1.003386</td>\n",
       "      <td>0.990451</td>\n",
       "      <td>0.983914</td>\n",
       "      <td>0.994356</td>\n",
       "      <td>0.995249</td>\n",
       "    </tr>\n",
       "    <tr>\n",
       "      <th>2</th>\n",
       "      <td>0.981338</td>\n",
       "      <td>1.002694</td>\n",
       "      <td>1.003563</td>\n",
       "      <td>0.981503</td>\n",
       "      <td>1.018167</td>\n",
       "      <td>1.017596</td>\n",
       "      <td>1.007160</td>\n",
       "      <td>0.991768</td>\n",
       "      <td>1.002602</td>\n",
       "      <td>0.989074</td>\n",
       "      <td>...</td>\n",
       "      <td>1.025103</td>\n",
       "      <td>1.001285</td>\n",
       "      <td>1.009684</td>\n",
       "      <td>0.999298</td>\n",
       "      <td>0.975819</td>\n",
       "      <td>0.992292</td>\n",
       "      <td>0.984470</td>\n",
       "      <td>0.982372</td>\n",
       "      <td>0.989736</td>\n",
       "      <td>0.993786</td>\n",
       "    </tr>\n",
       "    <tr>\n",
       "      <th>3</th>\n",
       "      <td>0.994011</td>\n",
       "      <td>1.004574</td>\n",
       "      <td>1.018877</td>\n",
       "      <td>1.004717</td>\n",
       "      <td>1.008210</td>\n",
       "      <td>1.023417</td>\n",
       "      <td>1.018752</td>\n",
       "      <td>1.005117</td>\n",
       "      <td>0.995963</td>\n",
       "      <td>1.018766</td>\n",
       "      <td>...</td>\n",
       "      <td>1.035291</td>\n",
       "      <td>1.033075</td>\n",
       "      <td>1.014441</td>\n",
       "      <td>0.969093</td>\n",
       "      <td>0.969390</td>\n",
       "      <td>1.005495</td>\n",
       "      <td>0.984038</td>\n",
       "      <td>0.992381</td>\n",
       "      <td>1.013976</td>\n",
       "      <td>0.991759</td>\n",
       "    </tr>\n",
       "    <tr>\n",
       "      <th>4</th>\n",
       "      <td>1.000716</td>\n",
       "      <td>1.001598</td>\n",
       "      <td>1.015054</td>\n",
       "      <td>0.981870</td>\n",
       "      <td>1.000602</td>\n",
       "      <td>1.031658</td>\n",
       "      <td>1.029124</td>\n",
       "      <td>1.005422</td>\n",
       "      <td>1.014076</td>\n",
       "      <td>1.007925</td>\n",
       "      <td>...</td>\n",
       "      <td>1.031630</td>\n",
       "      <td>1.045989</td>\n",
       "      <td>1.026622</td>\n",
       "      <td>0.952252</td>\n",
       "      <td>0.963656</td>\n",
       "      <td>1.033865</td>\n",
       "      <td>0.995228</td>\n",
       "      <td>0.980099</td>\n",
       "      <td>1.013142</td>\n",
       "      <td>0.980458</td>\n",
       "    </tr>\n",
       "    <tr>\n",
       "      <th>...</th>\n",
       "      <td>...</td>\n",
       "      <td>...</td>\n",
       "      <td>...</td>\n",
       "      <td>...</td>\n",
       "      <td>...</td>\n",
       "      <td>...</td>\n",
       "      <td>...</td>\n",
       "      <td>...</td>\n",
       "      <td>...</td>\n",
       "      <td>...</td>\n",
       "      <td>...</td>\n",
       "      <td>...</td>\n",
       "      <td>...</td>\n",
       "      <td>...</td>\n",
       "      <td>...</td>\n",
       "      <td>...</td>\n",
       "      <td>...</td>\n",
       "      <td>...</td>\n",
       "      <td>...</td>\n",
       "      <td>...</td>\n",
       "      <td>...</td>\n",
       "    </tr>\n",
       "    <tr>\n",
       "      <th>2516</th>\n",
       "      <td>1.885881</td>\n",
       "      <td>7.786125</td>\n",
       "      <td>2.779200</td>\n",
       "      <td>2.123775</td>\n",
       "      <td>3.178277</td>\n",
       "      <td>9.922436</td>\n",
       "      <td>4.391454</td>\n",
       "      <td>3.901173</td>\n",
       "      <td>2.551993</td>\n",
       "      <td>2.355667</td>\n",
       "      <td>...</td>\n",
       "      <td>10.202176</td>\n",
       "      <td>10.843424</td>\n",
       "      <td>9.002848</td>\n",
       "      <td>2.314021</td>\n",
       "      <td>3.182270</td>\n",
       "      <td>12.119196</td>\n",
       "      <td>1.553444</td>\n",
       "      <td>1.703027</td>\n",
       "      <td>7.727569</td>\n",
       "      <td>3.712016</td>\n",
       "    </tr>\n",
       "    <tr>\n",
       "      <th>2517</th>\n",
       "      <td>1.896872</td>\n",
       "      <td>7.836301</td>\n",
       "      <td>2.752545</td>\n",
       "      <td>2.144616</td>\n",
       "      <td>3.148240</td>\n",
       "      <td>10.001614</td>\n",
       "      <td>4.386544</td>\n",
       "      <td>3.906299</td>\n",
       "      <td>2.524749</td>\n",
       "      <td>2.343143</td>\n",
       "      <td>...</td>\n",
       "      <td>10.210489</td>\n",
       "      <td>10.839733</td>\n",
       "      <td>8.979777</td>\n",
       "      <td>2.278657</td>\n",
       "      <td>3.146111</td>\n",
       "      <td>12.297498</td>\n",
       "      <td>1.547634</td>\n",
       "      <td>1.688261</td>\n",
       "      <td>7.844372</td>\n",
       "      <td>3.677069</td>\n",
       "    </tr>\n",
       "    <tr>\n",
       "      <th>2518</th>\n",
       "      <td>1.884209</td>\n",
       "      <td>7.864770</td>\n",
       "      <td>2.765765</td>\n",
       "      <td>2.152941</td>\n",
       "      <td>3.115667</td>\n",
       "      <td>10.048558</td>\n",
       "      <td>4.353868</td>\n",
       "      <td>3.949787</td>\n",
       "      <td>2.545914</td>\n",
       "      <td>2.362133</td>\n",
       "      <td>...</td>\n",
       "      <td>10.083556</td>\n",
       "      <td>10.809807</td>\n",
       "      <td>9.121786</td>\n",
       "      <td>2.300194</td>\n",
       "      <td>3.160495</td>\n",
       "      <td>12.496705</td>\n",
       "      <td>1.555129</td>\n",
       "      <td>1.701313</td>\n",
       "      <td>7.796953</td>\n",
       "      <td>3.787939</td>\n",
       "    </tr>\n",
       "    <tr>\n",
       "      <th>2519</th>\n",
       "      <td>1.928123</td>\n",
       "      <td>7.774731</td>\n",
       "      <td>2.802494</td>\n",
       "      <td>2.178799</td>\n",
       "      <td>3.126157</td>\n",
       "      <td>9.961059</td>\n",
       "      <td>4.351059</td>\n",
       "      <td>3.923907</td>\n",
       "      <td>2.597871</td>\n",
       "      <td>2.348559</td>\n",
       "      <td>...</td>\n",
       "      <td>10.170410</td>\n",
       "      <td>10.594249</td>\n",
       "      <td>9.153607</td>\n",
       "      <td>2.304873</td>\n",
       "      <td>3.065328</td>\n",
       "      <td>12.480123</td>\n",
       "      <td>1.559583</td>\n",
       "      <td>1.698358</td>\n",
       "      <td>7.686015</td>\n",
       "      <td>3.774510</td>\n",
       "    </tr>\n",
       "    <tr>\n",
       "      <th>2520</th>\n",
       "      <td>1.926047</td>\n",
       "      <td>7.817112</td>\n",
       "      <td>2.819454</td>\n",
       "      <td>2.151078</td>\n",
       "      <td>3.099417</td>\n",
       "      <td>9.986667</td>\n",
       "      <td>4.350042</td>\n",
       "      <td>3.935340</td>\n",
       "      <td>2.562768</td>\n",
       "      <td>2.372082</td>\n",
       "      <td>...</td>\n",
       "      <td>10.211447</td>\n",
       "      <td>10.577073</td>\n",
       "      <td>9.206294</td>\n",
       "      <td>2.321302</td>\n",
       "      <td>3.080332</td>\n",
       "      <td>12.250302</td>\n",
       "      <td>1.566006</td>\n",
       "      <td>1.705685</td>\n",
       "      <td>7.681990</td>\n",
       "      <td>3.781558</td>\n",
       "    </tr>\n",
       "  </tbody>\n",
       "</table>\n",
       "<p>2521 rows × 500 columns</p>\n",
       "</div>"
      ],
      "text/plain": [
       "           0         1         2         3         4          5         6    \\\n",
       "0     1.000000  1.000000  1.000000  1.000000  1.000000   1.000000  1.000000   \n",
       "1     0.996561  1.003261  1.007122  0.992853  1.000294   1.013247  0.993734   \n",
       "2     0.981338  1.002694  1.003563  0.981503  1.018167   1.017596  1.007160   \n",
       "3     0.994011  1.004574  1.018877  1.004717  1.008210   1.023417  1.018752   \n",
       "4     1.000716  1.001598  1.015054  0.981870  1.000602   1.031658  1.029124   \n",
       "...        ...       ...       ...       ...       ...        ...       ...   \n",
       "2516  1.885881  7.786125  2.779200  2.123775  3.178277   9.922436  4.391454   \n",
       "2517  1.896872  7.836301  2.752545  2.144616  3.148240  10.001614  4.386544   \n",
       "2518  1.884209  7.864770  2.765765  2.152941  3.115667  10.048558  4.353868   \n",
       "2519  1.928123  7.774731  2.802494  2.178799  3.126157   9.961059  4.351059   \n",
       "2520  1.926047  7.817112  2.819454  2.151078  3.099417   9.986667  4.350042   \n",
       "\n",
       "           7         8         9    ...        490        491       492  \\\n",
       "0     1.000000  1.000000  1.000000  ...   1.000000   1.000000  1.000000   \n",
       "1     0.988488  0.981201  1.000004  ...   1.001003   0.999014  1.004593   \n",
       "2     0.991768  1.002602  0.989074  ...   1.025103   1.001285  1.009684   \n",
       "3     1.005117  0.995963  1.018766  ...   1.035291   1.033075  1.014441   \n",
       "4     1.005422  1.014076  1.007925  ...   1.031630   1.045989  1.026622   \n",
       "...        ...       ...       ...  ...        ...        ...       ...   \n",
       "2516  3.901173  2.551993  2.355667  ...  10.202176  10.843424  9.002848   \n",
       "2517  3.906299  2.524749  2.343143  ...  10.210489  10.839733  8.979777   \n",
       "2518  3.949787  2.545914  2.362133  ...  10.083556  10.809807  9.121786   \n",
       "2519  3.923907  2.597871  2.348559  ...  10.170410  10.594249  9.153607   \n",
       "2520  3.935340  2.562768  2.372082  ...  10.211447  10.577073  9.206294   \n",
       "\n",
       "           493       494        495       496       497       498       499  \n",
       "0     1.000000  1.000000   1.000000  1.000000  1.000000  1.000000  1.000000  \n",
       "1     1.012196  0.990199   1.003386  0.990451  0.983914  0.994356  0.995249  \n",
       "2     0.999298  0.975819   0.992292  0.984470  0.982372  0.989736  0.993786  \n",
       "3     0.969093  0.969390   1.005495  0.984038  0.992381  1.013976  0.991759  \n",
       "4     0.952252  0.963656   1.033865  0.995228  0.980099  1.013142  0.980458  \n",
       "...        ...       ...        ...       ...       ...       ...       ...  \n",
       "2516  2.314021  3.182270  12.119196  1.553444  1.703027  7.727569  3.712016  \n",
       "2517  2.278657  3.146111  12.297498  1.547634  1.688261  7.844372  3.677069  \n",
       "2518  2.300194  3.160495  12.496705  1.555129  1.701313  7.796953  3.787939  \n",
       "2519  2.304873  3.065328  12.480123  1.559583  1.698358  7.686015  3.774510  \n",
       "2520  2.321302  3.080332  12.250302  1.566006  1.705685  7.681990  3.781558  \n",
       "\n",
       "[2521 rows x 500 columns]"
      ]
     },
     "execution_count": 232,
     "metadata": {},
     "output_type": "execute_result"
    }
   ],
   "source": [
    "# Run the Monte Carlo simulation to forecast 10 years cumulative returns\n",
    "MC_ten_years.calc_cumulative_return()\n"
   ]
  },
  {
   "cell_type": "code",
   "execution_count": 234,
   "metadata": {},
   "outputs": [
    {
     "data": {
      "text/plain": [
       "<AxesSubplot:title={'center':'500 Simulations of Cumulative Portfolio Return Trajectories Over the Next 2520 Trading Days.'}>"
      ]
     },
     "execution_count": 234,
     "metadata": {},
     "output_type": "execute_result"
    },
    {
     "data": {
      "image/png": "[encoded data removed]",
      "text/plain": [
       "<Figure size 432x288 with 1 Axes>"
      ]
     },
     "metadata": {
      "needs_background": "light"
     },
     "output_type": "display_data"
    }
   ],
   "source": [
    "# Visualize the 10-year Monte Carlo simulation by creating an\n",
    "# overlay line plot\n",
    "MC_ten_years.plot_simulation()\n"
   ]
  },
  {
   "cell_type": "code",
   "execution_count": 236,
   "metadata": {},
   "outputs": [
    {
     "data": {
      "text/plain": [
       "<AxesSubplot:title={'center':'Distribution of Final Cumuluative Returns Across All 500 Simulations'}, ylabel='Frequency'>"
      ]
     },
     "execution_count": 236,
     "metadata": {},
     "output_type": "execute_result"
    },
    {
     "data": {
      "image/png": "[encoded data removed]",
      "text/plain": [
       "<Figure size 432x288 with 1 Axes>"
      ]
     },
     "metadata": {
      "needs_background": "light"
     },
     "output_type": "display_data"
    }
   ],
   "source": [
    "# Visualize the probability distribution of the 10-year Monte Carlo simulation \n",
    "# by plotting a histogram\n",
    "MC_ten_years.plot_distribution()\n"
   ]
  },
  {
   "cell_type": "code",
   "execution_count": 237,
   "metadata": {},
   "outputs": [
    {
     "name": "stdout",
     "output_type": "stream",
     "text": [
      "count           500.000000\n",
      "mean              4.588222\n",
      "std               2.796489\n",
      "min               0.473173\n",
      "25%               2.610452\n",
      "50%               3.876339\n",
      "75%               5.715763\n",
      "max              20.118733\n",
      "95% CI Lower      1.349850\n",
      "95% CI Upper     12.269525\n",
      "Name: 2520, dtype: float64\n"
     ]
    }
   ],
   "source": [
    "# Generate summary statistics from the 10-year Monte Carlo simulation results\n",
    "# Save the results as a variable\n",
    "MC_tenyears_sum_stat = MC_ten_years.summarize_cumulative_return()\n",
    "\n",
    "\n",
    "# Review the 10-year Monte Carlo summary statistics\n",
    "print(MC_tenyears_sum_stat)"
   ]
  },
  {
   "cell_type": "markdown",
   "metadata": {},
   "source": [
    "### Answer the following questions:"
   ]
  },
  {
   "cell_type": "markdown",
   "metadata": {},
   "source": [
    "#### Question: Using the current value of only the stock and bond portion of the member's portfolio and the summary statistics that you generated from the new Monte Carlo simulation, what are the lower and upper bounds for the expected value of the portfolio (with the new weights) with a 95% confidence interval?"
   ]
  },
  {
   "cell_type": "code",
   "execution_count": 238,
   "metadata": {},
   "outputs": [
    {
     "name": "stdout",
     "output_type": "stream",
     "text": [
      "The current balance of the stock and bond portfolio is: $70570.3\n"
     ]
    }
   ],
   "source": [
    "# Print the current balance of the stock and bond portion of the members portfolio\n",
    "print(f\"The current balance of the stock and bond portfolio is: ${total_stocks_bonds}\")\n"
   ]
  },
  {
   "cell_type": "code",
   "execution_count": 240,
   "metadata": {},
   "outputs": [
    {
     "name": "stdout",
     "output_type": "stream",
     "text": [
      "There is a 95% chance that you current protfolio over the next 10 years will end within in range of \n",
      "$ 95259.34 and $ 865864.05\n"
     ]
    }
   ],
   "source": [
    "# Use the lower and upper `95%` confidence intervals to calculate the range of the possible outcomes for the current stock/bond portfolio\n",
    "ci_lower_ten_cumulative_return = MC_tenyears_sum_stat[8] * total_stocks_bonds\n",
    "ci_upper_ten_cumulative_return = MC_tenyears_sum_stat[9] * total_stocks_bonds\n",
    "\n",
    "# Print the result of your calculations\n",
    "print(f\"There is a 95% chance that you current protfolio over the next 10 years will end within in range of \\n\"\n",
    "     f\"${ci_lower_ten_cumulative_return: .2f} and ${ci_upper_ten_cumulative_return: .2f}\")\n"
   ]
  },
  {
   "cell_type": "markdown",
   "metadata": {},
   "source": [
    "#### Question: Will weighting the portfolio more heavily to stocks allow the credit union members to retire after only 10 years?"
   ]
  },
  {
   "cell_type": "raw",
   "metadata": {},
   "source": [
    "**Answer** By changing the weight of the portfolio to have 80% stock and 20% bond, we are taking more risks. Comparing to the actual income the member is making and to keep a similar life style, he will probably not be able to retire.\n"
   ]
  },
  {
   "cell_type": "code",
   "execution_count": null,
   "metadata": {},
   "outputs": [],
   "source": []
  }
 ],
 "metadata": {
  "kernelspec": {
   "display_name": "Python (dev)",
   "language": "python",
   "name": "dev"
  },
  "language_info": {
   "codemirror_mode": {
    "name": "ipython",
    "version": 3
   },
   "file_extension": ".py",
   "mimetype": "text/x-python",
   "name": "python",
   "nbconvert_exporter": "python",
   "pygments_lexer": "ipython3",
   "version": "3.7.10"
  }
 },
 "nbformat": 4,
 "nbformat_minor": 4
}
