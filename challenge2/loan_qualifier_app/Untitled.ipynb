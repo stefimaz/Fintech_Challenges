{
 "cells": [
  {
   "cell_type": "code",
   "execution_count": 24,
   "id": "bef31b83-7b7d-4597-be6e-7d7a536277ce",
   "metadata": {},
   "outputs": [],
   "source": [
    " \"\"\"This function will use the csv library to save the qualifying data as a file\"\"\"\n",
    "    \n",
    "def save_csv(outhput_path): \n",
    "    with open(outhput_path, \"w\") as csvfile:\n",
    "        file = []\n",
    "        outhput_path = Path(\"qualifying_loan.csv\")\n",
    "        \n",
    "        csvwriter = csv.write(csvfile, outthput_path) \n",
    "        \n",
    "        csvwriter.writerow(header)\n",
    "\n",
    "        for loan in csvwriter:\n",
    "            csvwriter.writerow(loan.values())\n",
    "        \n",
    "        return file\n",
    "    \n",
    "     \n",
    "        "
   ]
  },
  {
   "cell_type": "code",
   "execution_count": null,
   "id": "9c9e70b0-4fb0-4574-b0e0-956b3fd7dee7",
   "metadata": {},
   "outputs": [],
   "source": []
  }
 ],
 "metadata": {
  "kernelspec": {
   "display_name": "Python 3 (ipykernel)",
   "language": "python",
   "name": "python3"
  },
  "language_info": {
   "codemirror_mode": {
    "name": "ipython",
    "version": 3
   },
   "file_extension": ".py",
   "mimetype": "text/x-python",
   "name": "python",
   "nbconvert_exporter": "python",
   "pygments_lexer": "ipython3",
   "version": "3.8.8"
  }
 },
 "nbformat": 4,
 "nbformat_minor": 5
}
