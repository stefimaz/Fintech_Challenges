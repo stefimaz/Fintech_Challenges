{
 "cells": [
  {
   "cell_type": "markdown",
   "metadata": {},
   "source": [
    "# Create a Web Application for an ETF Analyzer\n",
    "\n",
    "In this Challenge assignment, you’ll build a financial database and web application by using SQL, Python, and the Voilà library to analyze the performance of a hypothetical fintech ETF.\n",
    "\n",
    "Instructions: \n",
    "\n",
    "Use this notebook to complete your analysis of a fintech ETF that consists of four stocks: GOST, GS, PYPL, and SQ. Each stock has its own table in the `etf.db` database, which the `Starter_Code` folder also contains.\n",
    "\n",
    "Analyze the daily returns of the ETF stocks both individually and as a whole. Then deploy the visualizations to a web application by using the Voilà library.\n",
    "\n",
    "The detailed instructions are divided into the following parts:\n",
    "\n",
    "* Analyze a single asset in the ETF\n",
    "\n",
    "* Optimize data access with Advanced SQL queries\n",
    "\n",
    "* Analyze the ETF portfolio\n",
    "\n",
    "* Deploy the notebook as a web application\n",
    "\n",
    "#### Analyze a Single Asset in the ETF\n",
    "\n",
    "For this part of the assignment, you’ll use SQL queries with Python, Pandas, and hvPlot to analyze the performance of a single asset from the ETF.\n",
    "\n",
    "Complete the following steps:\n",
    "\n",
    "1. Write a SQL `SELECT` statement by using an f-string that reads all the PYPL data from the database. Using the SQL `SELECT` statement, execute a query that reads the PYPL data from the database into a Pandas DataFrame.\n",
    "\n",
    "2. Use the `head` and `tail` functions to review the first five and the last five rows of the DataFrame. Make a note of the beginning and end dates that are available from this dataset. You’ll use this information to complete your analysis.\n",
    "\n",
    "3. Using hvPlot, create an interactive visualization for the PYPL daily returns. Reflect the “time” column of the DataFrame on the x-axis. Make sure that you professionally style and format your visualization to enhance its readability.\n",
    "\n",
    "4. Using hvPlot, create an interactive visualization for the PYPL cumulative returns. Reflect the “time” column of the DataFrame on the x-axis. Make sure that you professionally style and format your visualization to enhance its readability.\n",
    "\n",
    "#### Optimize Data Access with Advanced SQL Queries\n",
    "\n",
    "For this part of the assignment, you’ll continue to analyze a single asset (PYPL) from the ETF. You’ll use advanced SQL queries to optimize the efficiency of accessing data from the database.\n",
    "\n",
    "Complete the following steps:\n",
    "\n",
    "1. Access the closing prices for PYPL that are greater than 200 by completing the following steps:\n",
    "\n",
    "    - Write a SQL `SELECT` statement to select the dates where the PYPL closing price was higher than 200.0.\n",
    "\n",
    "    - Using the SQL statement, read the data from the database into a Pandas DataFrame, and then review the resulting DataFrame.\n",
    "\n",
    "    - Select the “time” and “close” columns for those dates where the closing price was higher than 200.0.\n",
    "\n",
    "2. Find the top 10 daily returns for PYPL by completing the following steps:\n",
    "\n",
    "    -  Write a SQL statement to find the top 10 PYPL daily returns. Make sure to do the following:\n",
    "\n",
    "        * Use `SELECT` to select only the “time” and “daily_returns” columns.\n",
    "\n",
    "        * Use `ORDER` to sort the results in descending order by the “daily_returns” column.\n",
    "\n",
    "        * Use `LIMIT` to limit the results to the top 10 daily return values.\n",
    "\n",
    "    - Using the SQL statement, read the data from the database into a Pandas DataFrame, and then review the resulting DataFrame.\n",
    "\n",
    "#### Analyze the ETF Portfolio\n",
    "\n",
    "For this part of the assignment, you’ll build the entire ETF portfolio and then evaluate its performance. To do so, you’ll build the ETF portfolio by using SQL joins to combine all the data for each asset.\n",
    "\n",
    "Complete the following steps:\n",
    "\n",
    "1. Write a SQL query to join each table in the portfolio into a single DataFrame. To do so, complete the following steps:\n",
    "\n",
    "    - Use a SQL inner join to join each table on the “time” column. Access the “time” column in the `GDOT` table via the `GDOT.time` syntax. Access the “time” columns from the other tables via similar syntax.\n",
    "\n",
    "    - Using the SQL query, read the data from the database into a Pandas DataFrame. Review the resulting DataFrame.\n",
    "\n",
    "2. Create a DataFrame that averages the “daily_returns” columns for all four assets. Review the resulting DataFrame.\n",
    "\n",
    "    > **Hint** Assuming that this ETF contains equally weighted returns, you can average the returns for each asset to get the average returns of the portfolio. You can then use the average returns of the portfolio to calculate the annualized returns and the cumulative returns. For the calculation to get the average daily returns for the portfolio, use the following code:\n",
    "    >\n",
    "    > ```python\n",
    "    > etf_portfolio_returns = etf_portfolio['daily_returns'].mean(axis=1)\n",
    "    > ```\n",
    "    >\n",
    "    > You can use the average daily returns of the portfolio the same way that you used the daily returns of a single asset.\n",
    "\n",
    "3. Use the average daily returns in the `etf_portfolio_returns` DataFrame to calculate the annualized returns for the portfolio. Display the annualized return value of the ETF portfolio.\n",
    "\n",
    "> **Hint**  To calculate the annualized returns, multiply the mean of the `etf_portfolio_returns` values by 252.\n",
    ">\n",
    "> To convert the decimal values to percentages, multiply the results by 100.\n",
    "\n",
    "4. Use the average daily returns in the `etf_portfolio_returns` DataFrame to calculate the cumulative returns of the ETF portfolio.\n",
    "\n",
    "5. Using hvPlot, create an interactive line plot that visualizes the cumulative return values of the ETF portfolio. Reflect the “time” column of the DataFrame on the x-axis. Make sure that you professionally style and format your visualization to enhance its readability.\n",
    "\n",
    "#### Deploy the Notebook as a Web Application\n",
    "\n",
    "For this part of the assignment, complete the following steps:\n",
    "\n",
    "1. Use the Voilà library to deploy your notebook as a web application. You can deploy the web application locally on your computer.\n",
    "\n",
    "2. Take a screen recording or screenshots to show how the web application appears when using Voilà. Include the recording or screenshots in the `README.md` file for your GitHub repository.\n"
   ]
  },
  {
   "cell_type": "markdown",
   "metadata": {},
   "source": [
    "## Review the following code which imports the required libraries, initiates your SQLite database, popluates the database with records from the `etf.db` seed file that was included in your Starter_Code folder, creates the database engine, and confirms that data tables that it now contains."
   ]
  },
  {
   "cell_type": "code",
   "execution_count": 111,
   "metadata": {},
   "outputs": [
    {
     "name": "stderr",
     "output_type": "stream",
     "text": [
      "/opt/anaconda3/envs/dev/lib/python3.7/site-packages/ipykernel_launcher.py:15: SADeprecationWarning: The Engine.table_names() method is deprecated and will be removed in a future release.  Please refer to Inspector.get_table_names(). (deprecated since: 1.4)\n",
      "  from ipykernel import kernelapp as app\n"
     ]
    },
    {
     "data": {
      "text/plain": [
       "['GDOT', 'GS', 'PYPL', 'SQ']"
      ]
     },
     "execution_count": 111,
     "metadata": {},
     "output_type": "execute_result"
    }
   ],
   "source": [
    "# Importing the required libraries and dependencies\n",
    "import numpy as np\n",
    "import pandas as pd\n",
    "import hvplot.pandas\n",
    "import sqlalchemy as sql\n",
    "from datetime import datetime\n",
    "\n",
    "# Create a temporary SQLite database and populate the database with content from the etf.db seed file\n",
    "database_connection_string = 'sqlite:///etf.db'\n",
    "\n",
    "# Create an engine to interact with the SQLite database\n",
    "engine = sql.create_engine(database_connection_string)\n",
    "\n",
    "# Confirm that table names contained in the SQLite database.\n",
    "engine.table_names()"
   ]
  },
  {
   "cell_type": "markdown",
   "metadata": {},
   "source": [
    "## Analyze a single asset in the FinTech ETF\n",
    "\n",
    "For this part of the assignment, you’ll use SQL queries with Python, Pandas, and hvPlot to analyze the performance of a single asset from the ETF.\n",
    "\n",
    "Complete the following steps:\n",
    "\n",
    "1. Write a SQL `SELECT` statement by using an f-string that reads all the PYPL data from the database. Using the SQL `SELECT` statement, execute a query that reads the PYPL data from the database into a Pandas DataFrame.\n",
    "\n",
    "2. Use the `head` and `tail` functions to review the first five and the last five rows of the DataFrame. Make a note of the beginning and end dates that are available from this dataset. You’ll use this information to complete your analysis.\n",
    "\n",
    "3. Using hvPlot, create an interactive visualization for the PYPL daily returns. Reflect the “time” column of the DataFrame on the x-axis. Make sure that you professionally style and format your visualization to enhance its readability.\n",
    "\n",
    "4. Using hvPlot, create an interactive visualization for the PYPL cumulative returns. Reflect the “time” column of the DataFrame on the x-axis. Make sure that you professionally style and format your visualization to enhance its readability.\n",
    "\n"
   ]
  },
  {
   "cell_type": "markdown",
   "metadata": {},
   "source": [
    "### Step 1: Write a SQL `SELECT` statement by using an f-string that reads all the PYPL data from the database. Using the SQL `SELECT` statement, execute a query that reads the PYPL data from the database into a Pandas DataFrame."
   ]
  },
  {
   "cell_type": "code",
   "execution_count": 119,
   "metadata": {},
   "outputs": [],
   "source": [
    "# Write a SQL query to SELECT all of the data from the PYPL table\n",
    "query = \"\"\"\n",
    "SELECT *\n",
    "FROM PYPL\n",
    "\"\"\"\n",
    "\n",
    "# Use the query to read the PYPL data into a Pandas DataFrame\n",
    "pypl_dataframe = pd.read_sql(query, con=engine)\n"
   ]
  },
  {
   "cell_type": "code",
   "execution_count": 122,
   "metadata": {},
   "outputs": [],
   "source": [
    "# Changing time format to reflect only Yeaar, month and days\n",
    "pypl_dataframe[\"time\"] = pd.to_datetime(pypl_dataframe[\"time\"], infer_datetime_format= True)\n",
    "\n",
    "# changing index column to time\n",
    "pypl_dataframe.set_index(\"time\", drop= True, inplace= True)"
   ]
  },
  {
   "cell_type": "markdown",
   "metadata": {},
   "source": [
    "### Step 2: Use the `head` and `tail` functions to review the first five and the last five rows of the DataFrame. Make a note of the beginning and end dates that are available from this dataset. You’ll use this information to complete your analysis."
   ]
  },
  {
   "cell_type": "code",
   "execution_count": 123,
   "metadata": {},
   "outputs": [
    {
     "data": {
      "text/html": [
       "<div>\n",
       "<style scoped>\n",
       "    .dataframe tbody tr th:only-of-type {\n",
       "        vertical-align: middle;\n",
       "    }\n",
       "\n",
       "    .dataframe tbody tr th {\n",
       "        vertical-align: top;\n",
       "    }\n",
       "\n",
       "    .dataframe thead th {\n",
       "        text-align: right;\n",
       "    }\n",
       "</style>\n",
       "<table border=\"1\" class=\"dataframe\">\n",
       "  <thead>\n",
       "    <tr style=\"text-align: right;\">\n",
       "      <th></th>\n",
       "      <th>open</th>\n",
       "      <th>high</th>\n",
       "      <th>low</th>\n",
       "      <th>close</th>\n",
       "      <th>volume</th>\n",
       "      <th>daily_returns</th>\n",
       "    </tr>\n",
       "    <tr>\n",
       "      <th>time</th>\n",
       "      <th></th>\n",
       "      <th></th>\n",
       "      <th></th>\n",
       "      <th></th>\n",
       "      <th></th>\n",
       "      <th></th>\n",
       "    </tr>\n",
       "  </thead>\n",
       "  <tbody>\n",
       "    <tr>\n",
       "      <th>2016-12-16</th>\n",
       "      <td>39.90</td>\n",
       "      <td>39.90</td>\n",
       "      <td>39.12</td>\n",
       "      <td>39.32</td>\n",
       "      <td>7298861</td>\n",
       "      <td>-0.005564</td>\n",
       "    </tr>\n",
       "    <tr>\n",
       "      <th>2016-12-19</th>\n",
       "      <td>39.40</td>\n",
       "      <td>39.80</td>\n",
       "      <td>39.11</td>\n",
       "      <td>39.45</td>\n",
       "      <td>3436478</td>\n",
       "      <td>0.003306</td>\n",
       "    </tr>\n",
       "    <tr>\n",
       "      <th>2016-12-20</th>\n",
       "      <td>39.61</td>\n",
       "      <td>39.74</td>\n",
       "      <td>39.26</td>\n",
       "      <td>39.74</td>\n",
       "      <td>2940991</td>\n",
       "      <td>0.007351</td>\n",
       "    </tr>\n",
       "    <tr>\n",
       "      <th>2016-12-21</th>\n",
       "      <td>39.84</td>\n",
       "      <td>40.74</td>\n",
       "      <td>39.82</td>\n",
       "      <td>40.09</td>\n",
       "      <td>5826704</td>\n",
       "      <td>0.008807</td>\n",
       "    </tr>\n",
       "    <tr>\n",
       "      <th>2016-12-22</th>\n",
       "      <td>40.04</td>\n",
       "      <td>40.09</td>\n",
       "      <td>39.54</td>\n",
       "      <td>39.68</td>\n",
       "      <td>4338385</td>\n",
       "      <td>-0.010227</td>\n",
       "    </tr>\n",
       "  </tbody>\n",
       "</table>\n",
       "</div>"
      ],
      "text/plain": [
       "             open   high    low  close   volume  daily_returns\n",
       "time                                                          \n",
       "2016-12-16  39.90  39.90  39.12  39.32  7298861      -0.005564\n",
       "2016-12-19  39.40  39.80  39.11  39.45  3436478       0.003306\n",
       "2016-12-20  39.61  39.74  39.26  39.74  2940991       0.007351\n",
       "2016-12-21  39.84  40.74  39.82  40.09  5826704       0.008807\n",
       "2016-12-22  40.04  40.09  39.54  39.68  4338385      -0.010227"
      ]
     },
     "execution_count": 123,
     "metadata": {},
     "output_type": "execute_result"
    }
   ],
   "source": [
    "# View the first 5 rows of the DataFrame.\n",
    "pypl_dataframe.head()\n"
   ]
  },
  {
   "cell_type": "code",
   "execution_count": 125,
   "metadata": {},
   "outputs": [
    {
     "data": {
      "text/html": [
       "<div>\n",
       "<style scoped>\n",
       "    .dataframe tbody tr th:only-of-type {\n",
       "        vertical-align: middle;\n",
       "    }\n",
       "\n",
       "    .dataframe tbody tr th {\n",
       "        vertical-align: top;\n",
       "    }\n",
       "\n",
       "    .dataframe thead th {\n",
       "        text-align: right;\n",
       "    }\n",
       "</style>\n",
       "<table border=\"1\" class=\"dataframe\">\n",
       "  <thead>\n",
       "    <tr style=\"text-align: right;\">\n",
       "      <th></th>\n",
       "      <th>open</th>\n",
       "      <th>high</th>\n",
       "      <th>low</th>\n",
       "      <th>close</th>\n",
       "      <th>volume</th>\n",
       "      <th>daily_returns</th>\n",
       "    </tr>\n",
       "    <tr>\n",
       "      <th>time</th>\n",
       "      <th></th>\n",
       "      <th></th>\n",
       "      <th></th>\n",
       "      <th></th>\n",
       "      <th></th>\n",
       "      <th></th>\n",
       "    </tr>\n",
       "  </thead>\n",
       "  <tbody>\n",
       "    <tr>\n",
       "      <th>2020-11-30</th>\n",
       "      <td>212.51</td>\n",
       "      <td>215.83</td>\n",
       "      <td>207.0900</td>\n",
       "      <td>214.200</td>\n",
       "      <td>8992681</td>\n",
       "      <td>0.013629</td>\n",
       "    </tr>\n",
       "    <tr>\n",
       "      <th>2020-12-01</th>\n",
       "      <td>217.15</td>\n",
       "      <td>220.57</td>\n",
       "      <td>214.3401</td>\n",
       "      <td>216.520</td>\n",
       "      <td>9148174</td>\n",
       "      <td>0.010831</td>\n",
       "    </tr>\n",
       "    <tr>\n",
       "      <th>2020-12-02</th>\n",
       "      <td>215.60</td>\n",
       "      <td>215.75</td>\n",
       "      <td>210.5000</td>\n",
       "      <td>212.660</td>\n",
       "      <td>6414746</td>\n",
       "      <td>-0.017827</td>\n",
       "    </tr>\n",
       "    <tr>\n",
       "      <th>2020-12-03</th>\n",
       "      <td>213.33</td>\n",
       "      <td>216.93</td>\n",
       "      <td>213.1100</td>\n",
       "      <td>214.680</td>\n",
       "      <td>6463339</td>\n",
       "      <td>0.009499</td>\n",
       "    </tr>\n",
       "    <tr>\n",
       "      <th>2020-12-04</th>\n",
       "      <td>214.88</td>\n",
       "      <td>217.28</td>\n",
       "      <td>213.0100</td>\n",
       "      <td>217.235</td>\n",
       "      <td>2118319</td>\n",
       "      <td>0.011901</td>\n",
       "    </tr>\n",
       "  </tbody>\n",
       "</table>\n",
       "</div>"
      ],
      "text/plain": [
       "              open    high       low    close   volume  daily_returns\n",
       "time                                                                 \n",
       "2020-11-30  212.51  215.83  207.0900  214.200  8992681       0.013629\n",
       "2020-12-01  217.15  220.57  214.3401  216.520  9148174       0.010831\n",
       "2020-12-02  215.60  215.75  210.5000  212.660  6414746      -0.017827\n",
       "2020-12-03  213.33  216.93  213.1100  214.680  6463339       0.009499\n",
       "2020-12-04  214.88  217.28  213.0100  217.235  2118319       0.011901"
      ]
     },
     "execution_count": 125,
     "metadata": {},
     "output_type": "execute_result"
    }
   ],
   "source": [
    "# View the last 5 rows of the DataFrame.\n",
    "pypl_dataframe.tail()\n"
   ]
  },
  {
   "cell_type": "markdown",
   "metadata": {},
   "source": [
    "### Step 3: Using hvPlot, create an interactive visualization for the PYPL daily returns. Reflect the “time” column of the DataFrame on the x-axis. Make sure that you professionally style and format your visualization to enhance its readability."
   ]
  },
  {
   "cell_type": "code",
   "execution_count": 126,
   "metadata": {},
   "outputs": [
    {
     "data": {},
     "metadata": {},
     "output_type": "display_data"
    },
    {
     "data": {
      "application/vnd.holoviews_exec.v0+json": "",
      "text/html": [
       "<div id='4337'>\n",
       "\n",
       "\n",
       "\n",
       "\n",
       "\n",
       "  <div class=\"bk-root\" id=\"046a32bd-af7c-4d56-87b1-f9fb9a3cc48a\" data-root-id=\"4337\"></div>\n",
       "</div>\n",
       "<script type=\"application/javascript\">(function(root) {\n",
       "  function embed_document(root) {\n",
       "    var docs_json = {\"92e24d9f-7162-4e28-8210-e2a394d2c55e\":{\"defs\":[{\"extends\":null,\"module\":null,\"name\":\"ReactiveHTML1\",\"overrides\":[],\"properties\":[]},{\"extends\":null,\"module\":null,\"name\":\"FlexBox1\",\"overrides\":[],\"properties\":[{\"default\":\"flex-start\",\"kind\":null,\"name\":\"align_content\"},{\"default\":\"flex-start\",\"kind\":null,\"name\":\"align_items\"},{\"default\":\"row\",\"kind\":null,\"name\":\"flex_direction\"},{\"default\":\"wrap\",\"kind\":null,\"name\":\"flex_wrap\"},{\"default\":\"flex-start\",\"kind\":null,\"name\":\"justify_content\"}]},{\"extends\":null,\"module\":null,\"name\":\"TemplateActions1\",\"overrides\":[],\"properties\":[{\"default\":0,\"kind\":null,\"name\":\"open_modal\"},{\"default\":0,\"kind\":null,\"name\":\"close_modal\"}]},{\"extends\":null,\"module\":null,\"name\":\"MaterialTemplateActions1\",\"overrides\":[],\"properties\":[{\"default\":0,\"kind\":null,\"name\":\"open_modal\"},{\"default\":0,\"kind\":null,\"name\":\"close_modal\"}]}],\"roots\":{\"references\":[{\"attributes\":{\"margin\":[5,5,5,5],\"name\":\"HSpacer06697\",\"sizing_mode\":\"stretch_width\"},\"id\":\"4431\",\"type\":\"Spacer\"},{\"attributes\":{\"end\":0.1715458661010297,\"reset_end\":0.1715458661010297,\"reset_start\":-0.19523816539422575,\"start\":-0.19523816539422575,\"tags\":[[[\"daily_returns\",\"daily_returns\",null]]]},\"id\":\"4340\",\"type\":\"Range1d\"},{\"attributes\":{},\"id\":\"4361\",\"type\":\"WheelZoomTool\"},{\"attributes\":{},\"id\":\"4385\",\"type\":\"BasicTickFormatter\"},{\"attributes\":{\"overlay\":{\"id\":\"4364\"}},\"id\":\"4362\",\"type\":\"BoxZoomTool\"},{\"attributes\":{\"axis_label\":\"time\",\"formatter\":{\"id\":\"4382\"},\"major_label_orientation\":1.5707963267948966,\"major_label_policy\":{\"id\":\"4381\"},\"ticker\":{\"id\":\"4352\"}},\"id\":\"4351\",\"type\":\"DatetimeAxis\"},{\"attributes\":{\"data\":{\"daily_returns\":{\"__ndarray__\":\"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\",\"dtype\":\"float64\",\"order\":\"little\",\"shape\":[999]},\"time\":{\"__ndarray__\":\"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\",\"dtype\":\"float64\",\"order\":\"little\",\"shape\":[999]}},\"selected\":{\"id\":\"4373\"},\"selection_policy\":{\"id\":\"4394\"}},\"id\":\"4372\",\"type\":\"ColumnDataSource\"},{\"attributes\":{\"callback\":null,\"formatters\":{\"@{time}\":\"datetime\"},\"renderers\":[{\"id\":\"4378\"}],\"tags\":[\"hv_created\"],\"tooltips\":[[\"time\",\"@{time}{%F %T}\"],[\"daily_returns\",\"@{daily_returns}\"]]},\"id\":\"4341\",\"type\":\"HoverTool\"},{\"attributes\":{},\"id\":\"4384\",\"type\":\"AllLabels\"},{\"attributes\":{},\"id\":\"4349\",\"type\":\"LinearScale\"},{\"attributes\":{\"below\":[{\"id\":\"4351\"}],\"center\":[{\"id\":\"4354\"},{\"id\":\"4358\"}],\"height\":500,\"left\":[{\"id\":\"4355\"}],\"margin\":[5,5,5,5],\"min_border_bottom\":10,\"min_border_left\":10,\"min_border_right\":10,\"min_border_top\":10,\"renderers\":[{\"id\":\"4378\"}],\"sizing_mode\":\"fixed\",\"title\":{\"id\":\"4343\"},\"toolbar\":{\"id\":\"4365\"},\"width\":1500,\"x_range\":{\"id\":\"4339\"},\"x_scale\":{\"id\":\"4347\"},\"y_range\":{\"id\":\"4340\"},\"y_scale\":{\"id\":\"4349\"}},\"id\":\"4342\",\"subtype\":\"Figure\",\"type\":\"Plot\"},{\"attributes\":{\"line_alpha\":0.2,\"line_color\":\"#30a2da\",\"line_width\":2,\"x\":{\"field\":\"time\"},\"y\":{\"field\":\"daily_returns\"}},\"id\":\"4377\",\"type\":\"Line\"},{\"attributes\":{\"line_color\":\"#30a2da\",\"line_width\":2,\"x\":{\"field\":\"time\"},\"y\":{\"field\":\"daily_returns\"}},\"id\":\"4375\",\"type\":\"Line\"},{\"attributes\":{},\"id\":\"4381\",\"type\":\"AllLabels\"},{\"attributes\":{},\"id\":\"4363\",\"type\":\"ResetTool\"},{\"attributes\":{\"days\":[1,8,15,22]},\"id\":\"4401\",\"type\":\"DaysTicker\"},{\"attributes\":{\"children\":[{\"id\":\"4338\"},{\"id\":\"4342\"},{\"id\":\"4431\"}],\"margin\":[0,0,0,0],\"name\":\"Row06692\",\"tags\":[\"embedded\"]},\"id\":\"4337\",\"type\":\"Row\"},{\"attributes\":{},\"id\":\"4356\",\"type\":\"BasicTicker\"},{\"attributes\":{\"months\":[0,4,8]},\"id\":\"4405\",\"type\":\"MonthsTicker\"},{\"attributes\":{\"text\":\"Daily Returns for PYPL (12-16-2016 - 12-04-2020)\",\"text_color\":\"black\",\"text_font_size\":\"12pt\"},\"id\":\"4343\",\"type\":\"Title\"},{\"attributes\":{\"days\":[1,4,7,10,13,16,19,22,25,28]},\"id\":\"4400\",\"type\":\"DaysTicker\"},{\"attributes\":{\"mantissas\":[1,2,5],\"max_interval\":500.0,\"num_minor_ticks\":0},\"id\":\"4396\",\"type\":\"AdaptiveTicker\"},{\"attributes\":{\"num_minor_ticks\":5,\"tickers\":[{\"id\":\"4396\"},{\"id\":\"4397\"},{\"id\":\"4398\"},{\"id\":\"4399\"},{\"id\":\"4400\"},{\"id\":\"4401\"},{\"id\":\"4402\"},{\"id\":\"4403\"},{\"id\":\"4404\"},{\"id\":\"4405\"},{\"id\":\"4406\"},{\"id\":\"4407\"}]},\"id\":\"4352\",\"type\":\"DatetimeTicker\"},{\"attributes\":{\"days\":[1,15]},\"id\":\"4402\",\"type\":\"DaysTicker\"},{\"attributes\":{\"months\":[0,1,2,3,4,5,6,7,8,9,10,11]},\"id\":\"4403\",\"type\":\"MonthsTicker\"},{\"attributes\":{\"axis\":{\"id\":\"4351\"},\"grid_line_color\":null,\"ticker\":null},\"id\":\"4354\",\"type\":\"Grid\"},{\"attributes\":{\"base\":60,\"mantissas\":[1,2,5,10,15,20,30],\"max_interval\":1800000.0,\"min_interval\":1000.0,\"num_minor_ticks\":0},\"id\":\"4397\",\"type\":\"AdaptiveTicker\"},{\"attributes\":{\"axis\":{\"id\":\"4355\"},\"dimension\":1,\"grid_line_color\":null,\"ticker\":null},\"id\":\"4358\",\"type\":\"Grid\"},{\"attributes\":{\"end\":1607040000000.0,\"reset_end\":1607040000000.0,\"reset_start\":1481846400000.0,\"start\":1481846400000.0,\"tags\":[[[\"time\",\"time\",null]]]},\"id\":\"4339\",\"type\":\"Range1d\"},{\"attributes\":{},\"id\":\"4394\",\"type\":\"UnionRenderers\"},{\"attributes\":{\"margin\":[5,5,5,5],\"name\":\"HSpacer06696\",\"sizing_mode\":\"stretch_width\"},\"id\":\"4338\",\"type\":\"Spacer\"},{\"attributes\":{\"axis_label\":\"Daily Returns\",\"formatter\":{\"id\":\"4385\"},\"major_label_policy\":{\"id\":\"4384\"},\"ticker\":{\"id\":\"4356\"}},\"id\":\"4355\",\"type\":\"LinearAxis\"},{\"attributes\":{\"months\":[0,2,4,6,8,10]},\"id\":\"4404\",\"type\":\"MonthsTicker\"},{\"attributes\":{},\"id\":\"4347\",\"type\":\"LinearScale\"},{\"attributes\":{\"line_alpha\":0.1,\"line_color\":\"#30a2da\",\"line_width\":2,\"x\":{\"field\":\"time\"},\"y\":{\"field\":\"daily_returns\"}},\"id\":\"4376\",\"type\":\"Line\"},{\"attributes\":{\"days\":[1,2,3,4,5,6,7,8,9,10,11,12,13,14,15,16,17,18,19,20,21,22,23,24,25,26,27,28,29,30,31]},\"id\":\"4399\",\"type\":\"DaysTicker\"},{\"attributes\":{\"source\":{\"id\":\"4372\"}},\"id\":\"4379\",\"type\":\"CDSView\"},{\"attributes\":{\"base\":24,\"mantissas\":[1,2,4,6,8,12],\"max_interval\":43200000.0,\"min_interval\":3600000.0,\"num_minor_ticks\":0},\"id\":\"4398\",\"type\":\"AdaptiveTicker\"},{\"attributes\":{\"active_multi\":null,\"tools\":[{\"id\":\"4341\"},{\"id\":\"4359\"},{\"id\":\"4360\"},{\"id\":\"4361\"},{\"id\":\"4362\"},{\"id\":\"4363\"}]},\"id\":\"4365\",\"type\":\"Toolbar\"},{\"attributes\":{\"data_source\":{\"id\":\"4372\"},\"glyph\":{\"id\":\"4375\"},\"hover_glyph\":null,\"muted_glyph\":{\"id\":\"4377\"},\"nonselection_glyph\":{\"id\":\"4376\"},\"selection_glyph\":{\"id\":\"4380\"},\"view\":{\"id\":\"4379\"}},\"id\":\"4378\",\"type\":\"GlyphRenderer\"},{\"attributes\":{},\"id\":\"4373\",\"type\":\"Selection\"},{\"attributes\":{\"months\":[0,6]},\"id\":\"4406\",\"type\":\"MonthsTicker\"},{\"attributes\":{\"bottom_units\":\"screen\",\"fill_alpha\":0.5,\"fill_color\":\"lightgrey\",\"left_units\":\"screen\",\"level\":\"overlay\",\"line_alpha\":1.0,\"line_color\":\"black\",\"line_dash\":[4,4],\"line_width\":2,\"right_units\":\"screen\",\"syncable\":false,\"top_units\":\"screen\"},\"id\":\"4364\",\"type\":\"BoxAnnotation\"},{\"attributes\":{},\"id\":\"4359\",\"type\":\"SaveTool\"},{\"attributes\":{},\"id\":\"4360\",\"type\":\"PanTool\"},{\"attributes\":{},\"id\":\"4407\",\"type\":\"YearsTicker\"},{\"attributes\":{\"line_color\":\"#30a2da\",\"line_width\":2,\"x\":{\"field\":\"time\"},\"y\":{\"field\":\"daily_returns\"}},\"id\":\"4380\",\"type\":\"Line\"},{\"attributes\":{},\"id\":\"4382\",\"type\":\"DatetimeTickFormatter\"}],\"root_ids\":[\"4337\"]},\"title\":\"Bokeh Application\",\"version\":\"2.3.2\"}};\n",
       "    var render_items = [{\"docid\":\"92e24d9f-7162-4e28-8210-e2a394d2c55e\",\"root_ids\":[\"4337\"],\"roots\":{\"4337\":\"046a32bd-af7c-4d56-87b1-f9fb9a3cc48a\"}}];\n",
       "    root.Bokeh.embed.embed_items_notebook(docs_json, render_items);\n",
       "  }\n",
       "  if (root.Bokeh !== undefined && root.Bokeh.Panel !== undefined) {\n",
       "    embed_document(root);\n",
       "  } else {\n",
       "    var attempts = 0;\n",
       "    var timer = setInterval(function(root) {\n",
       "      if (root.Bokeh !== undefined && root.Bokeh.Panel !== undefined) {\n",
       "        clearInterval(timer);\n",
       "        embed_document(root);\n",
       "      } else if (document.readyState == \"complete\") {\n",
       "        attempts++;\n",
       "        if (attempts > 200) {\n",
       "          clearInterval(timer);\n",
       "          console.log(\"Bokeh: ERROR: Unable to run BokehJS code because BokehJS library is missing\");\n",
       "        }\n",
       "      }\n",
       "    }, 25, root)\n",
       "  }\n",
       "})(window);</script>"
      ],
      "text/plain": [
       ":Curve   [time]   (daily_returns)"
      ]
     },
     "execution_count": 126,
     "metadata": {
      "application/vnd.holoviews_exec.v0+json": {
       "id": "4337"
      }
     },
     "output_type": "execute_result"
    }
   ],
   "source": [
    "# Create an interactive visualization with hvplot to plot the daily returns for PYPL.\n",
    "pypl_dataframe.hvplot(y= \"daily_returns\", ylabel= \"Daily Returns\",\n",
    "                         title= \"Daily Returns for PYPL (12-16-2016 - 12-04-2020)\",\n",
    "                         rot= 90,\n",
    "                        height= 500, width= 1500)\n"
   ]
  },
  {
   "cell_type": "markdown",
   "metadata": {},
   "source": [
    "### Step 4: Using hvPlot, create an interactive visualization for the PYPL cumulative returns. Reflect the “time” column of the DataFrame on the x-axis. Make sure that you professionally style and format your visualization to enhance its readability."
   ]
  },
  {
   "cell_type": "code",
   "execution_count": 127,
   "metadata": {},
   "outputs": [
    {
     "data": {
      "text/plain": [
       "time\n",
       "2016-12-16    0.994436\n",
       "2016-12-19    0.997724\n",
       "2016-12-20    1.005058\n",
       "2016-12-21    1.013910\n",
       "2016-12-22    1.003541\n",
       "Name: daily_returns, dtype: float64"
      ]
     },
     "execution_count": 127,
     "metadata": {},
     "output_type": "execute_result"
    }
   ],
   "source": [
    "# Get the cumulative returns for PYPL.\n",
    "pypl_cumulative_returns = (1 + (pypl_dataframe[\"daily_returns\"])).cumprod()\n",
    "pypl_cumulative_returns.head()"
   ]
  },
  {
   "cell_type": "code",
   "execution_count": 132,
   "metadata": {},
   "outputs": [
    {
     "data": {},
     "metadata": {},
     "output_type": "display_data"
    },
    {
     "data": {
      "application/vnd.holoviews_exec.v0+json": "",
      "text/html": [
       "<div id='5367'>\n",
       "\n",
       "\n",
       "\n",
       "\n",
       "\n",
       "  <div class=\"bk-root\" id=\"140aec1e-ceab-43cf-afdb-e6145cc35103\" data-root-id=\"5367\"></div>\n",
       "</div>\n",
       "<script type=\"application/javascript\">(function(root) {\n",
       "  function embed_document(root) {\n",
       "    var docs_json = {\"0f9baf03-701b-4da1-a5fe-6fdfa2ee22b6\":{\"defs\":[{\"extends\":null,\"module\":null,\"name\":\"ReactiveHTML1\",\"overrides\":[],\"properties\":[]},{\"extends\":null,\"module\":null,\"name\":\"FlexBox1\",\"overrides\":[],\"properties\":[{\"default\":\"flex-start\",\"kind\":null,\"name\":\"align_content\"},{\"default\":\"flex-start\",\"kind\":null,\"name\":\"align_items\"},{\"default\":\"row\",\"kind\":null,\"name\":\"flex_direction\"},{\"default\":\"wrap\",\"kind\":null,\"name\":\"flex_wrap\"},{\"default\":\"flex-start\",\"kind\":null,\"name\":\"justify_content\"}]},{\"extends\":null,\"module\":null,\"name\":\"TemplateActions1\",\"overrides\":[],\"properties\":[{\"default\":0,\"kind\":null,\"name\":\"open_modal\"},{\"default\":0,\"kind\":null,\"name\":\"close_modal\"}]},{\"extends\":null,\"module\":null,\"name\":\"MaterialTemplateActions1\",\"overrides\":[],\"properties\":[{\"default\":0,\"kind\":null,\"name\":\"open_modal\"},{\"default\":0,\"kind\":null,\"name\":\"close_modal\"}]}],\"roots\":{\"references\":[{\"attributes\":{},\"id\":\"5437\",\"type\":\"YearsTicker\"},{\"attributes\":{\"axis\":{\"id\":\"5385\"},\"dimension\":1,\"grid_line_color\":null,\"ticker\":null},\"id\":\"5388\",\"type\":\"Grid\"},{\"attributes\":{\"end\":1607040000000.0,\"reset_end\":1607040000000.0,\"reset_start\":1481846400000.0,\"start\":1481846400000.0,\"tags\":[[[\"time\",\"time\",null]]]},\"id\":\"5369\",\"type\":\"Range1d\"},{\"attributes\":{\"base\":24,\"mantissas\":[1,2,4,6,8,12],\"max_interval\":43200000.0,\"min_interval\":3600000.0,\"num_minor_ticks\":0},\"id\":\"5428\",\"type\":\"AdaptiveTicker\"},{\"attributes\":{\"data_source\":{\"id\":\"5402\"},\"glyph\":{\"id\":\"5405\"},\"hover_glyph\":null,\"muted_glyph\":{\"id\":\"5407\"},\"nonselection_glyph\":{\"id\":\"5406\"},\"selection_glyph\":{\"id\":\"5410\"},\"view\":{\"id\":\"5409\"}},\"id\":\"5408\",\"type\":\"GlyphRenderer\"},{\"attributes\":{\"days\":[1,2,3,4,5,6,7,8,9,10,11,12,13,14,15,16,17,18,19,20,21,22,23,24,25,26,27,28,29,30,31]},\"id\":\"5429\",\"type\":\"DaysTicker\"},{\"attributes\":{\"line_alpha\":0.2,\"line_color\":\"#30a2da\",\"line_width\":2,\"x\":{\"field\":\"time\"},\"y\":{\"field\":\"daily_returns\"}},\"id\":\"5407\",\"type\":\"Line\"},{\"attributes\":{\"months\":[0,1,2,3,4,5,6,7,8,9,10,11]},\"id\":\"5433\",\"type\":\"MonthsTicker\"},{\"attributes\":{\"source\":{\"id\":\"5402\"}},\"id\":\"5409\",\"type\":\"CDSView\"},{\"attributes\":{\"line_color\":\"#30a2da\",\"line_width\":2,\"x\":{\"field\":\"time\"},\"y\":{\"field\":\"daily_returns\"}},\"id\":\"5405\",\"type\":\"Line\"},{\"attributes\":{\"line_color\":\"#30a2da\",\"line_width\":2,\"x\":{\"field\":\"time\"},\"y\":{\"field\":\"daily_returns\"}},\"id\":\"5410\",\"type\":\"Line\"},{\"attributes\":{},\"id\":\"5414\",\"type\":\"AllLabels\"},{\"attributes\":{\"axis_label\":\"time\",\"formatter\":{\"id\":\"5412\"},\"major_label_orientation\":1.5707963267948966,\"major_label_policy\":{\"id\":\"5411\"},\"ticker\":{\"id\":\"5382\"}},\"id\":\"5381\",\"type\":\"DatetimeAxis\"},{\"attributes\":{\"active_multi\":null,\"tools\":[{\"id\":\"5371\"},{\"id\":\"5389\"},{\"id\":\"5390\"},{\"id\":\"5391\"},{\"id\":\"5392\"},{\"id\":\"5393\"}]},\"id\":\"5395\",\"type\":\"Toolbar\"},{\"attributes\":{\"days\":[1,4,7,10,13,16,19,22,25,28]},\"id\":\"5430\",\"type\":\"DaysTicker\"},{\"attributes\":{},\"id\":\"5389\",\"type\":\"SaveTool\"},{\"attributes\":{\"days\":[1,8,15,22]},\"id\":\"5431\",\"type\":\"DaysTicker\"},{\"attributes\":{\"below\":[{\"id\":\"5381\"}],\"center\":[{\"id\":\"5384\"},{\"id\":\"5388\"}],\"height\":500,\"left\":[{\"id\":\"5385\"}],\"margin\":[5,5,5,5],\"min_border_bottom\":10,\"min_border_left\":10,\"min_border_right\":10,\"min_border_top\":10,\"renderers\":[{\"id\":\"5408\"}],\"sizing_mode\":\"fixed\",\"title\":{\"id\":\"5373\"},\"toolbar\":{\"id\":\"5395\"},\"width\":1500,\"x_range\":{\"id\":\"5369\"},\"x_scale\":{\"id\":\"5377\"},\"y_range\":{\"id\":\"5370\"},\"y_scale\":{\"id\":\"5379\"}},\"id\":\"5372\",\"subtype\":\"Figure\",\"type\":\"Plot\"},{\"attributes\":{\"margin\":[5,5,5,5],\"name\":\"HSpacer07581\",\"sizing_mode\":\"stretch_width\"},\"id\":\"5368\",\"type\":\"Spacer\"},{\"attributes\":{},\"id\":\"5411\",\"type\":\"AllLabels\"},{\"attributes\":{},\"id\":\"5390\",\"type\":\"PanTool\"},{\"attributes\":{},\"id\":\"5403\",\"type\":\"Selection\"},{\"attributes\":{\"mantissas\":[1,2,5],\"max_interval\":500.0,\"num_minor_ticks\":0},\"id\":\"5426\",\"type\":\"AdaptiveTicker\"},{\"attributes\":{\"days\":[1,15]},\"id\":\"5432\",\"type\":\"DaysTicker\"},{\"attributes\":{},\"id\":\"5391\",\"type\":\"WheelZoomTool\"},{\"attributes\":{\"base\":60,\"mantissas\":[1,2,5,10,15,20,30],\"max_interval\":1800000.0,\"min_interval\":1000.0,\"num_minor_ticks\":0},\"id\":\"5427\",\"type\":\"AdaptiveTicker\"},{\"attributes\":{\"overlay\":{\"id\":\"5394\"}},\"id\":\"5392\",\"type\":\"BoxZoomTool\"},{\"attributes\":{\"line_alpha\":0.1,\"line_color\":\"#30a2da\",\"line_width\":2,\"x\":{\"field\":\"time\"},\"y\":{\"field\":\"daily_returns\"}},\"id\":\"5406\",\"type\":\"Line\"},{\"attributes\":{\"children\":[{\"id\":\"5368\"},{\"id\":\"5372\"},{\"id\":\"5461\"}],\"margin\":[0,0,0,0],\"name\":\"Row07577\",\"tags\":[\"embedded\"]},\"id\":\"5367\",\"type\":\"Row\"},{\"attributes\":{},\"id\":\"5377\",\"type\":\"LinearScale\"},{\"attributes\":{},\"id\":\"5412\",\"type\":\"DatetimeTickFormatter\"},{\"attributes\":{},\"id\":\"5379\",\"type\":\"LinearScale\"},{\"attributes\":{},\"id\":\"5393\",\"type\":\"ResetTool\"},{\"attributes\":{},\"id\":\"5424\",\"type\":\"UnionRenderers\"},{\"attributes\":{},\"id\":\"5415\",\"type\":\"BasicTickFormatter\"},{\"attributes\":{\"margin\":[5,5,5,5],\"name\":\"HSpacer07582\",\"sizing_mode\":\"stretch_width\"},\"id\":\"5461\",\"type\":\"Spacer\"},{\"attributes\":{\"months\":[0,2,4,6,8,10]},\"id\":\"5434\",\"type\":\"MonthsTicker\"},{\"attributes\":{\"bottom_units\":\"screen\",\"fill_alpha\":0.5,\"fill_color\":\"lightgrey\",\"left_units\":\"screen\",\"level\":\"overlay\",\"line_alpha\":1.0,\"line_color\":\"black\",\"line_dash\":[4,4],\"line_width\":2,\"right_units\":\"screen\",\"syncable\":false,\"top_units\":\"screen\"},\"id\":\"5394\",\"type\":\"BoxAnnotation\"},{\"attributes\":{\"text\":\"Cumulative Returns for PYPL (12-16-2016 - 12-04-2020)\",\"text_color\":\"black\",\"text_font_size\":\"12pt\"},\"id\":\"5373\",\"type\":\"Title\"},{\"attributes\":{\"callback\":null,\"formatters\":{\"@{time}\":\"datetime\"},\"renderers\":[{\"id\":\"5408\"}],\"tags\":[\"hv_created\"],\"tooltips\":[[\"time\",\"@{time}{%F %T}\"],[\"daily_returns\",\"@{daily_returns}\"]]},\"id\":\"5371\",\"type\":\"HoverTool\"},{\"attributes\":{\"axis_label\":\"Daily Returns\",\"formatter\":{\"id\":\"5415\"},\"major_label_policy\":{\"id\":\"5414\"},\"ticker\":{\"id\":\"5386\"}},\"id\":\"5385\",\"type\":\"LinearAxis\"},{\"attributes\":{\"num_minor_ticks\":5,\"tickers\":[{\"id\":\"5426\"},{\"id\":\"5427\"},{\"id\":\"5428\"},{\"id\":\"5429\"},{\"id\":\"5430\"},{\"id\":\"5431\"},{\"id\":\"5432\"},{\"id\":\"5433\"},{\"id\":\"5434\"},{\"id\":\"5435\"},{\"id\":\"5436\"},{\"id\":\"5437\"}]},\"id\":\"5382\",\"type\":\"DatetimeTicker\"},{\"attributes\":{\"months\":[0,4,8]},\"id\":\"5435\",\"type\":\"MonthsTicker\"},{\"attributes\":{\"months\":[0,6]},\"id\":\"5436\",\"type\":\"MonthsTicker\"},{\"attributes\":{\"axis\":{\"id\":\"5381\"},\"grid_line_color\":null,\"ticker\":null},\"id\":\"5384\",\"type\":\"Grid\"},{\"attributes\":{\"data\":{\"daily_returns\":{\"__ndarray__\":\"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\",\"dtype\":\"float64\",\"order\":\"little\",\"shape\":[999]},\"time\":{\"__ndarray__\":\"AABA2k6QdUIAAIALRpF1QgAAQHGYkXVCAAAA1+qRdUIAAMA8PZJ1QgAAgKKPknVCAACAOdmTdUIAAECfK5R1QgAAAAV+lHVCAADAatCUdUIAAMABGpZ1QgAAgGdslnVCAABAzb6WdUIAAAAzEZd1QgAAQGQImHVCAAAAylqYdUIAAMAvrZh1QgAAgJX/mHVCAABA+1GZdUIAAECSm5p1QgAAAPjtmnVCAADAXUCbdUIAAIDDkpt1QgAAwPSJnHVCAACAWtycdUIAAEDALp11QgAAACaBnXVCAADAi9OddUIAAAC9yp51QgAAwCIdn3VCAACAiG+fdUIAAEDuwZ91QgAAAFQUoHVCAABAhQuhdUIAAADrXaF1QgAAwFCwoXVCAACAtgKidUIAAEAcVaJ1QgAAgE1Mo3VCAABAs56jdUIAAAAZ8aN1QgAAwH5DpHVCAACA5JWkdUIAAIB736V1QgAAQOExpnVCAAAAR4SmdUIAAMCs1qZ1QgAAAN7Np3VCAADAQyCodUIAAICpcqh1QgAAQA/FqHVCAAAAdRepdUIAAECmDqp1QgAAAAxhqnVCAADAcbOqdUIAAIDXBat1QgAAQD1Yq3VCAACAbk+sdUIAAEDUoax1QgAAADr0rHVCAADAn0atdUIAAIAFma11QgAAwDaQrnVCAACAnOKudUIAAEACNa91QgAAAGiHr3VCAADAzdmvdUIAAAD/0LB1QgAAwGQjsXVCAACAynWxdUIAAEAwyLF1QgAAAJYasnVCAABAxxGzdUIAAAAtZLN1QgAAwJK2s3VCAACA+Ai0dUIAAEBeW7R1QgAAgI9StXVCAABA9aS1dUIAAABb97V1QgAAwMBJtnVCAADAV5O3dUIAAIC95bd1QgAAQCM4uHVCAAAAiYq4dUIAAMDu3Lh1QgAAACDUuXVCAADAhSa6dUIAAIDreLp1QgAAQFHLunVCAAAAtx27dUIAAEDoFLx1QgAAAE5nvHVCAADAs7m8dUIAAIAZDL11QgAAQH9evXVCAACAsFW+dUIAAEAWqL51QgAAAHz6vnVCAADA4Uy/dUIAAIBHn791QgAAwHiWwHVCAACA3ujAdUIAAEBEO8F1QgAAAKqNwXVCAADAD+DBdUIAAABB18J1QgAAwKYpw3VCAACADHzDdUIAAEByzsN1QgAAANggxHVCAAAAb2rFdUIAAMDUvMV1QgAAgDoPxnVCAABAoGHGdUIAAIDRWMd1QgAAQDerx3VCAAAAnf3HdUIAAMACUMh1QgAAgGiiyHVCAADAmZnJdUIAAID/68l1QgAAQGU+ynVCAAAAy5DKdUIAAMAw48p1QgAAAGLay3VCAADAxyzMdUIAAIAtf8x1QgAAQJPRzHVCAAAA+SPNdUIAAEAqG851QgAAAJBtznVCAADA9b/OdUIAAIBbEs91QgAAQMFkz3VCAACA8lvQdUIAAAC+ANF1QgAAwCNT0XVCAACAiaXRdUIAAMC6nNJ1QgAAgCDv0nVCAABAhkHTdUIAAADsk9N1QgAAwFHm03VCAAAAg93UdUIAAMDoL9V1QgAAgE6C1XVCAABAtNTVdUIAAAAaJ9Z1QgAAQEse13VCAAAAsXDXdUIAAMAWw9d1QgAAgHwV2HVCAABA4mfYdUIAAIATX9l1QgAAQHmx2XVCAAAA3wPadUIAAMBEVtp1QgAAgKqo2nVCAADA25/bdUIAAIBB8tt1QgAAQKdE3HVCAAAADZfcdUIAAMBy6dx1QgAAAKTg3XVCAADACTPedUIAAIBvhd51QgAAQNXX3nVCAAAAOyrfdUIAAEBsIeB1QgAAANJz4HVCAADAN8bgdUIAAICdGOF1QgAAQANr4XVCAACANGLidUIAAECatOJ1QgAAAAAH43VCAADAZVnjdUIAAIDLq+N1QgAAgGL15HVCAABAyEfldUIAAAAumuV1QgAAwJPs5XVCAAAAxePmdUIAAMAqNud1QgAAgJCI53VCAABA9trndUIAAABcLeh1QgAAQI0k6XVCAAAA83bpdUIAAMBYyel1QgAAgL4b6nVCAABAJG7qdUIAAIBVZet1QgAAQLu363VCAAAAIQrsdUIAAMCGXOx1QgAAgOyu7HVCAADAHabtdUIAAICD+O11QgAAQOlK7nVCAAAAT53udUIAAMC07+51QgAAAObm73VCAADASznwdUIAAICxi/B1QgAAQBfe8HVCAAAAfTDxdUIAAECuJ/J1QgAAABR68nVCAADAeczydUIAAIDfHvN1QgAAQEVx83VCAACAdmj0dUIAAEDcuvR1QgAAAEIN9XVCAADAp1/1dUIAAIANsvV1QgAAwD6p9nVCAACApPv2dUIAAEAKTvd1QgAAAHCg93VCAADA1fL3dUIAAAAH6vh1QgAAwGw8+XVCAACA0o75dUIAAEA44fl1QgAAAJ4z+nVCAABAzyr7dUIAAAA1fft1QgAAwJrP+3VCAACAACL8dUIAAEBmdPx1QgAAgJdr/XVCAABA/b39dUIAAABjEP51QgAAgC61/nVCAADAX6z/dUIAAIDF/v91QgAAQCtRAHZCAAAAkaMAdkIAAMD29QB2QgAAACjtAXZCAADAjT8CdkIAAIDzkQJ2QgAAQFnkAnZCAAAAvzYDdkIAAEDwLQR2QgAAAFaABHZCAADAu9IEdkIAAIAhJQV2QgAAQId3BXZCAACAuG4GdkIAAEAewQZ2QgAAAIQTB3ZCAADA6WUHdkIAAIBPuAd2QgAAgOYBCXZCAABATFQJdkIAAACypgl2QgAAwBf5CXZCAADArkILdkIAAIAUlQt2QgAAQHrnC3ZCAAAA4DkMdkIAAEARMQ12QgAAAHeDDXZCAADA3NUNdkIAAIBCKA52QgAAQKh6DnZCAABAP8QPdkIAAAClFhB2QgAAwAppEHZCAACAcLsQdkIAAMChshF2QgAAgAcFEnZCAABAbVcSdkIAAADTqRJ2QgAAwDj8EnZCAAAAavMTdkIAAMDPRRR2QgAAgDWYFHZCAABAm+oUdkIAAAABPRV2QgAAQDI0FnZCAAAAmIYWdkIAAMD92BZ2QgAAgGMrF3ZCAABAyX0XdkIAAID6dBh2QgAAQGDHGHZCAAAAxhkZdkIAAMArbBl2QgAAgJG+GXZCAACAKAgbdkIAAECOWht2QgAAAPSsG3ZCAADAWf8bdkIAAACL9hx2QgAAwPBIHXZCAACAVpsddkIAAEC87R12QgAAACJAHnZCAABAUzcfdkIAAAC5iR92QgAAwB7cH3ZCAACAhC4gdkIAAEDqgCB2QgAAgBt4IXZCAABAgcohdkIAAADnHCJ2QgAAwExvInZCAACAssEidkIAAMDjuCN2QgAAgEkLJHZCAABAr10kdkIAAAAVsCR2QgAAwHoCJXZCAAAArPkldkIAAMARTCZ2QgAAgHeeJnZCAABA3fAmdkIAAEB0Oih2QgAAANqMKHZCAADAP98odkIAAIClMSl2QgAAQAuEKXZCAACAPHsqdkIAAECizSp2QgAAAAggK3ZCAADAbXIrdkIAAIDTxCt2QgAAwAS8LHZCAACAag4tdkIAAEDQYC12QgAAADazLXZCAADAmwUudkIAAADN/C52QgAAwDJPL3ZCAACAmKEvdkIAAED+8y92QgAAAGRGMHZCAABAlT0xdkIAAAD7jzF2QgAAwGDiMXZCAACAxjQydkIAAEAshzJ2QgAAgF1+M3ZCAABAw9AzdkIAAAApIzR2QgAAwI51NHZCAACA9Mc0dkIAAMAlvzV2QgAAgIsRNnZCAABA8WM2dkIAAABXtjZ2QgAAwLwIN3ZCAAAA7v83dkIAAMBTUjh2QgAAgLmkOHZCAABAH/c4dkIAAACFSTl2QgAAAByTOnZCAADAgeU6dkIAAIDnNzt2QgAAQE2KO3ZCAACAfoE8dkIAAEDk0zx2QgAAAEomPXZCAADAr3g9dkIAAIAVyz12QgAAwEbCPnZCAACArBQ/dkIAAEASZz92QgAAAHi5P3ZCAADA3QtAdkIAAAAPA0F2QgAAwHRVQXZCAACA2qdBdkIAAEBA+kF2QgAAAKZMQnZCAABA10NDdkIAAAA9lkN2QgAAwKLoQ3ZCAACACDtEdkIAAEBujUR2QgAAgJ+ERXZCAABABddFdkIAAMDQe0Z2QgAAgDbORnZCAADAZ8VHdkIAAIDNF0h2QgAAQDNqSHZCAAAAmbxIdkIAAMD+Dkl2QgAAADAGSnZCAADAlVhKdkIAAID7qkp2QgAAQGH9SnZCAAAAx09LdkIAAED4Rkx2QgAAAF6ZTHZCAADAw+tMdkIAAIApPk12QgAAQI+QTXZCAACAwIdOdkIAAEAm2k52QgAAAIwsT3ZCAADA8X5PdkIAAIBX0U92QgAAwIjIUHZCAACA7hpRdkIAAEBUbVF2QgAAALq/UXZCAADAHxJSdkIAAABRCVN2QgAAwLZbU3ZCAACAHK5TdkIAAECCAFR2QgAAAOhSVHZCAABAGUpVdkIAAAB/nFV2QgAAwOTuVXZCAACASkFWdkIAAECwk1Z2QgAAgOGKV3ZCAABAR91XdkIAAACtL1h2QgAAwBKCWHZCAACAeNRYdkIAAIAPHlp2QgAAQHVwWnZCAAAA28JadkIAAMBAFVt2QgAAAHIMXHZCAADA115cdkIAAIA9sVx2QgAAQKMDXXZCAAAACVZddkIAAEA6TV52QgAAAKCfXnZCAADABfJedkIAAIBrRF92QgAAQNGWX3ZCAACAAo5gdkIAAEBo4GB2QgAAAM4yYXZCAADAM4VhdkIAAICZ12F2QgAAwMrOYnZCAACAMCFjdkIAAECWc2N2QgAAAPzFY3ZCAADAYRhkdkIAAACTD2V2QgAAwPhhZXZCAACAXrRldkIAAEDEBmZ2QgAAACpZZnZCAABAW1BndkIAAADBomd2QgAAwCb1Z3ZCAACAjEdodkIAAEDymWh2QgAAgCORaXZCAABAieNpdkIAAADvNWp2QgAAwFSIanZCAACAutpqdkIAAMDr0Wt2QgAAgFEkbHZCAABAt3ZsdkIAAAAdyWx2QgAAwIIbbXZCAAAAtBJudkIAAMAZZW52QgAAgH+3bnZCAABA5QlvdkIAAABLXG92QgAAQHxTcHZCAAAA4qVwdkIAAMBH+HB2QgAAgK1KcXZCAABAE51xdkIAAIBElHJ2QgAAQKrmcnZCAAAAEDlzdkIAAIDb3XN2QgAAwAzVdHZCAACAcid1dkIAAEDYeXV2QgAAAD7MdXZCAADAox52dkIAAADVFXd2QgAAwDpod3ZCAABABg14dkIAAABsX3h2QgAAQJ1WeXZCAAAAA6l5dkIAAMBo+3l2QgAAgM5NenZCAABANKB6dkIAAIBll3t2QgAAQMvpe3ZCAAAAMTx8dkIAAMCWjnx2QgAAgPzgfHZCAADALdh9dkIAAED5fH52QgAAAF/PfnZCAADAxCF/dkIAAAD2GIB2QgAAgMG9gHZCAABAJxCBdkIAAACNYoF2QgAAQL5ZgnZCAAAAJKyCdkIAAMCJ/oJ2QgAAgO9Qg3ZCAABAVaODdkIAAICGmoR2QgAAQOzshHZCAAAAUj+FdkIAAMC3kYV2QgAAgB3khXZCAACAtC2HdkIAAEAagId2QgAAAIDSh3ZCAADA5SSIdkIAAAAXHIl2QgAAwHxuiXZCAACA4sCJdkIAAEBIE4p2QgAAAK5linZCAABA31yLdkIAAABFr4t2QgAAwKoBjHZCAACAEFSMdkIAAEB2pox2QgAAgKedjXZCAABADfCNdkIAAABzQo52QgAAwNiUjnZCAACAPueOdkIAAIDVMJB2QgAAQDuDkHZCAAAAodWQdkIAAMAGKJF2QgAAADgfknZCAADAnXGSdkIAAIADxJJ2QgAAQGkWk3ZCAAAAz2iTdkIAAEAAYJR2QgAAAGaylHZCAADAywSVdkIAAIAxV5V2QgAAQJeplXZCAACAyKCWdkIAAEAu85Z2QgAAAJRFl3ZCAADA+ZeXdkIAAIBf6pd2QgAAwJDhmHZCAACA9jOZdkIAAEBchpl2QgAAAMLYmXZCAADAJyuadkIAAABZIpt2QgAAwL50m3ZCAACAJMebdkIAAECKGZx2QgAAAPBrnHZCAABAIWOddkIAAACHtZ12QgAAwOwHnnZCAACAUlqedkIAAEC4rJ52QgAAgOmjn3ZCAABAT/afdkIAAAC1SKB2QgAAwBqboHZCAACAgO2gdkIAAMCx5KF2QgAAgBc3onZCAABAfYmidkIAAADj26J2QgAAAHolpHZCAADA33ekdkIAAIBFyqR2QgAAQKscpXZCAAAAEW+ldkIAAEBCZqZ2QgAAAKi4pnZCAADADQundkIAAIBzXad2QgAAQNmvp3ZCAACACqeodkIAAEBw+ah2QgAAANZLqXZCAADAO56pdkIAAICh8Kl2QgAAwNLnqnZCAACAODqrdkIAAECejKt2QgAAAATfq3ZCAADAaTGsdkIAAACbKK12QgAAwAB7rXZCAACAZs2tdkIAAEDMH652QgAAADJyrnZCAAAAybuvdkIAAMAuDrB2QgAAgJRgsHZCAABA+rKwdkIAAIArqrF2QgAAQJH8sXZCAAAA906ydkIAAMBcobJ2QgAAgMLzsnZCAADA8+qzdkIAAIBZPbR2QgAAQL+PtHZCAAAAJeK0dkIAAMCKNLV2QgAAALwrtnZCAADAIX62dkIAAICH0LZ2QgAAQO0it3ZCAAAAU3W3dkIAAECEbLh2QgAAAOq+uHZCAADATxG5dkIAAIC1Y7l2QgAAQBu2uXZCAACATK26dkIAAECy/7p2QgAAABhSu3ZCAACA4/a7dkIAAMAU7rx2QgAAgHpAvXZCAABA4JK9dkIAAABG5b12QgAAwKs3vnZCAAAA3S6/dkIAAMBCgb92QgAAgKjTv3ZCAABADibAdkIAAAB0eMB2QgAAQKVvwXZCAAAAC8LBdkIAAMBwFMJ2QgAAgNZmwnZCAABAPLnCdkIAAIBtsMN2QgAAQNMCxHZCAAAAOVXEdkIAAMCep8R2QgAAgAT6xHZCAADANfHFdkIAAICbQ8Z2QgAAQAGWxnZCAAAAZ+jGdkIAAMDMOsd2QgAAAP4xyHZCAADAY4TIdkIAAIDJ1sh2QgAAQC8pyXZCAAAAlXvJdkIAAEDGcsp2QgAAACzFynZCAADAkRfLdkIAAID3act2QgAAQF28y3ZCAACAjrPMdkIAAED0Bc12QgAAAFpYzXZCAADAv6rNdkIAAIAl/c12QgAAgLxGz3ZCAABAIpnPdkIAAACI6892QgAAwO090HZCAAAAHzXRdkIAAMCEh9F2QgAAgOrZ0XZCAABAUCzSdkIAAAC2ftJ2QgAAQOd103ZCAAAATcjTdkIAAMCyGtR2QgAAgBht1HZCAABAfr/UdkIAAICvttV2QgAAQBUJ1nZCAAAAe1vWdkIAAMDgrdZ2QgAAgEYA13ZCAADAd/fXdkIAAIDdSdh2QgAAQEOc2HZCAAAAqe7YdkIAAMAOQdl2QgAAAEA42nZCAADApYradkIAAIAL3dp2QgAAQHEv23ZCAAAA14HbdkIAAEAIedx2QgAAAG7L3HZCAADA0x3ddkIAAIA5cN12QgAAQJ/C3XZCAACA0LnedkIAAEA2DN92QgAAAJxe33ZCAADAAbHfdkIAAIBnA+B2QgAAwJj64HZCAACA/kzhdkIAAEBkn+F2QgAAAMrx4XZCAADAL0TidkIAAABhO+N2QgAAwMaN43ZCAACALODjdkIAAECSMuR2QgAAAPiE5HZCAABAKXzldkIAAACPzuV2QgAAwPQg5nZCAACAWnPmdkIAAEDAxeZ2QgAAgPG853ZCAABAVw/odkIAAAC9Yeh2QgAAwCK06HZCAACAiAbpdkIAAMC5/el2QgAAgB9Q6nZCAABAhaLqdkIAAMBQR+t2QgAAAII+7HZCAADA55DsdkIAAIBN4+x2QgAAQLM17XZCAAAAGYjtdkIAAEBKf+52QgAAALDR7nZCAADAFSTvdkIAAIB7du92QgAAQOHI73ZCAACAEsDwdkIAAEB4EvF2QgAAAN5k8XZCAADAQ7fxdkIAAICpCfJ2QgAAwNoA83ZCAACAQFPzdkIAAAAM+PN2QgAAwHFK9HZCAAAAo0H1dkIAAMAIlPV2QgAAQNQ49nZCAAAAOov2dkIAAEBrgvd2QgAAANHU93ZCAADANif4dkIAAICcefh2QgAAQALM+HZCAACAM8P5dkIAAECZFfp2QgAAAP9n+nZCAADAZLr6dkIAAIDKDPt2QgAAgGFW/HZCAABAx6j8dkIAAAAt+/x2QgAAwJJN/XZCAAAAxET+dkIAAMApl/52QgAAgI/p/nZCAABA9Tv/dkIAAABbjv92QgAAQIyFAHdCAAAA8tcAd0IAAMBXKgF3QgAAgL18AXdCAABAI88Bd0IAAIBUxgJ3QgAAQLoYA3dCAAAAIGsDd0IAAMCFvQN3QgAAgOsPBHdCAACAglkFd0IAAEDoqwV3QgAAAE7+BXdCAADAs1AGd0IAAADlRwd3QgAAwEqaB3dCAACAsOwHd0IAAEAWPwh3QgAAAHyRCHdCAABArYgJd0IAAAAT2wl3QgAAwHgtCndCAACA3n8Kd0IAAEBE0gp3QgAAgHXJC3dCAABA2xsMd0IAAABBbgx3QgAAwKbADHdCAACADBMNd0IAAMA9Cg53QgAAgKNcDndCAABACa8Od0IAAABvAQ93QgAAwNRTD3dCAAAABksQd0IAAMBrnRB3QgAAgNHvEHdCAABAN0IRd0IAAACdlBF3QgAAQM6LEndCAAAANN4Sd0IAAMCZMBN3QgAAgP+CE3dCAABAZdUTd0IAAICWzBR3QgAAQPweFXdCAAAAYnEVd0IAAMDHwxV3QgAAwF4NF3dCAACAxF8Xd0IAAEAqshd3QgAAAJAEGHdCAADA9VYYd0IAAAAnThl3QgAAwIygGXdCAACA8vIZd0IAAEBYRRp3QgAAAL6XGndCAABA744bd0IAAABV4Rt3QgAAwLozHHdCAACAIIYcd0IAAECG2Bx3QgAAgLfPHXdCAABAHSIed0IAAACDdB53QgAAwOjGHndCAACAThkfd0IAAMB/ECB3QgAAgOViIHdCAABAS7Ugd0IAAACxByF3QgAAwBZaIXdCAAAASFEid0IAAMCtoyJ3QgAAgBP2IndCAABAeUgjd0IAAADfmiN3QgAAAHbkJHdCAADA2zYld0IAAIBBiSV3QgAAQKfbJXdCAACA2NImd0IAAEA+JSd3QgAAAKR3J3dCAADACcond0IAAIBvHCh3QgAAwKATKXdCAACABmYpd0IAAEBsuCl3QgAAANIKKndCAADAN10qd0IAAABpVCt3QgAAwM6mK3dCAACANPkrd0IAAECaSyx3QgAAAACeLHdCAABAMZUtd0IAAACX5y13QgAAwPw5LndCAACAYowud0IAAEDI3i53QgAAgPnVL3dCAABAXygwd0IAAADFejB3QgAAwCrNMHdCAADAwRYyd0IAAIAnaTJ3QgAAQI27MndCAAAA8w0zd0IAAMBYYDN3QgAAAIpXNHdCAADA76k0d0IAAIBV/DR3QgAAQLtONXdCAAAAIaE1d0IAAEBSmDZ3QgAAALjqNndCAADAHT03d0IAAICDjzd3QgAAQOnhN3dCAACAGtk4d0IAAECAKzl3QgAAAOZ9OXdCAADAS9A5d0IAAICxIjp3QgAAwOIZO3dCAACASGw7d0IAAECuvjt3QgAAABQRPHdCAADAeWM8d0IAAACrWj13QgAAwBCtPXdCAACAdv89d0IAAEDcUT53QgAAAEKkPndCAABAc5s/d0IAAADZ7T93QgAAwD5AQHdCAACApJJAd0IAAEAK5UB3QgAAgDvcQXdCAABAoS5Cd0IAAAAHgUJ3QgAAwGzTQndCAACA0iVDd0IAAMADHUR3QgAAgGlvRHdCAABAz8FEd0IAAAA1FEV3QgAAwJpmRXdCAADAMbBGd0IAAICXAkd3QgAAQP1UR3dCAAAAY6dHd0IAAECUnkh3QgAAAPrwSHdCAADAX0NJd0IAAIDFlUl3QgAAQCvoSXdCAACAXN9Kd0IAAEDCMUt3QgAAACiES3dCAADAjdZLd0IAAIDzKEx3QgAAwCQgTXdCAACAinJNd0IAAEDwxE13QgAAAFYXTndCAADAu2lOd0IAAADtYE93QgAAwFKzT3dCAACAuAVQd0IAAEAeWFB3QgAAAISqUHdCAABAtaFRd0IAAAAb9FF3QgAAwIBGUndCAACA5phSd0IAAEBM61J3QgAAgH3iU3dCAABA4zRUd0IAAABJh1R3QgAAwK7ZVHdCAACAFCxVd0IAAMBFI1Z3QgAAgKt1VndCAABAEchWd0IAAAB3Gld3QgAAwNxsV3dCAAAADmRYd0IAAMBztlh3QgAAgNkIWXdCAABAP1tZd0IAAAClrVl3QgAAQNakWndCAAAAPPdad0IAAMChSVt3QgAAgAecW3dCAABAbe5bd0IAAICe5Vx3QgAAQAQ4XXdCAAAAaopdd0IAAMDP3F13QgAAgDUvXndCAADAZiZfd0IAAIDMeF93QgAAQDLLX3dCAADA/W9gd0IAAAAvZ2F3QgAAwJS5YXdCAACA+gtid0IAAEBgXmJ3QgAAAMawYndC\",\"dtype\":\"float64\",\"order\":\"little\",\"shape\":[999]}},\"selected\":{\"id\":\"5403\"},\"selection_policy\":{\"id\":\"5424\"}},\"id\":\"5402\",\"type\":\"ColumnDataSource\"},{\"attributes\":{\"end\":5.9440440060697854,\"reset_end\":5.9440440060697854,\"reset_start\":0.5441957511380894,\"start\":0.5441957511380894,\"tags\":[[[\"daily_returns\",\"daily_returns\",null]]]},\"id\":\"5370\",\"type\":\"Range1d\"},{\"attributes\":{},\"id\":\"5386\",\"type\":\"BasicTicker\"}],\"root_ids\":[\"5367\"]},\"title\":\"Bokeh Application\",\"version\":\"2.3.2\"}};\n",
       "    var render_items = [{\"docid\":\"0f9baf03-701b-4da1-a5fe-6fdfa2ee22b6\",\"root_ids\":[\"5367\"],\"roots\":{\"5367\":\"140aec1e-ceab-43cf-afdb-e6145cc35103\"}}];\n",
       "    root.Bokeh.embed.embed_items_notebook(docs_json, render_items);\n",
       "  }\n",
       "  if (root.Bokeh !== undefined && root.Bokeh.Panel !== undefined) {\n",
       "    embed_document(root);\n",
       "  } else {\n",
       "    var attempts = 0;\n",
       "    var timer = setInterval(function(root) {\n",
       "      if (root.Bokeh !== undefined && root.Bokeh.Panel !== undefined) {\n",
       "        clearInterval(timer);\n",
       "        embed_document(root);\n",
       "      } else if (document.readyState == \"complete\") {\n",
       "        attempts++;\n",
       "        if (attempts > 200) {\n",
       "          clearInterval(timer);\n",
       "          console.log(\"Bokeh: ERROR: Unable to run BokehJS code because BokehJS library is missing\");\n",
       "        }\n",
       "      }\n",
       "    }, 25, root)\n",
       "  }\n",
       "})(window);</script>"
      ],
      "text/plain": [
       ":Curve   [time]   (daily_returns)"
      ]
     },
     "execution_count": 132,
     "metadata": {
      "application/vnd.holoviews_exec.v0+json": {
       "id": "5367"
      }
     },
     "output_type": "execute_result"
    }
   ],
   "source": [
    "# Create an interactive visualization with hvplot to plot cumulative returns for PYPL.\n",
    "pypl_cumulative_returns.hvplot( y= \"daily_returns\", ylabel= \"Daily Returns\",\n",
    "                         title= \"Cumulative Returns for PYPL (12-16-2016 - 12-04-2020)\",\n",
    "                         rot= 90,\n",
    "                        height= 500, width= 1500)"
   ]
  },
  {
   "cell_type": "markdown",
   "metadata": {},
   "source": [
    "## Optimize the SQL Queries\n",
    "\n",
    "For this part of the assignment, you’ll continue to analyze a single asset (PYPL) from the ETF. You’ll use advanced SQL queries to optimize the efficiency of accessing data from the database.\n",
    "\n",
    "Complete the following steps:\n",
    "\n",
    "1. Access the closing prices for PYPL that are greater than 200 by completing the following steps:\n",
    "\n",
    "1. Access the closing prices for PYPL that are greater than 200 by completing the following steps:\n",
    "\n",
    "    - Write a SQL `SELECT` statement to select the dates where the PYPL closing price was higher than 200.0.\n",
    "\n",
    "    - Select the “time” and “close” columns for those dates where the closing price was higher than 200.0.\n",
    "\n",
    "    - Using the SQL statement, read the data from the database into a Pandas DataFrame, and then review the resulting DataFrame.\n",
    "\n",
    "2. Find the top 10 daily returns for PYPL by completing the following steps:\n",
    "\n",
    "    -  Write a SQL statement to find the top 10 PYPL daily returns. Make sure to do the following:\n",
    "\n",
    "        * Use `SELECT` to select only the “time” and “daily_returns” columns.\n",
    "\n",
    "        * Use `ORDER` to sort the results in descending order by the “daily_returns” column.\n",
    "\n",
    "        * Use `LIMIT` to limit the results to the top 10 daily return values.\n",
    "\n",
    "    - Using the SQL statement, read the data from the database into a Pandas DataFrame, and then review the resulting DataFrame.\n"
   ]
  },
  {
   "cell_type": "markdown",
   "metadata": {},
   "source": [
    "### Step 1: Access the closing prices for PYPL that are greater than 200 by completing the following steps:\n",
    "\n",
    "    - Write a SQL `SELECT` statement to select the dates where the PYPL closing price was higher than 200.0.\n",
    "\n",
    "    - Select the “time” and “close” columns for those dates where the closing price was higher than 200.0.\n",
    "\n",
    "    - Using the SQL statement, read the data from the database into a Pandas DataFrame, and then review the resulting DataFrame.\n"
   ]
  },
  {
   "cell_type": "code",
   "execution_count": 133,
   "metadata": {
    "scrolled": true
   },
   "outputs": [
    {
     "data": {
      "text/html": [
       "<div>\n",
       "<style scoped>\n",
       "    .dataframe tbody tr th:only-of-type {\n",
       "        vertical-align: middle;\n",
       "    }\n",
       "\n",
       "    .dataframe tbody tr th {\n",
       "        vertical-align: top;\n",
       "    }\n",
       "\n",
       "    .dataframe thead th {\n",
       "        text-align: right;\n",
       "    }\n",
       "</style>\n",
       "<table border=\"1\" class=\"dataframe\">\n",
       "  <thead>\n",
       "    <tr style=\"text-align: right;\">\n",
       "      <th></th>\n",
       "      <th>close</th>\n",
       "    </tr>\n",
       "    <tr>\n",
       "      <th>time</th>\n",
       "      <th></th>\n",
       "    </tr>\n",
       "  </thead>\n",
       "  <tbody>\n",
       "    <tr>\n",
       "      <th>2020-08-05</th>\n",
       "      <td>202.92</td>\n",
       "    </tr>\n",
       "    <tr>\n",
       "      <th>2020-08-06</th>\n",
       "      <td>204.09</td>\n",
       "    </tr>\n",
       "    <tr>\n",
       "      <th>2020-08-25</th>\n",
       "      <td>201.71</td>\n",
       "    </tr>\n",
       "    <tr>\n",
       "      <th>2020-08-26</th>\n",
       "      <td>203.53</td>\n",
       "    </tr>\n",
       "    <tr>\n",
       "      <th>2020-08-27</th>\n",
       "      <td>204.34</td>\n",
       "    </tr>\n",
       "  </tbody>\n",
       "</table>\n",
       "</div>"
      ],
      "text/plain": [
       "             close\n",
       "time              \n",
       "2020-08-05  202.92\n",
       "2020-08-06  204.09\n",
       "2020-08-25  201.71\n",
       "2020-08-26  203.53\n",
       "2020-08-27  204.34"
      ]
     },
     "execution_count": 133,
     "metadata": {},
     "output_type": "execute_result"
    }
   ],
   "source": [
    "# Write a SQL SELECT statement to select the time and close columns \n",
    "# where the PYPL closing price was higher than 200.0.\n",
    "query = \"\"\"\n",
    "SELECT time, close\n",
    "FROM PYPL\n",
    "WHERE close > 200\n",
    "\"\"\"\n",
    "\n",
    "# Using the query, read the data from the database into a Pandas DataFrame\n",
    "pypl_higher_than_200 = pd.read_sql(query, con=engine, parse_dates= True)\n",
    "\n",
    "# Changing time format to reflect only Yeaar, month and days\n",
    "pypl_higher_than_200[\"time\"] = pd.to_datetime(pypl_higher_than_200[\"time\"], infer_datetime_format= True)\n",
    "\n",
    "# changing index column to time\n",
    "pypl_higher_than_200.set_index(\"time\", drop= True, inplace= True)\n",
    "\n",
    "# Review the resulting DataFrame\n",
    "pypl_higher_than_200.head()\n",
    "\n"
   ]
  },
  {
   "cell_type": "markdown",
   "metadata": {},
   "source": [
    "### Step 2: Find the top 10 daily returns for PYPL by completing the following steps:\n",
    "\n",
    "    -  Write a SQL statement to find the top 10 PYPL daily returns. Make sure to do the following:\n",
    "\n",
    "        * Use `SELECT` to select only the “time” and “daily_returns” columns.\n",
    "\n",
    "        * Use `ORDER` to sort the results in descending order by the “daily_returns” column.\n",
    "\n",
    "        * Use `LIMIT` to limit the results to the top 10 daily return values.\n",
    "\n",
    "    - Using the SQL statement, read the data from the database into a Pandas DataFrame, and then review the resulting DataFrame.\n"
   ]
  },
  {
   "cell_type": "code",
   "execution_count": 134,
   "metadata": {},
   "outputs": [
    {
     "data": {
      "text/html": [
       "<div>\n",
       "<style scoped>\n",
       "    .dataframe tbody tr th:only-of-type {\n",
       "        vertical-align: middle;\n",
       "    }\n",
       "\n",
       "    .dataframe tbody tr th {\n",
       "        vertical-align: top;\n",
       "    }\n",
       "\n",
       "    .dataframe thead th {\n",
       "        text-align: right;\n",
       "    }\n",
       "</style>\n",
       "<table border=\"1\" class=\"dataframe\">\n",
       "  <thead>\n",
       "    <tr style=\"text-align: right;\">\n",
       "      <th></th>\n",
       "      <th>daily_returns</th>\n",
       "    </tr>\n",
       "    <tr>\n",
       "      <th>time</th>\n",
       "      <th></th>\n",
       "    </tr>\n",
       "  </thead>\n",
       "  <tbody>\n",
       "    <tr>\n",
       "      <th>2020-03-24</th>\n",
       "      <td>0.140981</td>\n",
       "    </tr>\n",
       "    <tr>\n",
       "      <th>2020-05-07</th>\n",
       "      <td>0.140318</td>\n",
       "    </tr>\n",
       "    <tr>\n",
       "      <th>2020-03-13</th>\n",
       "      <td>0.138700</td>\n",
       "    </tr>\n",
       "    <tr>\n",
       "      <th>2020-04-06</th>\n",
       "      <td>0.100877</td>\n",
       "    </tr>\n",
       "    <tr>\n",
       "      <th>2018-10-19</th>\n",
       "      <td>0.093371</td>\n",
       "    </tr>\n",
       "    <tr>\n",
       "      <th>2019-10-24</th>\n",
       "      <td>0.085912</td>\n",
       "    </tr>\n",
       "    <tr>\n",
       "      <th>2020-11-04</th>\n",
       "      <td>0.080986</td>\n",
       "    </tr>\n",
       "    <tr>\n",
       "      <th>2020-03-10</th>\n",
       "      <td>0.080863</td>\n",
       "    </tr>\n",
       "    <tr>\n",
       "      <th>2020-04-22</th>\n",
       "      <td>0.075321</td>\n",
       "    </tr>\n",
       "    <tr>\n",
       "      <th>2018-12-26</th>\n",
       "      <td>0.074656</td>\n",
       "    </tr>\n",
       "  </tbody>\n",
       "</table>\n",
       "</div>"
      ],
      "text/plain": [
       "            daily_returns\n",
       "time                     \n",
       "2020-03-24       0.140981\n",
       "2020-05-07       0.140318\n",
       "2020-03-13       0.138700\n",
       "2020-04-06       0.100877\n",
       "2018-10-19       0.093371\n",
       "2019-10-24       0.085912\n",
       "2020-11-04       0.080986\n",
       "2020-03-10       0.080863\n",
       "2020-04-22       0.075321\n",
       "2018-12-26       0.074656"
      ]
     },
     "execution_count": 134,
     "metadata": {},
     "output_type": "execute_result"
    }
   ],
   "source": [
    "# Write a SQL SELECT statement to select the time and daily_returns columns\n",
    "# Sort the results in descending order and return only the top 10 return values\n",
    "query = \"\"\"\n",
    "SELECT time, daily_returns\n",
    "FROM PYPL\n",
    "ORDER BY daily_returns DESC\n",
    "LIMIT 10\n",
    "\"\"\"\n",
    "\n",
    "# Using the query, read the data from the database into a Pandas DataFrame\n",
    "pypl_top_10_returns = pd.read_sql(query, con=engine, parse_dates= True)\n",
    "\n",
    "# Changing time format to reflect only Yeaar, month and days\n",
    "pypl_top_10_returns[\"time\"] = pd.to_datetime(pypl_top_10_returns[\"time\"], infer_datetime_format= True)\n",
    "\n",
    "# changing index column to time\n",
    "pypl_top_10_returns.set_index(\"time\", drop= True, inplace= True)\n",
    "\n",
    "# Review the resulting DataFrame\n",
    "pypl_top_10_returns\n"
   ]
  },
  {
   "cell_type": "markdown",
   "metadata": {},
   "source": [
    "## Analyze the Fintech ETF Portfolio\n",
    "\n",
    "For this part of the assignment, you’ll build the entire ETF portfolio and then evaluate its performance. To do so, you’ll build the ETF portfolio by using SQL joins to combine all the data for each asset.\n",
    "\n",
    "Complete the following steps:\n",
    "\n",
    "1. Write a SQL query to join each table in the portfolio into a single DataFrame. To do so, complete the following steps:\n",
    "\n",
    "    - Use a SQL inner join to join each table on the “time” column. Access the “time” column in the `GDOT` table via the `GDOT.time` syntax. Access the “time” columns from the other tables via similar syntax.\n",
    "\n",
    "    - Using the SQL query, read the data from the database into a Pandas DataFrame. Review the resulting DataFrame.\n",
    "\n",
    "2. Create a DataFrame that averages the “daily_returns” columns for all four assets. Review the resulting DataFrame.\n",
    "\n",
    "    > **Hint** Assuming that this ETF contains equally weighted returns, you can average the returns for each asset to get the average returns of the portfolio. You can then use the average returns of the portfolio to calculate the annualized returns and the cumulative returns. For the calculation to get the average daily returns for the portfolio, use the following code:\n",
    "    >\n",
    "    > ```python\n",
    "    > etf_portfolio_returns = etf_portfolio['daily_returns'].mean(axis=1)\n",
    "    > ```\n",
    "    >\n",
    "    > You can use the average daily returns of the portfolio the same way that you used the daily returns of a single asset.\n",
    "\n",
    "3. Use the average daily returns in the `etf_portfolio_returns` DataFrame to calculate the annualized returns for the portfolio. Display the annualized return value of the ETF portfolio.\n",
    "\n",
    "> **Hint**  To calculate the annualized returns, multiply the mean of the `etf_portfolio_returns` values by 252.\n",
    ">\n",
    "> To convert the decimal values to percentages, multiply the results by 100.\n",
    "\n",
    "4. Use the average daily returns in the `etf_portfolio_returns` DataFrame to calculate the cumulative returns of the ETF portfolio.\n",
    "\n",
    "5. Using hvPlot, create an interactive line plot that visualizes the cumulative return values of the ETF portfolio. Reflect the “time” column of the DataFrame on the x-axis. Make sure that you professionally style and format your visualization to enhance its readability.\n"
   ]
  },
  {
   "cell_type": "markdown",
   "metadata": {},
   "source": [
    "### Step 1: Write a SQL query to join each table in the portfolio into a single DataFrame. To do so, complete the following steps:\n",
    "\n",
    "    - Use a SQL inner join to join each table on the “time” column. Access the “time” column in the `GDOT` table via the `GDOT.time` syntax. Access the “time” columns from the other tables via similar syntax.\n",
    "\n",
    "    - Using the SQL query, read the data from the database into a Pandas DataFrame. Review the resulting DataFrame."
   ]
  },
  {
   "cell_type": "code",
   "execution_count": 137,
   "metadata": {
    "scrolled": true
   },
   "outputs": [
    {
     "data": {
      "text/html": [
       "<div>\n",
       "<style scoped>\n",
       "    .dataframe tbody tr th:only-of-type {\n",
       "        vertical-align: middle;\n",
       "    }\n",
       "\n",
       "    .dataframe tbody tr th {\n",
       "        vertical-align: top;\n",
       "    }\n",
       "\n",
       "    .dataframe thead th {\n",
       "        text-align: right;\n",
       "    }\n",
       "</style>\n",
       "<table border=\"1\" class=\"dataframe\">\n",
       "  <thead>\n",
       "    <tr style=\"text-align: right;\">\n",
       "      <th></th>\n",
       "      <th>time</th>\n",
       "      <th>open</th>\n",
       "      <th>high</th>\n",
       "      <th>low</th>\n",
       "      <th>close</th>\n",
       "      <th>volume</th>\n",
       "      <th>daily_returns</th>\n",
       "      <th>time</th>\n",
       "      <th>open</th>\n",
       "      <th>high</th>\n",
       "      <th>...</th>\n",
       "      <th>close</th>\n",
       "      <th>volume</th>\n",
       "      <th>daily_returns</th>\n",
       "      <th>time</th>\n",
       "      <th>open</th>\n",
       "      <th>high</th>\n",
       "      <th>low</th>\n",
       "      <th>close</th>\n",
       "      <th>volume</th>\n",
       "      <th>daily_returns</th>\n",
       "    </tr>\n",
       "  </thead>\n",
       "  <tbody>\n",
       "    <tr>\n",
       "      <th>0</th>\n",
       "      <td>2016-12-16 00:00:00.000000</td>\n",
       "      <td>39.90</td>\n",
       "      <td>39.90</td>\n",
       "      <td>39.12</td>\n",
       "      <td>39.32</td>\n",
       "      <td>7298861</td>\n",
       "      <td>-0.005564</td>\n",
       "      <td>2016-12-16 00:00:00.000000</td>\n",
       "      <td>24.41</td>\n",
       "      <td>24.73</td>\n",
       "      <td>...</td>\n",
       "      <td>238.94</td>\n",
       "      <td>5017963</td>\n",
       "      <td>-0.016708</td>\n",
       "      <td>2016-12-16 00:00:00.000000</td>\n",
       "      <td>14.29</td>\n",
       "      <td>14.47</td>\n",
       "      <td>14.2300</td>\n",
       "      <td>14.375</td>\n",
       "      <td>4516341</td>\n",
       "      <td>0.017339</td>\n",
       "    </tr>\n",
       "    <tr>\n",
       "      <th>1</th>\n",
       "      <td>2016-12-19 00:00:00.000000</td>\n",
       "      <td>39.40</td>\n",
       "      <td>39.80</td>\n",
       "      <td>39.11</td>\n",
       "      <td>39.45</td>\n",
       "      <td>3436478</td>\n",
       "      <td>0.003306</td>\n",
       "      <td>2016-12-19 00:00:00.000000</td>\n",
       "      <td>24.00</td>\n",
       "      <td>24.01</td>\n",
       "      <td>...</td>\n",
       "      <td>239.13</td>\n",
       "      <td>2970314</td>\n",
       "      <td>0.000795</td>\n",
       "      <td>2016-12-19 00:00:00.000000</td>\n",
       "      <td>14.34</td>\n",
       "      <td>14.60</td>\n",
       "      <td>14.3000</td>\n",
       "      <td>14.360</td>\n",
       "      <td>3944657</td>\n",
       "      <td>-0.001043</td>\n",
       "    </tr>\n",
       "    <tr>\n",
       "      <th>2</th>\n",
       "      <td>2016-12-20 00:00:00.000000</td>\n",
       "      <td>39.61</td>\n",
       "      <td>39.74</td>\n",
       "      <td>39.26</td>\n",
       "      <td>39.74</td>\n",
       "      <td>2940991</td>\n",
       "      <td>0.007351</td>\n",
       "      <td>2016-12-20 00:00:00.000000</td>\n",
       "      <td>23.75</td>\n",
       "      <td>23.94</td>\n",
       "      <td>...</td>\n",
       "      <td>243.10</td>\n",
       "      <td>3268700</td>\n",
       "      <td>0.016602</td>\n",
       "      <td>2016-12-20 00:00:00.000000</td>\n",
       "      <td>14.73</td>\n",
       "      <td>14.82</td>\n",
       "      <td>14.4100</td>\n",
       "      <td>14.490</td>\n",
       "      <td>5207412</td>\n",
       "      <td>0.009053</td>\n",
       "    </tr>\n",
       "    <tr>\n",
       "      <th>3</th>\n",
       "      <td>2016-12-21 00:00:00.000000</td>\n",
       "      <td>39.84</td>\n",
       "      <td>40.74</td>\n",
       "      <td>39.82</td>\n",
       "      <td>40.09</td>\n",
       "      <td>5826704</td>\n",
       "      <td>0.008807</td>\n",
       "      <td>2016-12-21 00:00:00.000000</td>\n",
       "      <td>23.90</td>\n",
       "      <td>23.97</td>\n",
       "      <td>...</td>\n",
       "      <td>241.42</td>\n",
       "      <td>2604678</td>\n",
       "      <td>-0.006911</td>\n",
       "      <td>2016-12-21 00:00:00.000000</td>\n",
       "      <td>14.45</td>\n",
       "      <td>14.54</td>\n",
       "      <td>14.2701</td>\n",
       "      <td>14.380</td>\n",
       "      <td>3901738</td>\n",
       "      <td>-0.007591</td>\n",
       "    </tr>\n",
       "    <tr>\n",
       "      <th>4</th>\n",
       "      <td>2016-12-22 00:00:00.000000</td>\n",
       "      <td>40.04</td>\n",
       "      <td>40.09</td>\n",
       "      <td>39.54</td>\n",
       "      <td>39.68</td>\n",
       "      <td>4338385</td>\n",
       "      <td>-0.010227</td>\n",
       "      <td>2016-12-22 00:00:00.000000</td>\n",
       "      <td>23.90</td>\n",
       "      <td>24.01</td>\n",
       "      <td>...</td>\n",
       "      <td>240.17</td>\n",
       "      <td>2026506</td>\n",
       "      <td>-0.005178</td>\n",
       "      <td>2016-12-22 00:00:00.000000</td>\n",
       "      <td>14.33</td>\n",
       "      <td>14.34</td>\n",
       "      <td>13.9301</td>\n",
       "      <td>14.040</td>\n",
       "      <td>3874004</td>\n",
       "      <td>-0.023644</td>\n",
       "    </tr>\n",
       "  </tbody>\n",
       "</table>\n",
       "<p>5 rows × 28 columns</p>\n",
       "</div>"
      ],
      "text/plain": [
       "                         time   open   high    low  close   volume  \\\n",
       "0  2016-12-16 00:00:00.000000  39.90  39.90  39.12  39.32  7298861   \n",
       "1  2016-12-19 00:00:00.000000  39.40  39.80  39.11  39.45  3436478   \n",
       "2  2016-12-20 00:00:00.000000  39.61  39.74  39.26  39.74  2940991   \n",
       "3  2016-12-21 00:00:00.000000  39.84  40.74  39.82  40.09  5826704   \n",
       "4  2016-12-22 00:00:00.000000  40.04  40.09  39.54  39.68  4338385   \n",
       "\n",
       "   daily_returns                        time   open   high  ...   close  \\\n",
       "0      -0.005564  2016-12-16 00:00:00.000000  24.41  24.73  ...  238.94   \n",
       "1       0.003306  2016-12-19 00:00:00.000000  24.00  24.01  ...  239.13   \n",
       "2       0.007351  2016-12-20 00:00:00.000000  23.75  23.94  ...  243.10   \n",
       "3       0.008807  2016-12-21 00:00:00.000000  23.90  23.97  ...  241.42   \n",
       "4      -0.010227  2016-12-22 00:00:00.000000  23.90  24.01  ...  240.17   \n",
       "\n",
       "    volume  daily_returns                        time   open   high      low  \\\n",
       "0  5017963      -0.016708  2016-12-16 00:00:00.000000  14.29  14.47  14.2300   \n",
       "1  2970314       0.000795  2016-12-19 00:00:00.000000  14.34  14.60  14.3000   \n",
       "2  3268700       0.016602  2016-12-20 00:00:00.000000  14.73  14.82  14.4100   \n",
       "3  2604678      -0.006911  2016-12-21 00:00:00.000000  14.45  14.54  14.2701   \n",
       "4  2026506      -0.005178  2016-12-22 00:00:00.000000  14.33  14.34  13.9301   \n",
       "\n",
       "    close   volume  daily_returns  \n",
       "0  14.375  4516341       0.017339  \n",
       "1  14.360  3944657      -0.001043  \n",
       "2  14.490  5207412       0.009053  \n",
       "3  14.380  3901738      -0.007591  \n",
       "4  14.040  3874004      -0.023644  \n",
       "\n",
       "[5 rows x 28 columns]"
      ]
     },
     "execution_count": 137,
     "metadata": {},
     "output_type": "execute_result"
    }
   ],
   "source": [
    "# Create a SQL query to join each table in the portfolio into a single DataFrame \n",
    "# Use the time column from each table as the basis for the join\n",
    "query = \"\"\"\n",
    "SELECT *\n",
    "FROM PYPL\n",
    "JOIN GDOT ON PYPL.time = GDOT.time\n",
    "JOIN GS ON PYPL.time = GS.time\n",
    "JOIN SQ ON PYPL.time = SQ.time\n",
    "\"\"\"\n",
    "\n",
    "\n",
    "# Using the query, read the data from the database into a Pandas DataFrame\n",
    "etf_portfolio = pd.read_sql(query, con=engine)\n",
    "\n",
    "# Review the resulting DataFrame\n",
    "etf_portfolio.head()\n"
   ]
  },
  {
   "cell_type": "markdown",
   "metadata": {},
   "source": [
    "### Step 2: Create a DataFrame that averages the “daily_returns” columns for all four assets. Review the resulting DataFrame."
   ]
  },
  {
   "cell_type": "code",
   "execution_count": 138,
   "metadata": {
    "scrolled": true
   },
   "outputs": [
    {
     "data": {
      "text/plain": [
       "0   -0.007038\n",
       "1   -0.001216\n",
       "2    0.008567\n",
       "3   -0.001004\n",
       "4   -0.008243\n",
       "dtype: float64"
      ]
     },
     "execution_count": 138,
     "metadata": {},
     "output_type": "execute_result"
    }
   ],
   "source": [
    "# Create a DataFrame that displays the mean value of the “daily_returns” columns for all four assets.\n",
    "etf_portfolio_returns = etf_portfolio[\"daily_returns\"].mean(axis=1)\n",
    "\n",
    "# Review the resulting DataFrame\n",
    "etf_portfolio_returns.head()\n"
   ]
  },
  {
   "cell_type": "markdown",
   "metadata": {},
   "source": [
    "### Step 3: Use the average daily returns in the etf_portfolio_returns DataFrame to calculate the annualized returns for the portfolio. Display the annualized return value of the ETF portfolio."
   ]
  },
  {
   "cell_type": "code",
   "execution_count": 139,
   "metadata": {},
   "outputs": [
    {
     "data": {
      "text/plain": [
       "43.83"
      ]
     },
     "execution_count": 139,
     "metadata": {},
     "output_type": "execute_result"
    }
   ],
   "source": [
    "# Use the average daily returns provided by the etf_portfolio_returns DataFrame \n",
    "# to calculate the annualized return for the portfolio. \n",
    "annualized_etf_portfolio_returns = round((etf_portfolio_returns.mean() * 252) * 100, 2)\n",
    "\n",
    "# Display the annualized return value of the ETF portfolio.\n",
    "annualized_etf_portfolio_returns\n"
   ]
  },
  {
   "cell_type": "markdown",
   "metadata": {},
   "source": [
    "### Step 4: Use the average daily returns in the `etf_portfolio_returns` DataFrame to calculate the cumulative returns of the ETF portfolio."
   ]
  },
  {
   "cell_type": "code",
   "execution_count": 140,
   "metadata": {},
   "outputs": [
    {
     "data": {
      "text/plain": [
       "0    0.99\n",
       "1    0.99\n",
       "2    1.00\n",
       "3    1.00\n",
       "4    0.99\n",
       "dtype: float64"
      ]
     },
     "execution_count": 140,
     "metadata": {},
     "output_type": "execute_result"
    }
   ],
   "source": [
    "# Use the average daily returns provided by the etf_portfolio_returns DataFrame \n",
    "# to calculate the cumulative returns\n",
    "etf_cumulative_returns = round((1 + etf_portfolio_returns).cumprod(), 2)\n",
    "\n",
    "# Display the final cumulative return value\n",
    "etf_cumulative_returns.head()\n"
   ]
  },
  {
   "cell_type": "markdown",
   "metadata": {},
   "source": [
    "### Step 5: Using hvPlot, create an interactive line plot that visualizes the cumulative return values of the ETF portfolio. Reflect the “time” column of the DataFrame on the x-axis. Make sure that you professionally style and format your visualization to enhance its readability."
   ]
  },
  {
   "cell_type": "code",
   "execution_count": 144,
   "metadata": {},
   "outputs": [
    {
     "data": {},
     "metadata": {},
     "output_type": "display_data"
    },
    {
     "data": {
      "application/vnd.holoviews_exec.v0+json": "",
      "text/html": [
       "<div id='5935'>\n",
       "\n",
       "\n",
       "\n",
       "\n",
       "\n",
       "  <div class=\"bk-root\" id=\"4616cd75-a787-4f55-a51a-ecc14c7f1e75\" data-root-id=\"5935\"></div>\n",
       "</div>\n",
       "<script type=\"application/javascript\">(function(root) {\n",
       "  function embed_document(root) {\n",
       "    var docs_json = {\"8a03fa39-4baf-4692-94d6-74490fa0f3a8\":{\"defs\":[{\"extends\":null,\"module\":null,\"name\":\"ReactiveHTML1\",\"overrides\":[],\"properties\":[]},{\"extends\":null,\"module\":null,\"name\":\"FlexBox1\",\"overrides\":[],\"properties\":[{\"default\":\"flex-start\",\"kind\":null,\"name\":\"align_content\"},{\"default\":\"flex-start\",\"kind\":null,\"name\":\"align_items\"},{\"default\":\"row\",\"kind\":null,\"name\":\"flex_direction\"},{\"default\":\"wrap\",\"kind\":null,\"name\":\"flex_wrap\"},{\"default\":\"flex-start\",\"kind\":null,\"name\":\"justify_content\"}]},{\"extends\":null,\"module\":null,\"name\":\"TemplateActions1\",\"overrides\":[],\"properties\":[{\"default\":0,\"kind\":null,\"name\":\"open_modal\"},{\"default\":0,\"kind\":null,\"name\":\"close_modal\"}]},{\"extends\":null,\"module\":null,\"name\":\"MaterialTemplateActions1\",\"overrides\":[],\"properties\":[{\"default\":0,\"kind\":null,\"name\":\"open_modal\"},{\"default\":0,\"kind\":null,\"name\":\"close_modal\"}]}],\"roots\":{\"references\":[{\"attributes\":{},\"id\":\"5947\",\"type\":\"LinearScale\"},{\"attributes\":{},\"id\":\"5961\",\"type\":\"ResetTool\"},{\"attributes\":{\"line_color\":\"#30a2da\",\"line_width\":2,\"x\":{\"field\":\"time\"},\"y\":{\"field\":\"0\"}},\"id\":\"5973\",\"type\":\"Line\"},{\"attributes\":{},\"id\":\"5980\",\"type\":\"BasicTickFormatter\"},{\"attributes\":{\"axis_label\":\"time\",\"formatter\":{\"id\":\"5980\"},\"major_label_orientation\":1.5707963267948966,\"major_label_policy\":{\"id\":\"5979\"},\"ticker\":{\"id\":\"5950\"}},\"id\":\"5949\",\"type\":\"LinearAxis\"},{\"attributes\":{},\"id\":\"5992\",\"type\":\"UnionRenderers\"},{\"attributes\":{\"axis\":{\"id\":\"5953\"},\"dimension\":1,\"grid_line_color\":null,\"ticker\":null},\"id\":\"5956\",\"type\":\"Grid\"},{\"attributes\":{},\"id\":\"5950\",\"type\":\"BasicTicker\"},{\"attributes\":{\"children\":[{\"id\":\"5936\"},{\"id\":\"5940\"},{\"id\":\"6005\"}],\"margin\":[0,0,0,0],\"name\":\"Row08224\",\"tags\":[\"embedded\"]},\"id\":\"5935\",\"type\":\"Row\"},{\"attributes\":{\"axis\":{\"id\":\"5949\"},\"grid_line_color\":null,\"ticker\":null},\"id\":\"5952\",\"type\":\"Grid\"},{\"attributes\":{},\"id\":\"5954\",\"type\":\"BasicTicker\"},{\"attributes\":{\"data\":{\"0\":{\"__ndarray__\":\"rkfhehSu7z+uR+F6FK7vPwAAAAAAAPA/AAAAAAAA8D+uR+F6FK7vP65H4XoUru8/rkfhehSu7z+uR+F6FK7vP1yPwvUoXO8/XI/C9Shc7z+uR+F6FK7vPylcj8L1KPA/UrgehetR8D97FK5H4XrwP3sUrkfhevA/exSuR+F68D97FK5H4XrwP3sUrkfhevA/exSuR+F68D9SuB6F61HwP1K4HoXrUfA/UrgehetR8D97FK5H4XrwP1K4HoXrUfA/exSuR+F68D+kcD0K16PwP6RwPQrXo/A/exSuR+F68D9SuB6F61HwP1K4HoXrUfA/KVyPwvUo8D8pXI/C9SjwP1K4HoXrUfA/UrgehetR8D9SuB6F61HwP3sUrkfhevA/pHA9Ctej8D+kcD0K16PwP83MzMzMzPA/zczMzMzM8D/NzMzMzMzwP6RwPQrXo/A/zczMzMzM8D/2KFyPwvXwPx+F61G4HvE/FK5H4XoU8j89CtejcD3yP2ZmZmZmZvI/FK5H4XoU8j89CtejcD3yPz0K16NwPfI/FK5H4XoU8j8UrkfhehTyPxSuR+F6FPI/FK5H4XoU8j89CtejcD3yPxSuR+F6FPI/FK5H4XoU8j9mZmZmZmbyP4/C9Shcj/I/uB6F61G48j+PwvUoXI/yP4/C9Shcj/I/FK5H4XoU8j8UrkfhehTyPz0K16NwPfI/FK5H4XoU8j89CtejcD3yP2ZmZmZmZvI/PQrXo3A98j9mZmZmZmbyP2ZmZmZmZvI/PQrXo3A98j89CtejcD3yPxSuR+F6FPI/PQrXo3A98j8UrkfhehTyPz0K16NwPfI/PQrXo3A98j89CtejcD3yPxSuR+F6FPI/PQrXo3A98j8UrkfhehTyPxSuR+F6FPI/ZmZmZmZm8j9mZmZmZmbyP7gehetRuPI/4XoUrkfh8j/hehSuR+HyPzMzMzMzM/M/MzMzMzMz8z9cj8L1KFzzP4XrUbgehfM/XI/C9Shc8z/Xo3A9CtfzP9ejcD0K1/M/rkfhehSu8z+uR+F6FK7zPwAAAAAAAPQ/AAAAAAAA9D8AAAAAAAD0Pylcj8L1KPQ/UrgehetR9D+uR+F6FK7zP65H4XoUrvM/16NwPQrX8z8pXI/C9Sj0P3sUrkfhevQ/zczMzMzM9D/NzMzMzMz0P83MzMzMzPQ/zczMzMzM9D/NzMzMzMz0Px+F61G4HvU/SOF6FK5H9T9I4XoUrkf1P5qZmZmZmfU/mpmZmZmZ9T8UrkfhehT2P8P1KFyPwvU/w/UoXI/C9T/D9Shcj8L1P8P1KFyPwvU/w/UoXI/C9T+amZmZmZn1PxSuR+F6FPY/w/UoXI/C9T/sUbgehev1P+xRuB6F6/U/7FG4HoXr9T/D9Shcj8L1P3E9CtejcPU/FK5H4XoU9j+amZmZmZn1P5qZmZmZmfU/mpmZmZmZ9T8UrkfhehT2P8P1KFyPwvU/7FG4HoXr9T8UrkfhehT2P4/C9Shcj/Y/4XoUrkfh9j8K16NwPQr3PwrXo3A9Cvc/CtejcD0K9z8zMzMzMzP3PwrXo3A9Cvc/CtejcD0K9z8K16NwPQr3PwrXo3A9Cvc/MzMzMzMz9z9cj8L1KFz3PzMzMzMzM/c/MzMzMzMz9z8zMzMzMzP3P1yPwvUoXPc/MzMzMzMz9z+4HoXrUbj2PwrXo3A9Cvc/MzMzMzMz9z9cj8L1KFz3Pylcj8L1KPg/rkfhehSu9z9cj8L1KFz3P9ejcD0K1/c/16NwPQrX9z8AAAAAAAD4P65H4XoUrvc/rkfhehSu9z+uR+F6FK73PwAAAAAAAPg/AAAAAAAA+D8pXI/C9Sj4PwAAAAAAAPg/AAAAAAAA+D8AAAAAAAD4P1K4HoXrUfg/exSuR+F6+D97FK5H4Xr4Pylcj8L1KPg/KVyPwvUo+D9SuB6F61H4P1K4HoXrUfg/9ihcj8L1+D/2KFyPwvX4P/YoXI/C9fg/H4XrUbge+T8fhetRuB75P0jhehSuR/k/mpmZmZmZ+T+amZmZmZn5P5qZmZmZmfk/w/UoXI/C+T8fhetRuB75Px+F61G4Hvk/w/UoXI/C+T/sUbgehev5P+xRuB6F6/k/PQrXo3A9+j+PwvUoXI/6P4/C9Shcj/o/MzMzMzMz+z9cj8L1KFz7P4XrUbgehfs/hetRuB6F+z/Xo3A9Ctf7PwAAAAAAAPw/16NwPQrX+z8AAAAAAAD8P65H4XoUrvs/16NwPQrX+z+uR+F6FK77P1K4HoXrUfw/KVyPwvUo/D97FK5H4Xr8P6RwPQrXo/w/9ihcj8L1/D8fhetRuB79Px+F61G4Hv0/w/UoXI/C/T+amZmZmZn9P5qZmZmZmf0/w/UoXI/C/T8UrkfhehT+P5qZmZmZmf0/4XoUrkfh/j8K16NwPQr/PzMzMzMzM/8/MzMzMzMz/z8K16NwPQr/PwrXo3A9Cv8/16NwPQrX/z8UrkfhehQAQClcj8L1KABAj8L1KFyPAECPwvUoXI8AQKRwPQrXowBArkfhehSu/z8UrkfhehQAQArXo3A9Cv8/hetRuB6F/z8zMzMzMzP/P2ZmZmZmZv4/ZmZmZmZm/j+4HoXrUbj+PwrXo3A9Cv8/CtejcD0K/z8K16NwPQr/P1yPwvUoXP8/4XoUrkfh/j/hehSuR+H+PzMzMzMzM/8/rkfhehSu/z8zMzMzMzP/P7gehetRuP4/CtejcD0K/z/hehSuR+H+P7gehetRuP4/4XoUrkfh/j+4HoXrUbj+P2ZmZmZmZv4/uB6F61G4/j8zMzMzMzP/P65H4XoUrv8/UrgehetRAEA9CtejcD0AQD0K16NwPQBAKVyPwvUoAEBmZmZmZmYAQGZmZmZmZgBAFK5H4XoUAEA9CtejcD0AQFK4HoXrUQBAuB6F61G4AEAfhetRuB4BQB+F61G4HgFACtejcD0KAUAzMzMzMzMBQHE9CtejcAFASOF6FK5HAUAzMzMzMzMBQFyPwvUoXAFA4XoUrkfhAEBSuB6F61EAQFyPwvUoXP8/16NwPQrX/z/Xo3A9Ctf/P4/C9Shcj/4/4XoUrkfh/j8zMzMzMzP/PwAAAAAAAABAUrgehetRAECkcD0K16MAQKRwPQrXowBApHA9CtejAEB7FK5H4XoAQArXo3A9CgFAMzMzMzMzAUBxPQrXo3ABQEjhehSuRwFAMzMzMzMzAUAK16NwPQoBQB+F61G4HgFAmpmZmZmZAUCuR+F6FK4BQMP1KFyPwgFAAAAAAAAAAkApXI/C9SgCQFK4HoXrUQJAAAAAAAAAAkBmZmZmZmYCQFK4HoXrUQJAZmZmZmZmAkAUrkfhehQCQHsUrkfhegJAUrgehetRAkDD9Shcj8IBQEjhehSuRwFAAAAAAAAAAkAzMzMzMzMBQLgehetRuABACtejcD0KAUCkcD0K16MAQLgehetRuABAzczMzMzMAEAK16NwPQoBQHsUrkfhegBAj8L1KFyPAEAK16NwPQoBQOF6FK5H4QBAMzMzMzMzAUD2KFyPwvUAQPYoXI/C9QBASOF6FK5HAUBxPQrXo3ABQFyPwvUoXAFAXI/C9ShcAUAfhetRuB4BQGZmZmZmZgBAKVyPwvUoAEB7FK5H4XoAQGZmZmZmZgBAZmZmZmZmAEB7FK5H4XoAQFK4HoXrUQBAZmZmZmZmAEB7FK5H4XoAQM3MzMzMzABAH4XrUbgeAUBcj8L1KFwBQClcj8L1KAJAKVyPwvUoAkApXI/C9SgCQBSuR+F6FAJAKVyPwvUoAkAUrkfhehQCQBSuR+F6FAJAZmZmZmZmAkAUrkfhehQCQClcj8L1KAJAPQrXo3A9AkApXI/C9SgCQBSuR+F6FAJAUrgehetRAkA9CtejcD0CQI/C9ShcjwJA4XoUrkfhAkD2KFyPwvUCQB+F61G4HgNA4XoUrkfhAkAfhetRuB4DQB+F61G4HgNAXI/C9ShcA0Bcj8L1KFwDQHE9CtejcANAcT0K16NwA0CamZmZmZkDQFyPwvUoXANAmpmZmZmZA0CF61G4HoUDQFyPwvUoXANApHA9CtejAkC4HoXrUbgCQD0K16NwPQJAexSuR+F6AkCPwvUoXI8CQOF6FK5H4QJAuB6F61G4AkAK16NwPQoDQEjhehSuRwNAhetRuB6FA0BxPQrXo3ADQHE9CtejcANA7FG4HoXrA0CuR+F6FK4DQMP1KFyPwgNAAAAAAAAABEApXI/C9SgEQClcj8L1KARAPQrXo3A9BECPwvUoXI8EQI/C9ShcjwRA4XoUrkfhBEC4HoXrUbgEQClcj8L1KARAmpmZmZmZA0CF61G4HoUDQMP1KFyPwgNAZmZmZmZmBEDsUbgehesDQClcj8L1KARAUrgehetRBEBSuB6F61EEQFK4HoXrUQRAUrgehetRBEBSuB6F61EEQLgehetRuARAUrgehetRBECPwvUoXI8EQKRwPQrXowRAuB6F61G4BED2KFyPwvUEQB+F61G4HgVAH4XrUbgeBUBcj8L1KFwFQIXrUbgehQVArkfhehSuBUAUrkfhehQGQClcj8L1KAZAPQrXo3A9BkBmZmZmZmYGQNejcD0K1wVA16NwPQrXBUAAAAAAAAAGQAAAAAAAAAZAPQrXo3A9BkAUrkfhehQGQClcj8L1KAZAZmZmZmZmBkDXo3A9CtcFQBSuR+F6FAZA16NwPQrXBUApXI/C9SgGQAAAAAAAAAZA16NwPQrXBUCPwvUoXI8GQGZmZmZmZgZAj8L1KFyPBkB7FK5H4XoGQFK4HoXrUQZAUrgehetRBkBSuB6F61EGQMP1KFyPwgVAmpmZmZmZBUDhehSuR+EEQLgehetRuARAcT0K16NwA0C4HoXrUbgCQEjhehSuRwNASOF6FK5HA0ApXI/C9SgEQBSuR+F6FARAmpmZmZmZA0AUrkfhehQEQClcj8L1KARAFK5H4XoUBEAfhetRuB4DQNejcD0K1wNAXI/C9ShcA0DhehSuR+ECQB+F61G4HgNAAAAAAAAABEBmZmZmZmYEQHsUrkfhegRAUrgehetRBECkcD0K16MEQK5H4XoUrgVAmpmZmZmZBUC4HoXrUbgEQJqZmZmZmQNAmpmZmZmZA0CF61G4HoUDQClcj8L1KARA7FG4HoXrA0CPwvUoXI8CQOxRuB6F6wFAUrgehetRAkA9CtejcD0CQOF6FK5H4QJA4XoUrkfhAkDD9Shcj8IDQHE9CtejcANAhetRuB6FA0DXo3A9CtcDQKRwPQrXowJA4XoUrkfhAkA9CtejcD0CQI/C9ShcjwJAZmZmZmZmAkC4HoXrUbgCQKRwPQrXowJAZmZmZmZmAkDD9Shcj8IBQBSuR+F6FAJAw/UoXI/CAUAzMzMzMzMBQGZmZmZmZgBAFK5H4XoUAEAzMzMzMzMBQHE9CtejcAFASOF6FK5HAUCF61G4HoUBQNejcD0K1wFACtejcD0KAUApXI/C9SgCQFK4HoXrUQJApHA9CtejAkAK16NwPQoDQB+F61G4HgNAMzMzMzMzA0AzMzMzMzMDQFyPwvUoXANAhetRuB6FA0DD9Shcj8IDQClcj8L1KARAhetRuB6FA0DD9Shcj8IDQD0K16NwPQRApHA9CtejBEBmZmZmZmYEQIXrUbgehQNAAAAAAAAABECamZmZmZkDQK5H4XoUrgNA16NwPQrXA0DsUbgehesDQMP1KFyPwgNAhetRuB6FA0CamZmZmZkDQK5H4XoUrgNAKVyPwvUoBEApXI/C9SgEQAAAAAAAAARAPQrXo3A9BEBSuB6F61EEQD0K16NwPQRAmpmZmZmZA0DD9Shcj8IDQMP1KFyPwgNArkfhehSuA0DsUbgehesDQAAAAAAAAARA16NwPQrXA0BI4XoUrkcDQEjhehSuRwNA9ihcj8L1AkDNzMzMzMwCQOF6FK5H4QJAH4XrUbgeA0AzMzMzMzMDQEjhehSuRwNAXI/C9ShcA0BxPQrXo3ADQIXrUbgehQNArkfhehSuA0CF61G4HoUDQOxRuB6F6wNAMzMzMzMzA0Bcj8L1KFwDQEjhehSuRwNAMzMzMzMzA0BxPQrXo3ADQIXrUbgehQNA7FG4HoXrA0DXo3A9CtcDQAAAAAAAAARA16NwPQrXA0AAAAAAAAAEQAAAAAAAAARAAAAAAAAABEAUrkfhehQEQBSuR+F6FARAUrgehetRBEAAAAAAAAAEQOxRuB6F6wNAAAAAAAAABEDD9Shcj8IDQNejcD0K1wNA7FG4HoXrA0DXo3A9CtcDQBSuR+F6FARAFK5H4XoUBEB7FK5H4XoEQGZmZmZmZgRAUrgehetRBEAAAAAAAAAEQFK4HoXrUQRAUrgehetRBEDXo3A9CtcDQK5H4XoUrgNAZmZmZmZmAkCkcD0K16MCQNejcD0K1wFAKVyPwvUoAkBSuB6F61ECQKRwPQrXowJAj8L1KFyPAkBmZmZmZmYCQI/C9ShcjwJApHA9CtejAkApXI/C9SgCQFK4HoXrUQJAPQrXo3A9AkDsUbgehesBQAAAAAAAAAJAmpmZmZmZAUBxPQrXo3ABQClcj8L1KAJAUrgehetRAkBmZmZmZmYCQLgehetRuAJAMzMzMzMzA0AK16NwPQoDQPYoXI/C9QJAH4XrUbgeA0AK16NwPQoDQB+F61G4HgNAH4XrUbgeA0AfhetRuB4DQFyPwvUoXANAH4XrUbgeA0AfhetRuB4DQM3MzMzMzAJA4XoUrkfhAkAK16NwPQoDQFyPwvUoXANAcT0K16NwA0CF61G4HoUDQK5H4XoUrgNArkfhehSuA0CF61G4HoUDQOxRuB6F6wNAAAAAAAAABEApXI/C9SgEQHsUrkfhegRAZmZmZmZmBEBSuB6F61EEQClcj8L1KARAUrgehetRBEAAAAAAAAAEQAAAAAAAAARAPQrXo3A9BECPwvUoXI8EQBSuR+F6FARAZmZmZmZmBEApXI/C9SgEQFK4HoXrUQRAPQrXo3A9BEAAAAAAAAAEQPYoXI/C9QJAKVyPwvUoAkA9CtejcD0CQGZmZmZmZgJApHA9CtejAEDNzMzMzMwAQClcj8L1KABAj8L1KFyPAEApXI/C9SgAQGZmZmZmZgBAj8L1KFyPAEDhehSuR+EAQM3MzMzMzABAMzMzMzMzAUAfhetRuB4BQGZmZmZmZgBAzczMzMzMAECkcD0K16MAQLgehetRuABA4XoUrkfhAEDNzMzMzMwAQHsUrkfhegBAj8L1KFyPAEDNzMzMzMwAQI/C9ShcjwBAexSuR+F6AEBSuB6F61EAQHsUrkfhegBAZmZmZmZmAEBSuB6F61EAQHsUrkfhegBAZmZmZmZmAEBmZmZmZmYAQFK4HoXrUQBAPQrXo3A9AEAUrkfhehQAQK5H4XoUrv8/AAAAAAAAAEDXo3A9Ctf/P65H4XoUrv8/16NwPQrX/z9cj8L1KFz/P2ZmZmZmZv4/uB6F61G4/j8zMzMzMzP/P+F6FK5H4f4/FK5H4XoU/j9mZmZmZmb+P7gehetRuP4/XI/C9Shc/z+F61G4HoX/PwAAAAAAAABArkfhehSu/z/Xo3A9Ctf/PzMzMzMzM/8/hetRuB6F/z8K16NwPQr/PzMzMzMzM/8/AAAAAAAAAEBSuB6F61EAQHsUrkfhegBAUrgehetRAED2KFyPwvUAQKRwPQrXowBA4XoUrkfhAEDhehSuR+EAQLgehetRuABAuB6F61G4AEAfhetRuB4BQD0K16NwPQBAUrgehetRAEBmZmZmZmYAQD0K16NwPQBAexSuR+F6AECPwvUoXI8AQHsUrkfhegBAj8L1KFyPAEB7FK5H4XoAQGZmZmZmZgBAexSuR+F6AECPwvUoXI8AQKRwPQrXowBA4XoUrkfhAEC4HoXrUbgAQGZmZmZmZgBAZmZmZmZmAECkcD0K16MAQI/C9ShcjwBAzczMzMzMAEC4HoXrUbgAQI/C9ShcjwBApHA9CtejAED2KFyPwvUAQPYoXI/C9QBAMzMzMzMzAUAzMzMzMzMBQArXo3A9CgFAj8L1KFyPAEB7FK5H4XoAQGZmZmZmZgBAexSuR+F6AECkcD0K16MAQI/C9ShcjwBAUrgehetRAEB7FK5H4XoAQLgehetRuABAexSuR+F6AECkcD0K16MAQM3MzMzMzABAH4XrUbgeAUBcj8L1KFwBQFyPwvUoXAFAmpmZmZmZAUCuR+F6FK4BQNejcD0K1wFAAAAAAAAAAkAUrkfhehQCQAAAAAAAAAJAUrgehetRAkCPwvUoXI8CQI/C9ShcjwJAexSuR+F6AkD2KFyPwvUCQOF6FK5H4QJACtejcD0KA0C4HoXrUbgCQHE9CtejcANAKVyPwvUoBEAAAAAAAAAEQBSuR+F6FARA7FG4HoXrA0DXo3A9CtcDQMP1KFyPwgNA7FG4HoXrA0AAAAAAAAAEQClcj8L1KARAKVyPwvUoBECkcD0K16MEQLgehetRuARAUrgehetRBEDXo3A9CtcDQArXo3A9CgNA4XoUrkfhAkC4HoXrUbgCQOF6FK5H4QJAH4XrUbgeA0CkcD0K16MCQArXo3A9CgNAexSuR+F6AkCuR+F6FK4BQFK4HoXrUQBAH4XrUbgeAUAAAAAAAAAAQFyPwvUoXPs/KVyPwvUoAEDhehSuR+H6P65H4XoUrvs/hetRuB6F9z9I4XoUrkf5P4XrUbgehfc/hetRuB6F9z/hehSuR+H6P6RwPQrXo/w/4XoUrkfh/j+amZmZmZn9PxSuR+F6FP4/H4XrUbge/T+4HoXrUbj6P+F6FK5H4fo/PQrXo3A9+j/NzMzMzMz8P3E9CtejcP0/rkfhehSu/z9mZmZmZmYAQClcj8L1KABAexSuR+F6AEApXI/C9SgAQNejcD0K1/8/zczMzMzMAECPwvUoXI8AQNejcD0K1/8/zczMzMzMAED2KFyPwvUAQB+F61G4HgFArkfhehSuAUCamZmZmZkBQHsUrkfhegJAAAAAAAAAAkBI4XoUrkcBQFyPwvUoXAFA16NwPQrXAUDXo3A9CtcBQFyPwvUoXANArkfhehSuA0BxPQrXo3ADQNejcD0K1wNASOF6FK5HA0AAAAAAAAAEQAAAAAAAAARAj8L1KFyPBECPwvUoXI8EQEjhehSuRwVACtejcD0KBUAfhetRuB4FQFyPwvUoXAVAw/UoXI/CBUBI4XoUrkcFQNejcD0K1wVAAAAAAAAABkCPwvUoXI8GQB+F61G4HgdA9ihcj8L1BkBcj8L1KFwHQFyPwvUoXAdAXI/C9ShcB0BI4XoUrkcHQJqZmZmZmQVAw/UoXI/CBUC4HoXrUbgGQHE9CtejcAdAhetRuB6FB0DsUbgehesHQIXrUbgehQdApHA9CtejCEBI4XoUrkcJQHsUrkfheghAcT0K16NwCUDhehSuR+EIQB+F61G4HglArkfhehSuCUCkcD0K16MKQGZmZmZmZgpAMzMzMzMzC0BI4XoUrkcLQOxRuB6F6wtAhetRuB6FC0CF61G4HoULQLgehetRuApASOF6FK5HC0CamZmZmZkLQDMzMzMzMwtAcT0K16NwC0ApXI/C9SgMQNejcD0K1wtAFK5H4XoUDEBxPQrXo3ALQArXo3A9CgtAw/UoXI/CC0Bcj8L1KFwLQBSuR+F6FAxAKVyPwvUoDEA9CtejcD0MQM3MzMzMzAxAMzMzMzMzDUBSuB6F61EOQLgehetRuA5A7FG4HoXrDUAzMzMzMzMNQOF6FK5H4QxAH4XrUbgeDUCF61G4HoUNQFyPwvUoXA1AKVyPwvUoDkDXo3A9CtcNQJqZmZmZmQ1AFK5H4XoUDkApXI/C9SgOQFK4HoXrUQ5Aj8L1KFyPDkB7FK5H4XoOQM3MzMzMzA5AzczMzMzMDkCPwvUoXI8OQJqZmZmZmQ9AmpmZmZmZD0B7FK5H4XoOQIXrUbgehQ1AZmZmZmZmDEAzMzMzMzMNQKRwPQrXowxAPQrXo3A9DEDhehSuR+EMQB+F61G4Hg1ApHA9CtejDEApXI/C9SgMQBSuR+F6FAxAj8L1KFyPDEAK16NwPQoNQBSuR+F6FAxApHA9CtejDEAzMzMzMzMNQMP1KFyPwg1AAAAAAAAADkA9CtejcD0OQKRwPQrXow5AmpmZmZmZD0BSuB6F61EQQArXo3A9ChBAUrgehetREECamZmZmZkQQLgehetRuBBA7FG4HoXrEEApXI/C9SgRQOF6FK5H4RBA16NwPQrXEECuR+F6FK4QQIXrUbgehRBAmpmZmZmZEEB7FK5H4XoQQEjhehSuRxBAXI/C9ShcEECuR+F6FK4PQJqZmZmZmQ9ApHA9CtejDkD2KFyPwvUOQIXrUbgehQ1AhetRuB6FDUAUrkfhehQOQEjhehSuRw9A7FG4HoXrD0B7FK5H4XoQQArXo3A9ChBAmpmZmZmZD0Bcj8L1KFwQQBSuR+F6FBBACtejcD0KEEAzMzMzMzMQQFyPwvUoXBBAMzMzMzMzEECF61G4HoUQQNejcD0K1xBAZmZmZmZmEUBxPQrXo3ARQOxRuB6F6xFAw/UoXI/CEUB7FK5H4XoRQHE9CtejcBFAUrgehetREUCF61G4HoURQK5H4XoUrhFA\",\"dtype\":\"float64\",\"order\":\"little\",\"shape\":[999]},\"A_0\":{\"__ndarray__\":\"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\",\"dtype\":\"float64\",\"order\":\"little\",\"shape\":[999]},\"time\":[0,1,2,3,4,5,6,7,8,9,10,11,12,13,14,15,16,17,18,19,20,21,22,23,24,25,26,27,28,29,30,31,32,33,34,35,36,37,38,39,40,41,42,43,44,45,46,47,48,49,50,51,52,53,54,55,56,57,58,59,60,61,62,63,64,65,66,67,68,69,70,71,72,73,74,75,76,77,78,79,80,81,82,83,84,85,86,87,88,89,90,91,92,93,94,95,96,97,98,99,100,101,102,103,104,105,106,107,108,109,110,111,112,113,114,115,116,117,118,119,120,121,122,123,124,125,126,127,128,129,130,131,132,133,134,135,136,137,138,139,140,141,142,143,144,145,146,147,148,149,150,151,152,153,154,155,156,157,158,159,160,161,162,163,164,165,166,167,168,169,170,171,172,173,174,175,176,177,178,179,180,181,182,183,184,185,186,187,188,189,190,191,192,193,194,195,196,197,198,199,200,201,202,203,204,205,206,207,208,209,210,211,212,213,214,215,216,217,218,219,220,221,222,223,224,225,226,227,228,229,230,231,232,233,234,235,236,237,238,239,240,241,242,243,244,245,246,247,248,249,250,251,252,253,254,255,256,257,258,259,260,261,262,263,264,265,266,267,268,269,270,271,272,273,274,275,276,277,278,279,280,281,282,283,284,285,286,287,288,289,290,291,292,293,294,295,296,297,298,299,300,301,302,303,304,305,306,307,308,309,310,311,312,313,314,315,316,317,318,319,320,321,322,323,324,325,326,327,328,329,330,331,332,333,334,335,336,337,338,339,340,341,342,343,344,345,346,347,348,349,350,351,352,353,354,355,356,357,358,359,360,361,362,363,364,365,366,367,368,369,370,371,372,373,374,375,376,377,378,379,380,381,382,383,384,385,386,387,388,389,390,391,392,393,394,395,396,397,398,399,400,401,402,403,404,405,406,407,408,409,410,411,412,413,414,415,416,417,418,419,420,421,422,423,424,425,426,427,428,429,430,431,432,433,434,435,436,437,438,439,440,441,442,443,444,445,446,447,448,449,450,451,452,453,454,455,456,457,458,459,460,461,462,463,464,465,466,467,468,469,470,471,472,473,474,475,476,477,478,479,480,481,482,483,484,485,486,487,488,489,490,491,492,493,494,495,496,497,498,499,500,501,502,503,504,505,506,507,508,509,510,511,512,513,514,515,516,517,518,519,520,521,522,523,524,525,526,527,528,529,530,531,532,533,534,535,536,537,538,539,540,541,542,543,544,545,546,547,548,549,550,551,552,553,554,555,556,557,558,559,560,561,562,563,564,565,566,567,568,569,570,571,572,573,574,575,576,577,578,579,580,581,582,583,584,585,586,587,588,589,590,591,592,593,594,595,596,597,598,599,600,601,602,603,604,605,606,607,608,609,610,611,612,613,614,615,616,617,618,619,620,621,622,623,624,625,626,627,628,629,630,631,632,633,634,635,636,637,638,639,640,641,642,643,644,645,646,647,648,649,650,651,652,653,654,655,656,657,658,659,660,661,662,663,664,665,666,667,668,669,670,671,672,673,674,675,676,677,678,679,680,681,682,683,684,685,686,687,688,689,690,691,692,693,694,695,696,697,698,699,700,701,702,703,704,705,706,707,708,709,710,711,712,713,714,715,716,717,718,719,720,721,722,723,724,725,726,727,728,729,730,731,732,733,734,735,736,737,738,739,740,741,742,743,744,745,746,747,748,749,750,751,752,753,754,755,756,757,758,759,760,761,762,763,764,765,766,767,768,769,770,771,772,773,774,775,776,777,778,779,780,781,782,783,784,785,786,787,788,789,790,791,792,793,794,795,796,797,798,799,800,801,802,803,804,805,806,807,808,809,810,811,812,813,814,815,816,817,818,819,820,821,822,823,824,825,826,827,828,829,830,831,832,833,834,835,836,837,838,839,840,841,842,843,844,845,846,847,848,849,850,851,852,853,854,855,856,857,858,859,860,861,862,863,864,865,866,867,868,869,870,871,872,873,874,875,876,877,878,879,880,881,882,883,884,885,886,887,888,889,890,891,892,893,894,895,896,897,898,899,900,901,902,903,904,905,906,907,908,909,910,911,912,913,914,915,916,917,918,919,920,921,922,923,924,925,926,927,928,929,930,931,932,933,934,935,936,937,938,939,940,941,942,943,944,945,946,947,948,949,950,951,952,953,954,955,956,957,958,959,960,961,962,963,964,965,966,967,968,969,970,971,972,973,974,975,976,977,978,979,980,981,982,983,984,985,986,987,988,989,990,991,992,993,994,995,996,997,998]},\"selected\":{\"id\":\"5971\"},\"selection_policy\":{\"id\":\"5992\"}},\"id\":\"5970\",\"type\":\"ColumnDataSource\"},{\"attributes\":{\"axis_label\":\"Daily Returns\",\"formatter\":{\"id\":\"5983\"},\"major_label_policy\":{\"id\":\"5982\"},\"ticker\":{\"id\":\"5954\"}},\"id\":\"5953\",\"type\":\"LinearAxis\"},{\"attributes\":{\"margin\":[5,5,5,5],\"name\":\"HSpacer08228\",\"sizing_mode\":\"stretch_width\"},\"id\":\"5936\",\"type\":\"Spacer\"},{\"attributes\":{\"data_source\":{\"id\":\"5970\"},\"glyph\":{\"id\":\"5973\"},\"hover_glyph\":null,\"muted_glyph\":{\"id\":\"5975\"},\"nonselection_glyph\":{\"id\":\"5974\"},\"selection_glyph\":{\"id\":\"5978\"},\"view\":{\"id\":\"5977\"}},\"id\":\"5976\",\"type\":\"GlyphRenderer\"},{\"attributes\":{},\"id\":\"5971\",\"type\":\"Selection\"},{\"attributes\":{\"line_alpha\":0.2,\"line_color\":\"#30a2da\",\"line_width\":2,\"x\":{\"field\":\"time\"},\"y\":{\"field\":\"0\"}},\"id\":\"5975\",\"type\":\"Line\"},{\"attributes\":{\"margin\":[5,5,5,5],\"name\":\"HSpacer08229\",\"sizing_mode\":\"stretch_width\"},\"id\":\"6005\",\"type\":\"Spacer\"},{\"attributes\":{\"source\":{\"id\":\"5970\"}},\"id\":\"5977\",\"type\":\"CDSView\"},{\"attributes\":{\"end\":4.83,\"reset_end\":4.83,\"reset_start\":0.6299999999999999,\"start\":0.6299999999999999,\"tags\":[[[\"0\",\"0\",null]]]},\"id\":\"5938\",\"type\":\"Range1d\"},{\"attributes\":{\"bottom_units\":\"screen\",\"fill_alpha\":0.5,\"fill_color\":\"lightgrey\",\"left_units\":\"screen\",\"level\":\"overlay\",\"line_alpha\":1.0,\"line_color\":\"black\",\"line_dash\":[4,4],\"line_width\":2,\"right_units\":\"screen\",\"syncable\":false,\"top_units\":\"screen\"},\"id\":\"5962\",\"type\":\"BoxAnnotation\"},{\"attributes\":{\"active_multi\":null,\"tools\":[{\"id\":\"5939\"},{\"id\":\"5957\"},{\"id\":\"5958\"},{\"id\":\"5959\"},{\"id\":\"5960\"},{\"id\":\"5961\"}]},\"id\":\"5963\",\"type\":\"Toolbar\"},{\"attributes\":{\"end\":998.0,\"reset_end\":998.0,\"reset_start\":0.0,\"tags\":[[[\"time\",\"time\",null]]]},\"id\":\"5937\",\"type\":\"Range1d\"},{\"attributes\":{\"below\":[{\"id\":\"5949\"}],\"center\":[{\"id\":\"5952\"},{\"id\":\"5956\"}],\"frame_height\":500,\"frame_width\":900,\"height\":null,\"left\":[{\"id\":\"5953\"}],\"margin\":[5,5,5,5],\"min_border_bottom\":10,\"min_border_left\":10,\"min_border_right\":10,\"min_border_top\":10,\"renderers\":[{\"id\":\"5976\"}],\"sizing_mode\":\"fixed\",\"title\":{\"id\":\"5941\"},\"toolbar\":{\"id\":\"5963\"},\"width\":null,\"x_range\":{\"id\":\"5937\"},\"x_scale\":{\"id\":\"5945\"},\"y_range\":{\"id\":\"5938\"},\"y_scale\":{\"id\":\"5947\"}},\"id\":\"5940\",\"subtype\":\"Figure\",\"type\":\"Plot\"},{\"attributes\":{},\"id\":\"5979\",\"type\":\"AllLabels\"},{\"attributes\":{},\"id\":\"5957\",\"type\":\"SaveTool\"},{\"attributes\":{},\"id\":\"5982\",\"type\":\"AllLabels\"},{\"attributes\":{\"line_alpha\":0.1,\"line_color\":\"#30a2da\",\"line_width\":2,\"x\":{\"field\":\"time\"},\"y\":{\"field\":\"0\"}},\"id\":\"5974\",\"type\":\"Line\"},{\"attributes\":{},\"id\":\"5958\",\"type\":\"PanTool\"},{\"attributes\":{},\"id\":\"5959\",\"type\":\"WheelZoomTool\"},{\"attributes\":{\"line_color\":\"#30a2da\",\"line_width\":2,\"x\":{\"field\":\"time\"},\"y\":{\"field\":\"0\"}},\"id\":\"5978\",\"type\":\"Line\"},{\"attributes\":{\"overlay\":{\"id\":\"5962\"}},\"id\":\"5960\",\"type\":\"BoxZoomTool\"},{\"attributes\":{},\"id\":\"5983\",\"type\":\"BasicTickFormatter\"},{\"attributes\":{\"callback\":null,\"renderers\":[{\"id\":\"5976\"}],\"tags\":[\"hv_created\"],\"tooltips\":[[\"time\",\"@{time}\"],[\"0\",\"@{A_0}\"]]},\"id\":\"5939\",\"type\":\"HoverTool\"},{\"attributes\":{\"text\":\"Cumulative Returns Values for ETF Portfolio (12-16-2016 - 12-04-2020)\",\"text_color\":\"black\",\"text_font_size\":\"12pt\"},\"id\":\"5941\",\"type\":\"Title\"},{\"attributes\":{},\"id\":\"5945\",\"type\":\"LinearScale\"}],\"root_ids\":[\"5935\"]},\"title\":\"Bokeh Application\",\"version\":\"2.3.2\"}};\n",
       "    var render_items = [{\"docid\":\"8a03fa39-4baf-4692-94d6-74490fa0f3a8\",\"root_ids\":[\"5935\"],\"roots\":{\"5935\":\"4616cd75-a787-4f55-a51a-ecc14c7f1e75\"}}];\n",
       "    root.Bokeh.embed.embed_items_notebook(docs_json, render_items);\n",
       "  }\n",
       "  if (root.Bokeh !== undefined && root.Bokeh.Panel !== undefined) {\n",
       "    embed_document(root);\n",
       "  } else {\n",
       "    var attempts = 0;\n",
       "    var timer = setInterval(function(root) {\n",
       "      if (root.Bokeh !== undefined && root.Bokeh.Panel !== undefined) {\n",
       "        clearInterval(timer);\n",
       "        embed_document(root);\n",
       "      } else if (document.readyState == \"complete\") {\n",
       "        attempts++;\n",
       "        if (attempts > 200) {\n",
       "          clearInterval(timer);\n",
       "          console.log(\"Bokeh: ERROR: Unable to run BokehJS code because BokehJS library is missing\");\n",
       "        }\n",
       "      }\n",
       "    }, 25, root)\n",
       "  }\n",
       "})(window);</script>"
      ],
      "text/plain": [
       ":Curve   [time]   (0)"
      ]
     },
     "execution_count": 144,
     "metadata": {
      "application/vnd.holoviews_exec.v0+json": {
       "id": "5935"
      }
     },
     "output_type": "execute_result"
    }
   ],
   "source": [
    "# Using hvplot, create an interactive line plot that visualizes the ETF portfolios cumulative return values.\n",
    "etf_cumulative_returns.hvplot(x= \"time\", ylabel= \"Daily Returns\",\n",
    "                         title= \"Cumulative Returns Values for ETF Portfolio (12-16-2016 - 12-04-2020)\",\n",
    "                         rot= 90,\n",
    "                        frame_height= 500, frame_width= 900)\n"
   ]
  },
  {
   "cell_type": "code",
   "execution_count": null,
   "metadata": {},
   "outputs": [],
   "source": []
  }
 ],
 "metadata": {
  "kernelspec": {
   "display_name": "Python (dev)",
   "language": "python",
   "name": "dev"
  },
  "language_info": {
   "codemirror_mode": {
    "name": "ipython",
    "version": 3
   },
   "file_extension": ".py",
   "mimetype": "text/x-python",
   "name": "python",
   "nbconvert_exporter": "python",
   "pygments_lexer": "ipython3",
   "version": "3.7.7"
  }
 },
 "nbformat": 4,
 "nbformat_minor": 4
}
